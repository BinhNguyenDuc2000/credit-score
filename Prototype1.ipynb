{
 "cells": [
  {
   "cell_type": "markdown",
   "metadata": {},
   "source": [
    "# Ý tưởng của prototype 1\n",
    "Tập chung vào chạy được thuật toán thuật toán decision tree để gán mác \n",
    "\n",
    "Xử lý dữ liệu đơn giản để chạy được thuật toán(Xóa các hàng có giá trị null)"
   ]
  },
  {
   "cell_type": "markdown",
   "metadata": {},
   "source": [
    "# Import thư viện"
   ]
  },
  {
   "cell_type": "code",
   "execution_count": 1,
   "metadata": {
    "id": "uCt3OI-V2GGZ"
   },
   "outputs": [],
   "source": [
    "import pandas as pd\n",
    "import pickle\n",
    "import pandas as pd\n",
    "from pandas import DataFrame\n",
    "import matplotlib.pyplot as plt\n",
    "import numpy as np\n",
    "from sklearn.model_selection import train_test_split, GridSearchCV\n",
    "from sklearn.tree import DecisionTreeClassifier\n",
    "from sklearn.ensemble import RandomForestClassifier\n",
    "from sklearn import metrics\n",
    "from sklearn.model_selection import KFold, StratifiedKFold\n",
    "from sklearn.feature_selection import SequentialFeatureSelector\n",
    "import seaborn as sns\n",
    "import json\n",
    "\n",
    "pd.set_option(\"display.max.columns\", None)"
   ]
  },
  {
   "cell_type": "markdown",
   "metadata": {},
   "source": [
    "# Xử lý dữ liệu"
   ]
  },
  {
   "cell_type": "code",
   "execution_count": 2,
   "metadata": {},
   "outputs": [
    {
     "name": "stderr",
     "output_type": "stream",
     "text": [
      "C:\\Users\\ThinkPad\\AppData\\Local\\Temp\\ipykernel_18732\\2436019669.py:1: DtypeWarning: Columns (26) have mixed types. Specify dtype option on import or set low_memory=False.\n",
      "  df = pd.read_csv('train.csv')\n"
     ]
    }
   ],
   "source": [
    "df = pd.read_csv('train.csv')"
   ]
  },
  {
   "cell_type": "code",
   "execution_count": 3,
   "metadata": {},
   "outputs": [],
   "source": [
    "df.drop(['ID', 'Name', 'SSN'], axis=1, inplace=True)"
   ]
  },
  {
   "cell_type": "code",
   "execution_count": 4,
   "metadata": {},
   "outputs": [
    {
     "name": "stdout",
     "output_type": "stream",
     "text": [
      "<class 'pandas.core.frame.DataFrame'>\n",
      "RangeIndex: 100000 entries, 0 to 99999\n",
      "Data columns (total 25 columns):\n",
      " #   Column                    Non-Null Count   Dtype  \n",
      "---  ------                    --------------   -----  \n",
      " 0   Customer_ID               100000 non-null  object \n",
      " 1   Month                     100000 non-null  object \n",
      " 2   Age                       100000 non-null  object \n",
      " 3   Occupation                100000 non-null  object \n",
      " 4   Annual_Income             100000 non-null  object \n",
      " 5   Monthly_Inhand_Salary     84998 non-null   float64\n",
      " 6   Num_Bank_Accounts         100000 non-null  int64  \n",
      " 7   Num_Credit_Card           100000 non-null  int64  \n",
      " 8   Interest_Rate             100000 non-null  int64  \n",
      " 9   Num_of_Loan               100000 non-null  object \n",
      " 10  Type_of_Loan              88592 non-null   object \n",
      " 11  Delay_from_due_date       100000 non-null  int64  \n",
      " 12  Num_of_Delayed_Payment    92998 non-null   object \n",
      " 13  Changed_Credit_Limit      100000 non-null  object \n",
      " 14  Num_Credit_Inquiries      98035 non-null   float64\n",
      " 15  Credit_Mix                100000 non-null  object \n",
      " 16  Outstanding_Debt          100000 non-null  object \n",
      " 17  Credit_Utilization_Ratio  100000 non-null  float64\n",
      " 18  Credit_History_Age        90970 non-null   object \n",
      " 19  Payment_of_Min_Amount     100000 non-null  object \n",
      " 20  Total_EMI_per_month       100000 non-null  float64\n",
      " 21  Amount_invested_monthly   95521 non-null   object \n",
      " 22  Payment_Behaviour         100000 non-null  object \n",
      " 23  Monthly_Balance           98800 non-null   object \n",
      " 24  Credit_Score              100000 non-null  object \n",
      "dtypes: float64(4), int64(4), object(17)\n",
      "memory usage: 19.1+ MB\n"
     ]
    }
   ],
   "source": [
    "df.info()"
   ]
  },
  {
   "cell_type": "code",
   "execution_count": 5,
   "metadata": {
    "scrolled": true
   },
   "outputs": [
    {
     "name": "stdout",
     "output_type": "stream",
     "text": [
      "<class 'pandas.core.frame.DataFrame'>\n",
      "RangeIndex: 100000 entries, 0 to 99999\n",
      "Data columns (total 17 columns):\n",
      " #   Column                   Non-Null Count   Dtype \n",
      "---  ------                   --------------   ----- \n",
      " 0   Customer_ID              100000 non-null  object\n",
      " 1   Month                    100000 non-null  object\n",
      " 2   Age                      100000 non-null  object\n",
      " 3   Occupation               100000 non-null  object\n",
      " 4   Annual_Income            100000 non-null  object\n",
      " 5   Num_of_Loan              100000 non-null  object\n",
      " 6   Type_of_Loan             88592 non-null   object\n",
      " 7   Num_of_Delayed_Payment   92998 non-null   object\n",
      " 8   Changed_Credit_Limit     100000 non-null  object\n",
      " 9   Credit_Mix               100000 non-null  object\n",
      " 10  Outstanding_Debt         100000 non-null  object\n",
      " 11  Credit_History_Age       90970 non-null   object\n",
      " 12  Payment_of_Min_Amount    100000 non-null  object\n",
      " 13  Amount_invested_monthly  95521 non-null   object\n",
      " 14  Payment_Behaviour        100000 non-null  object\n",
      " 15  Monthly_Balance          98800 non-null   object\n",
      " 16  Credit_Score             100000 non-null  object\n",
      "dtypes: object(17)\n",
      "memory usage: 13.0+ MB\n"
     ]
    },
    {
     "data": {
      "text/html": [
       "<div>\n",
       "<style scoped>\n",
       "    .dataframe tbody tr th:only-of-type {\n",
       "        vertical-align: middle;\n",
       "    }\n",
       "\n",
       "    .dataframe tbody tr th {\n",
       "        vertical-align: top;\n",
       "    }\n",
       "\n",
       "    .dataframe thead th {\n",
       "        text-align: right;\n",
       "    }\n",
       "</style>\n",
       "<table border=\"1\" class=\"dataframe\">\n",
       "  <thead>\n",
       "    <tr style=\"text-align: right;\">\n",
       "      <th></th>\n",
       "      <th>Customer_ID</th>\n",
       "      <th>Month</th>\n",
       "      <th>Age</th>\n",
       "      <th>Occupation</th>\n",
       "      <th>Annual_Income</th>\n",
       "      <th>Num_of_Loan</th>\n",
       "      <th>Type_of_Loan</th>\n",
       "      <th>Num_of_Delayed_Payment</th>\n",
       "      <th>Changed_Credit_Limit</th>\n",
       "      <th>Credit_Mix</th>\n",
       "      <th>Outstanding_Debt</th>\n",
       "      <th>Credit_History_Age</th>\n",
       "      <th>Payment_of_Min_Amount</th>\n",
       "      <th>Amount_invested_monthly</th>\n",
       "      <th>Payment_Behaviour</th>\n",
       "      <th>Monthly_Balance</th>\n",
       "      <th>Credit_Score</th>\n",
       "    </tr>\n",
       "  </thead>\n",
       "  <tbody>\n",
       "    <tr>\n",
       "      <th>0</th>\n",
       "      <td>CUS_0xd40</td>\n",
       "      <td>January</td>\n",
       "      <td>23</td>\n",
       "      <td>Scientist</td>\n",
       "      <td>19114.12</td>\n",
       "      <td>4</td>\n",
       "      <td>Auto Loan, Credit-Builder Loan, Personal Loan,...</td>\n",
       "      <td>7</td>\n",
       "      <td>11.27</td>\n",
       "      <td>_</td>\n",
       "      <td>809.98</td>\n",
       "      <td>22 Years and 1 Months</td>\n",
       "      <td>No</td>\n",
       "      <td>80.41529543900253</td>\n",
       "      <td>High_spent_Small_value_payments</td>\n",
       "      <td>312.49408867943663</td>\n",
       "      <td>Good</td>\n",
       "    </tr>\n",
       "    <tr>\n",
       "      <th>1</th>\n",
       "      <td>CUS_0xd40</td>\n",
       "      <td>February</td>\n",
       "      <td>23</td>\n",
       "      <td>Scientist</td>\n",
       "      <td>19114.12</td>\n",
       "      <td>4</td>\n",
       "      <td>Auto Loan, Credit-Builder Loan, Personal Loan,...</td>\n",
       "      <td>NaN</td>\n",
       "      <td>11.27</td>\n",
       "      <td>Good</td>\n",
       "      <td>809.98</td>\n",
       "      <td>NaN</td>\n",
       "      <td>No</td>\n",
       "      <td>118.28022162236736</td>\n",
       "      <td>Low_spent_Large_value_payments</td>\n",
       "      <td>284.62916249607184</td>\n",
       "      <td>Good</td>\n",
       "    </tr>\n",
       "    <tr>\n",
       "      <th>2</th>\n",
       "      <td>CUS_0xd40</td>\n",
       "      <td>March</td>\n",
       "      <td>-500</td>\n",
       "      <td>Scientist</td>\n",
       "      <td>19114.12</td>\n",
       "      <td>4</td>\n",
       "      <td>Auto Loan, Credit-Builder Loan, Personal Loan,...</td>\n",
       "      <td>7</td>\n",
       "      <td>_</td>\n",
       "      <td>Good</td>\n",
       "      <td>809.98</td>\n",
       "      <td>22 Years and 3 Months</td>\n",
       "      <td>No</td>\n",
       "      <td>81.699521264648</td>\n",
       "      <td>Low_spent_Medium_value_payments</td>\n",
       "      <td>331.2098628537912</td>\n",
       "      <td>Good</td>\n",
       "    </tr>\n",
       "    <tr>\n",
       "      <th>3</th>\n",
       "      <td>CUS_0xd40</td>\n",
       "      <td>April</td>\n",
       "      <td>23</td>\n",
       "      <td>Scientist</td>\n",
       "      <td>19114.12</td>\n",
       "      <td>4</td>\n",
       "      <td>Auto Loan, Credit-Builder Loan, Personal Loan,...</td>\n",
       "      <td>4</td>\n",
       "      <td>6.27</td>\n",
       "      <td>Good</td>\n",
       "      <td>809.98</td>\n",
       "      <td>22 Years and 4 Months</td>\n",
       "      <td>No</td>\n",
       "      <td>199.4580743910713</td>\n",
       "      <td>Low_spent_Small_value_payments</td>\n",
       "      <td>223.45130972736786</td>\n",
       "      <td>Good</td>\n",
       "    </tr>\n",
       "    <tr>\n",
       "      <th>4</th>\n",
       "      <td>CUS_0xd40</td>\n",
       "      <td>May</td>\n",
       "      <td>23</td>\n",
       "      <td>Scientist</td>\n",
       "      <td>19114.12</td>\n",
       "      <td>4</td>\n",
       "      <td>Auto Loan, Credit-Builder Loan, Personal Loan,...</td>\n",
       "      <td>NaN</td>\n",
       "      <td>11.27</td>\n",
       "      <td>Good</td>\n",
       "      <td>809.98</td>\n",
       "      <td>22 Years and 5 Months</td>\n",
       "      <td>No</td>\n",
       "      <td>41.420153086217326</td>\n",
       "      <td>High_spent_Medium_value_payments</td>\n",
       "      <td>341.48923103222177</td>\n",
       "      <td>Good</td>\n",
       "    </tr>\n",
       "  </tbody>\n",
       "</table>\n",
       "</div>"
      ],
      "text/plain": [
       "  Customer_ID     Month   Age Occupation Annual_Income Num_of_Loan  \\\n",
       "0   CUS_0xd40   January    23  Scientist      19114.12           4   \n",
       "1   CUS_0xd40  February    23  Scientist      19114.12           4   \n",
       "2   CUS_0xd40     March  -500  Scientist      19114.12           4   \n",
       "3   CUS_0xd40     April    23  Scientist      19114.12           4   \n",
       "4   CUS_0xd40       May    23  Scientist      19114.12           4   \n",
       "\n",
       "                                        Type_of_Loan Num_of_Delayed_Payment  \\\n",
       "0  Auto Loan, Credit-Builder Loan, Personal Loan,...                      7   \n",
       "1  Auto Loan, Credit-Builder Loan, Personal Loan,...                    NaN   \n",
       "2  Auto Loan, Credit-Builder Loan, Personal Loan,...                      7   \n",
       "3  Auto Loan, Credit-Builder Loan, Personal Loan,...                      4   \n",
       "4  Auto Loan, Credit-Builder Loan, Personal Loan,...                    NaN   \n",
       "\n",
       "  Changed_Credit_Limit Credit_Mix Outstanding_Debt     Credit_History_Age  \\\n",
       "0                11.27          _           809.98  22 Years and 1 Months   \n",
       "1                11.27       Good           809.98                    NaN   \n",
       "2                    _       Good           809.98  22 Years and 3 Months   \n",
       "3                 6.27       Good           809.98  22 Years and 4 Months   \n",
       "4                11.27       Good           809.98  22 Years and 5 Months   \n",
       "\n",
       "  Payment_of_Min_Amount Amount_invested_monthly  \\\n",
       "0                    No       80.41529543900253   \n",
       "1                    No      118.28022162236736   \n",
       "2                    No         81.699521264648   \n",
       "3                    No       199.4580743910713   \n",
       "4                    No      41.420153086217326   \n",
       "\n",
       "                  Payment_Behaviour     Monthly_Balance Credit_Score  \n",
       "0   High_spent_Small_value_payments  312.49408867943663         Good  \n",
       "1    Low_spent_Large_value_payments  284.62916249607184         Good  \n",
       "2   Low_spent_Medium_value_payments   331.2098628537912         Good  \n",
       "3    Low_spent_Small_value_payments  223.45130972736786         Good  \n",
       "4  High_spent_Medium_value_payments  341.48923103222177         Good  "
      ]
     },
     "execution_count": 5,
     "metadata": {},
     "output_type": "execute_result"
    }
   ],
   "source": [
    "df.select_dtypes('O').info()\n",
    "df.select_dtypes('O').head()"
   ]
  },
  {
   "cell_type": "code",
   "execution_count": 6,
   "metadata": {},
   "outputs": [],
   "source": [
    "df = df.applymap(lambda x: x if x is np.NaN or not isinstance(x, str) else str(x).strip('_ ,\"')).replace([''], np.NaN)\n",
    "df['Month'] = pd.to_datetime(df.Month, format='%B').dt.month\n",
    "df['Age'] = df.Age.astype(int)\n",
    "df['Annual_Income'] = df.Annual_Income.astype(float)\n",
    "df['Num_of_Loan'] = df.Num_of_Loan.astype(int)\n",
    "df['Num_of_Delayed_Payment'] = df.Num_of_Delayed_Payment.astype(float)\n",
    "df['Changed_Credit_Limit'] = df.Changed_Credit_Limit.astype(float)\n",
    "df['Outstanding_Debt'] = df.Outstanding_Debt.astype(float)\n",
    "df['Amount_invested_monthly'] = df.Amount_invested_monthly.astype(float)\n",
    "df['Monthly_Balance'] = df.Monthly_Balance.astype(float)"
   ]
  },
  {
   "cell_type": "code",
   "execution_count": 7,
   "metadata": {},
   "outputs": [],
   "source": [
    "def month_text_to_number(x):\n",
    "    if pd.notnull(x):\n",
    "        num1 = int(x.split(' ')[0])\n",
    "        num2 = int(x.split(' ')[3])\n",
    "        return (num1*12)+num2\n",
    "    else:\n",
    "        return x\n",
    "df['Credit_History_Age'] = df.Credit_History_Age.apply(lambda x: month_text_to_number(x)).astype(float)"
   ]
  },
  {
   "cell_type": "code",
   "execution_count": 8,
   "metadata": {},
   "outputs": [
    {
     "name": "stdout",
     "output_type": "stream",
     "text": [
      "<class 'pandas.core.frame.DataFrame'>\n",
      "RangeIndex: 100000 entries, 0 to 99999\n",
      "Data columns (total 7 columns):\n",
      " #   Column                 Non-Null Count   Dtype \n",
      "---  ------                 --------------   ----- \n",
      " 0   Customer_ID            100000 non-null  object\n",
      " 1   Occupation             92938 non-null   object\n",
      " 2   Type_of_Loan           88592 non-null   object\n",
      " 3   Credit_Mix             79805 non-null   object\n",
      " 4   Payment_of_Min_Amount  100000 non-null  object\n",
      " 5   Payment_Behaviour      100000 non-null  object\n",
      " 6   Credit_Score           100000 non-null  object\n",
      "dtypes: object(7)\n",
      "memory usage: 5.3+ MB\n"
     ]
    }
   ],
   "source": [
    "df.select_dtypes('O').info()"
   ]
  },
  {
   "cell_type": "code",
   "execution_count": 9,
   "metadata": {
    "scrolled": true
   },
   "outputs": [
    {
     "data": {
      "text/plain": [
       "NaN              7062\n",
       "Lawyer           6575\n",
       "Architect        6355\n",
       "Engineer         6350\n",
       "Scientist        6299\n",
       "Mechanic         6291\n",
       "Accountant       6271\n",
       "Developer        6235\n",
       "Media_Manager    6232\n",
       "Teacher          6215\n",
       "Entrepreneur     6174\n",
       "Doctor           6087\n",
       "Journalist       6085\n",
       "Manager          5973\n",
       "Musician         5911\n",
       "Writer           5885\n",
       "Name: Occupation, dtype: int64"
      ]
     },
     "execution_count": 9,
     "metadata": {},
     "output_type": "execute_result"
    }
   ],
   "source": [
    "df['Occupation'].value_counts(dropna=False)"
   ]
  },
  {
   "cell_type": "code",
   "execution_count": 10,
   "metadata": {},
   "outputs": [
    {
     "data": {
      "text/plain": [
       "Standard    36479\n",
       "Good        24337\n",
       "NaN         20195\n",
       "Bad         18989\n",
       "Name: Credit_Mix, dtype: int64"
      ]
     },
     "execution_count": 10,
     "metadata": {},
     "output_type": "execute_result"
    }
   ],
   "source": [
    "df['Credit_Mix'].value_counts(dropna=False)"
   ]
  },
  {
   "cell_type": "code",
   "execution_count": 11,
   "metadata": {
    "scrolled": true
   },
   "outputs": [
    {
     "data": {
      "text/plain": [
       "Yes    52326\n",
       "No     35667\n",
       "NM     12007\n",
       "Name: Payment_of_Min_Amount, dtype: int64"
      ]
     },
     "execution_count": 11,
     "metadata": {},
     "output_type": "execute_result"
    }
   ],
   "source": [
    "df['Payment_of_Min_Amount'].value_counts(dropna=False)"
   ]
  },
  {
   "cell_type": "code",
   "execution_count": 12,
   "metadata": {},
   "outputs": [
    {
     "data": {
      "text/plain": [
       "Low_spent_Small_value_payments      25513\n",
       "High_spent_Medium_value_payments    17540\n",
       "Low_spent_Medium_value_payments     13861\n",
       "High_spent_Large_value_payments     13721\n",
       "High_spent_Small_value_payments     11340\n",
       "Low_spent_Large_value_payments      10425\n",
       "!@9#%8                               7600\n",
       "Name: Payment_Behaviour, dtype: int64"
      ]
     },
     "execution_count": 12,
     "metadata": {},
     "output_type": "execute_result"
    }
   ],
   "source": [
    "df['Payment_Behaviour'].value_counts(dropna=False)"
   ]
  },
  {
   "cell_type": "code",
   "execution_count": 13,
   "metadata": {},
   "outputs": [
    {
     "data": {
      "text/plain": [
       "Standard    53174\n",
       "Poor        28998\n",
       "Good        17828\n",
       "Name: Credit_Score, dtype: int64"
      ]
     },
     "execution_count": 13,
     "metadata": {},
     "output_type": "execute_result"
    }
   ],
   "source": [
    "df['Credit_Score'].value_counts(dropna=False)"
   ]
  },
  {
   "cell_type": "code",
   "execution_count": 14,
   "metadata": {},
   "outputs": [],
   "source": [
    "df['Occupation'] = df.Occupation.apply(lambda x: 'Unknown' if pd.isnull(x) else x)\n",
    "df['Credit_Mix'] = df.Credit_Mix.apply(lambda x: 'Unknown' if pd.isnull(x) else x)\n",
    "df['Payment_of_Min_Amount'] = df.Payment_of_Min_Amount.apply(lambda x: 'Unknown' if x == 'NM' else x)\n",
    "df['Payment_Behaviour'] = df.Payment_Behaviour.apply(lambda x: 'Unknown' if x == '!@9#%8' else x)"
   ]
  },
  {
   "cell_type": "code",
   "execution_count": 15,
   "metadata": {},
   "outputs": [
    {
     "name": "stdout",
     "output_type": "stream",
     "text": [
      "Month\n",
      "count    100000.000000\n",
      "mean          4.500000\n",
      "std           2.291299\n",
      "min           1.000000\n",
      "25%           2.750000\n",
      "50%           4.500000\n",
      "75%           6.250000\n",
      "max           8.000000\n",
      "Name: Month, dtype: float64\n",
      "null 0\n",
      "******************************\n",
      "Age\n",
      "count    100000.000000\n",
      "mean        110.649700\n",
      "std         686.244717\n",
      "min        -500.000000\n",
      "25%          24.000000\n",
      "50%          33.000000\n",
      "75%          42.000000\n",
      "max        8698.000000\n",
      "Name: Age, dtype: float64\n",
      "null 0\n",
      "******************************\n",
      "Annual_Income\n",
      "count    1.000000e+05\n",
      "mean     1.764157e+05\n",
      "std      1.429618e+06\n",
      "min      7.005930e+03\n",
      "25%      1.945750e+04\n",
      "50%      3.757861e+04\n",
      "75%      7.279092e+04\n",
      "max      2.419806e+07\n",
      "Name: Annual_Income, dtype: float64\n",
      "null 0\n",
      "******************************\n",
      "Monthly_Inhand_Salary\n",
      "count    84998.000000\n",
      "mean      4194.170850\n",
      "std       3183.686167\n",
      "min        303.645417\n",
      "25%       1625.568229\n",
      "50%       3093.745000\n",
      "75%       5957.448333\n",
      "max      15204.633333\n",
      "Name: Monthly_Inhand_Salary, dtype: float64\n",
      "null 15002\n",
      "******************************\n",
      "Num_Bank_Accounts\n",
      "count    100000.000000\n",
      "mean         17.091280\n",
      "std         117.404834\n",
      "min          -1.000000\n",
      "25%           3.000000\n",
      "50%           6.000000\n",
      "75%           7.000000\n",
      "max        1798.000000\n",
      "Name: Num_Bank_Accounts, dtype: float64\n",
      "null 0\n",
      "******************************\n",
      "Num_Credit_Card\n",
      "count    100000.00000\n",
      "mean         22.47443\n",
      "std         129.05741\n",
      "min           0.00000\n",
      "25%           4.00000\n",
      "50%           5.00000\n",
      "75%           7.00000\n",
      "max        1499.00000\n",
      "Name: Num_Credit_Card, dtype: float64\n",
      "null 0\n",
      "******************************\n",
      "Interest_Rate\n",
      "count    100000.000000\n",
      "mean         72.466040\n",
      "std         466.422621\n",
      "min           1.000000\n",
      "25%           8.000000\n",
      "50%          13.000000\n",
      "75%          20.000000\n",
      "max        5797.000000\n",
      "Name: Interest_Rate, dtype: float64\n",
      "null 0\n",
      "******************************\n",
      "Num_of_Loan\n",
      "count    100000.000000\n",
      "mean          3.009960\n",
      "std          62.647879\n",
      "min        -100.000000\n",
      "25%           1.000000\n",
      "50%           3.000000\n",
      "75%           5.000000\n",
      "max        1496.000000\n",
      "Name: Num_of_Loan, dtype: float64\n",
      "null 0\n",
      "******************************\n",
      "Delay_from_due_date\n",
      "count    100000.000000\n",
      "mean         21.068780\n",
      "std          14.860104\n",
      "min          -5.000000\n",
      "25%          10.000000\n",
      "50%          18.000000\n",
      "75%          28.000000\n",
      "max          67.000000\n",
      "Name: Delay_from_due_date, dtype: float64\n",
      "null 0\n",
      "******************************\n",
      "Num_of_Delayed_Payment\n",
      "count    92998.000000\n",
      "mean        30.923342\n",
      "std        226.031892\n",
      "min         -3.000000\n",
      "25%          9.000000\n",
      "50%         14.000000\n",
      "75%         18.000000\n",
      "max       4397.000000\n",
      "Name: Num_of_Delayed_Payment, dtype: float64\n",
      "null 7002\n",
      "******************************\n",
      "Changed_Credit_Limit\n",
      "count    97909.000000\n",
      "mean        10.389025\n",
      "std          6.789496\n",
      "min         -6.490000\n",
      "25%          5.320000\n",
      "50%          9.400000\n",
      "75%         14.870000\n",
      "max         36.970000\n",
      "Name: Changed_Credit_Limit, dtype: float64\n",
      "null 2091\n",
      "******************************\n",
      "Num_Credit_Inquiries\n",
      "count    98035.000000\n",
      "mean        27.754251\n",
      "std        193.177339\n",
      "min          0.000000\n",
      "25%          3.000000\n",
      "50%          6.000000\n",
      "75%          9.000000\n",
      "max       2597.000000\n",
      "Name: Num_Credit_Inquiries, dtype: float64\n",
      "null 1965\n",
      "******************************\n",
      "Outstanding_Debt\n",
      "count    100000.000000\n",
      "mean       1426.220376\n",
      "std        1155.129026\n",
      "min           0.230000\n",
      "25%         566.072500\n",
      "50%        1166.155000\n",
      "75%        1945.962500\n",
      "max        4998.070000\n",
      "Name: Outstanding_Debt, dtype: float64\n",
      "null 0\n",
      "******************************\n",
      "Credit_Utilization_Ratio\n",
      "count    100000.000000\n",
      "mean         32.285173\n",
      "std           5.116875\n",
      "min          20.000000\n",
      "25%          28.052567\n",
      "50%          32.305784\n",
      "75%          36.496663\n",
      "max          50.000000\n",
      "Name: Credit_Utilization_Ratio, dtype: float64\n",
      "null 0\n",
      "******************************\n",
      "Credit_History_Age\n",
      "count    90970.000000\n",
      "mean       221.195405\n",
      "std         99.741364\n",
      "min          1.000000\n",
      "25%        144.000000\n",
      "50%        219.000000\n",
      "75%        302.000000\n",
      "max        404.000000\n",
      "Name: Credit_History_Age, dtype: float64\n",
      "null 9030\n",
      "******************************\n",
      "Total_EMI_per_month\n",
      "count    100000.000000\n",
      "mean       1403.118217\n",
      "std        8306.041270\n",
      "min           0.000000\n",
      "25%          30.306660\n",
      "50%          69.249473\n",
      "75%         161.224249\n",
      "max       82331.000000\n",
      "Name: Total_EMI_per_month, dtype: float64\n",
      "null 0\n",
      "******************************\n",
      "Amount_invested_monthly\n",
      "count    95521.000000\n",
      "mean       637.412998\n",
      "std       2043.319327\n",
      "min          0.000000\n",
      "25%         74.534002\n",
      "50%        135.925682\n",
      "75%        265.731733\n",
      "max      10000.000000\n",
      "Name: Amount_invested_monthly, dtype: float64\n",
      "null 4479\n",
      "******************************\n",
      "Monthly_Balance\n",
      "count    9.880000e+04\n",
      "mean    -3.036437e+22\n",
      "std      3.181295e+24\n",
      "min     -3.333333e+26\n",
      "25%      2.700922e+02\n",
      "50%      3.367192e+02\n",
      "75%      4.702202e+02\n",
      "max      1.602041e+03\n",
      "Name: Monthly_Balance, dtype: float64\n",
      "null 1200\n",
      "******************************\n"
     ]
    }
   ],
   "source": [
    "for col in df.select_dtypes(exclude='O').columns:\n",
    "    print(col)\n",
    "    print(df[col].describe().T)\n",
    "    print(\"null\", df[col].isna().sum())\n",
    "    print(\"*\"*30)"
   ]
  },
  {
   "cell_type": "code",
   "execution_count": 16,
   "metadata": {},
   "outputs": [],
   "source": [
    "df.dropna(inplace=True)"
   ]
  },
  {
   "cell_type": "code",
   "execution_count": 17,
   "metadata": {},
   "outputs": [
    {
     "name": "stdout",
     "output_type": "stream",
     "text": [
      "Month\n",
      "count    57700.000000\n",
      "mean         4.495113\n",
      "std          2.295851\n",
      "min          1.000000\n",
      "25%          2.000000\n",
      "50%          4.000000\n",
      "75%          7.000000\n",
      "max          8.000000\n",
      "Name: Month, dtype: float64\n",
      "null 0\n",
      "******************************\n",
      "Age\n",
      "count    57700.000000\n",
      "mean       111.354437\n",
      "std        692.595260\n",
      "min       -500.000000\n",
      "25%         24.000000\n",
      "50%         33.000000\n",
      "75%         42.000000\n",
      "max       8697.000000\n",
      "Name: Age, dtype: float64\n",
      "null 0\n",
      "******************************\n",
      "Annual_Income\n",
      "count    5.770000e+04\n",
      "mean     1.751462e+05\n",
      "std      1.440229e+06\n",
      "min      7.005930e+03\n",
      "25%      1.882299e+04\n",
      "50%      3.601678e+04\n",
      "75%      6.987016e+04\n",
      "max      2.419806e+07\n",
      "Name: Annual_Income, dtype: float64\n",
      "null 0\n",
      "******************************\n",
      "Monthly_Inhand_Salary\n",
      "count    57700.000000\n",
      "mean      4021.911564\n",
      "std       3097.975747\n",
      "min        303.645417\n",
      "25%       1572.182500\n",
      "50%       2986.635833\n",
      "75%       5704.878333\n",
      "max      15204.633333\n",
      "Name: Monthly_Inhand_Salary, dtype: float64\n",
      "null 0\n",
      "******************************\n",
      "Num_Bank_Accounts\n",
      "count    57700.000000\n",
      "mean        16.981386\n",
      "std        116.074466\n",
      "min         -1.000000\n",
      "25%          4.000000\n",
      "50%          6.000000\n",
      "75%          8.000000\n",
      "max       1798.000000\n",
      "Name: Num_Bank_Accounts, dtype: float64\n",
      "null 0\n",
      "******************************\n",
      "Num_Credit_Card\n",
      "count    57700.000000\n",
      "mean        22.737227\n",
      "std        129.253060\n",
      "min          0.000000\n",
      "25%          4.000000\n",
      "50%          6.000000\n",
      "75%          7.000000\n",
      "max       1499.000000\n",
      "Name: Num_Credit_Card, dtype: float64\n",
      "null 0\n",
      "******************************\n",
      "Interest_Rate\n",
      "count    57700.000000\n",
      "mean        75.090711\n",
      "std        474.986470\n",
      "min          1.000000\n",
      "25%          8.000000\n",
      "50%         15.000000\n",
      "75%         22.000000\n",
      "max       5797.000000\n",
      "Name: Interest_Rate, dtype: float64\n",
      "null 0\n",
      "******************************\n",
      "Num_of_Loan\n",
      "count    57700.000000\n",
      "mean         3.462634\n",
      "std         62.634693\n",
      "min       -100.000000\n",
      "25%          2.000000\n",
      "50%          3.000000\n",
      "75%          6.000000\n",
      "max       1485.000000\n",
      "Name: Num_of_Loan, dtype: float64\n",
      "null 0\n",
      "******************************\n",
      "Delay_from_due_date\n",
      "count    57700.000000\n",
      "mean        22.022860\n",
      "std         15.247038\n",
      "min         -5.000000\n",
      "25%         10.000000\n",
      "50%         19.000000\n",
      "75%         29.000000\n",
      "max         67.000000\n",
      "Name: Delay_from_due_date, dtype: float64\n",
      "null 0\n",
      "******************************\n",
      "Num_of_Delayed_Payment\n",
      "count    57700.000000\n",
      "mean        31.541820\n",
      "std        227.827076\n",
      "min         -3.000000\n",
      "25%          9.000000\n",
      "50%         14.000000\n",
      "75%         19.000000\n",
      "max       4397.000000\n",
      "Name: Num_of_Delayed_Payment, dtype: float64\n",
      "null 0\n",
      "******************************\n",
      "Changed_Credit_Limit\n",
      "count    57700.000000\n",
      "mean        10.755612\n",
      "std          6.916577\n",
      "min         -6.480000\n",
      "25%          5.610000\n",
      "50%          9.710000\n",
      "75%         15.510000\n",
      "max         36.970000\n",
      "Name: Changed_Credit_Limit, dtype: float64\n",
      "null 0\n",
      "******************************\n",
      "Num_Credit_Inquiries\n",
      "count    57700.000000\n",
      "mean        26.823882\n",
      "std        186.365941\n",
      "min          0.000000\n",
      "25%          3.000000\n",
      "50%          6.000000\n",
      "75%          9.000000\n",
      "max       2594.000000\n",
      "Name: Num_Credit_Inquiries, dtype: float64\n",
      "null 0\n",
      "******************************\n",
      "Outstanding_Debt\n",
      "count    57700.000000\n",
      "mean      1509.117235\n",
      "std       1188.027852\n",
      "min          0.230000\n",
      "25%        608.850000\n",
      "50%       1243.200000\n",
      "75%       2133.240000\n",
      "max       4998.070000\n",
      "Name: Outstanding_Debt, dtype: float64\n",
      "null 0\n",
      "******************************\n",
      "Credit_Utilization_Ratio\n",
      "count    57700.000000\n",
      "mean        32.208846\n",
      "std          5.057793\n",
      "min         20.881250\n",
      "25%         28.025100\n",
      "50%         32.242901\n",
      "75%         36.392050\n",
      "max         49.564519\n",
      "Name: Credit_Utilization_Ratio, dtype: float64\n",
      "null 0\n",
      "******************************\n",
      "Credit_History_Age\n",
      "count    57700.000000\n",
      "mean       212.965719\n",
      "std         99.861444\n",
      "min          1.000000\n",
      "25%        134.000000\n",
      "50%        211.000000\n",
      "75%        291.000000\n",
      "max        404.000000\n",
      "Name: Credit_History_Age, dtype: float64\n",
      "null 0\n",
      "******************************\n",
      "Total_EMI_per_month\n",
      "count    57700.000000\n",
      "mean      1420.739436\n",
      "std       8306.904241\n",
      "min          4.462837\n",
      "25%         41.272440\n",
      "50%         78.454056\n",
      "75%        168.935148\n",
      "max      82331.000000\n",
      "Name: Total_EMI_per_month, dtype: float64\n",
      "null 0\n",
      "******************************\n",
      "Amount_invested_monthly\n",
      "count    57700.000000\n",
      "mean       628.878883\n",
      "std       2053.615182\n",
      "min          0.000000\n",
      "25%         71.954260\n",
      "50%        130.285905\n",
      "75%        250.091433\n",
      "max      10000.000000\n",
      "Name: Amount_invested_monthly, dtype: float64\n",
      "null 0\n",
      "******************************\n",
      "Monthly_Balance\n",
      "count    5.770000e+04\n",
      "mean    -3.466205e+22\n",
      "std      3.398972e+24\n",
      "min     -3.333333e+26\n",
      "25%      2.646317e+02\n",
      "50%      3.250342e+02\n",
      "75%      4.436949e+02\n",
      "max      1.552946e+03\n",
      "Name: Monthly_Balance, dtype: float64\n",
      "null 0\n",
      "******************************\n"
     ]
    }
   ],
   "source": [
    "for col in df.select_dtypes(exclude='O').columns:\n",
    "    print(col)\n",
    "    print(df[col].describe().T)\n",
    "    print(\"null\", df[col].isna().sum())\n",
    "    print(\"*\"*30)"
   ]
  },
  {
   "cell_type": "code",
   "execution_count": 18,
   "metadata": {},
   "outputs": [],
   "source": [
    "df['Type_of_Loan'] = df['Type_of_Loan'].str.replace(', and', ',')\n",
    "df['Num_of_Loan'] = df['Type_of_Loan'].map(lambda x: len(x.split(', ')) if not pd.isnull(x) else 0)\n",
    "loans_set = list(set([y for x in df['Type_of_Loan'].dropna() for y in x.split(', ')]))\n",
    "for item in loans_set:\n",
    "    df[item] = df['Type_of_Loan'].map(lambda x: x.count(item) if not pd.isnull(x) else 0)\n",
    "df.drop(\"Type_of_Loan\", axis=1, inplace=True)"
   ]
  },
  {
   "cell_type": "code",
   "execution_count": 19,
   "metadata": {},
   "outputs": [
    {
     "data": {
      "text/plain": [
       "Index(['Customer_ID', 'Occupation', 'Credit_Mix', 'Payment_of_Min_Amount',\n",
       "       'Payment_Behaviour', 'Credit_Score'],\n",
       "      dtype='object')"
      ]
     },
     "execution_count": 19,
     "metadata": {},
     "output_type": "execute_result"
    }
   ],
   "source": [
    "df.select_dtypes('O').columns"
   ]
  },
  {
   "cell_type": "code",
   "execution_count": 20,
   "metadata": {},
   "outputs": [],
   "source": [
    "occupations = list(df.Occupation.astype('category').cat.categories)\n",
    "occupations.remove('Unknown')\n",
    "occupations.append('Unknown')\n",
    "df['Occupation'] = df.Occupation.apply(lambda x: occupations.index(x))\n",
    "\n",
    "payment_min_amounts = list(df.Payment_of_Min_Amount.astype('category').cat.categories)\n",
    "payment_min_amounts.remove('Unknown')\n",
    "payment_min_amounts.append('Unknown')\n",
    "df['Payment_of_Min_Amount'] = df.Payment_of_Min_Amount.apply(lambda x: payment_min_amounts.index(x))\n",
    "\n",
    "payment_behaviours = list(df.Payment_Behaviour.astype('category').cat.categories)\n",
    "payment_behaviours.remove('Unknown')\n",
    "payment_behaviours.append('Unknown')\n",
    "df['Payment_Behaviour'] = df.Payment_Behaviour.apply(lambda x: payment_behaviours.index(x))"
   ]
  },
  {
   "cell_type": "code",
   "execution_count": 21,
   "metadata": {},
   "outputs": [],
   "source": [
    "credit_mixs = ['Bad', 'Standard', 'Good', 'Unknown']\n",
    "df['Credit_Mix'] = df.Credit_Mix.apply(lambda x: credit_mixs.index(x))\n",
    "\n",
    "credit_scores = ['Poor', 'Standard', 'Good']\n",
    "df['Credit_Score'] = df.Credit_Score.apply(lambda x: credit_scores.index(x))"
   ]
  },
  {
   "cell_type": "code",
   "execution_count": 22,
   "metadata": {},
   "outputs": [
    {
     "name": "stdout",
     "output_type": "stream",
     "text": [
      "<class 'pandas.core.frame.DataFrame'>\n",
      "Int64Index: 57700 entries, 0 to 99999\n",
      "Data columns (total 33 columns):\n",
      " #   Column                    Non-Null Count  Dtype  \n",
      "---  ------                    --------------  -----  \n",
      " 0   Customer_ID               57700 non-null  object \n",
      " 1   Month                     57700 non-null  int64  \n",
      " 2   Age                       57700 non-null  int32  \n",
      " 3   Occupation                57700 non-null  int64  \n",
      " 4   Annual_Income             57700 non-null  float64\n",
      " 5   Monthly_Inhand_Salary     57700 non-null  float64\n",
      " 6   Num_Bank_Accounts         57700 non-null  int64  \n",
      " 7   Num_Credit_Card           57700 non-null  int64  \n",
      " 8   Interest_Rate             57700 non-null  int64  \n",
      " 9   Num_of_Loan               57700 non-null  int64  \n",
      " 10  Delay_from_due_date       57700 non-null  int64  \n",
      " 11  Num_of_Delayed_Payment    57700 non-null  float64\n",
      " 12  Changed_Credit_Limit      57700 non-null  float64\n",
      " 13  Num_Credit_Inquiries      57700 non-null  float64\n",
      " 14  Credit_Mix                57700 non-null  int64  \n",
      " 15  Outstanding_Debt          57700 non-null  float64\n",
      " 16  Credit_Utilization_Ratio  57700 non-null  float64\n",
      " 17  Credit_History_Age        57700 non-null  float64\n",
      " 18  Payment_of_Min_Amount     57700 non-null  int64  \n",
      " 19  Total_EMI_per_month       57700 non-null  float64\n",
      " 20  Amount_invested_monthly   57700 non-null  float64\n",
      " 21  Payment_Behaviour         57700 non-null  int64  \n",
      " 22  Monthly_Balance           57700 non-null  float64\n",
      " 23  Credit_Score              57700 non-null  int64  \n",
      " 24  Debt Consolidation Loan   57700 non-null  int64  \n",
      " 25  Mortgage Loan             57700 non-null  int64  \n",
      " 26  Home Equity Loan          57700 non-null  int64  \n",
      " 27  Payday Loan               57700 non-null  int64  \n",
      " 28  Not Specified             57700 non-null  int64  \n",
      " 29  Auto Loan                 57700 non-null  int64  \n",
      " 30  Personal Loan             57700 non-null  int64  \n",
      " 31  Credit-Builder Loan       57700 non-null  int64  \n",
      " 32  Student Loan              57700 non-null  int64  \n",
      "dtypes: float64(11), int32(1), int64(20), object(1)\n",
      "memory usage: 14.7+ MB\n"
     ]
    }
   ],
   "source": [
    "df.info()"
   ]
  },
  {
   "cell_type": "code",
   "execution_count": 23,
   "metadata": {},
   "outputs": [],
   "source": [
    "df.drop(\"Customer_ID\", axis=1, inplace=True)"
   ]
  },
  {
   "cell_type": "code",
   "execution_count": 24,
   "metadata": {},
   "outputs": [],
   "source": [
    "df.to_csv('clean_train1.csv', index=False)"
   ]
  },
  {
   "cell_type": "markdown",
   "metadata": {},
   "source": [
    "# Train from clean data"
   ]
  },
  {
   "cell_type": "code",
   "execution_count": 25,
   "metadata": {
    "colab": {
     "base_uri": "https://localhost:8080/"
    },
    "id": "4pUUBEDi64Vk",
    "outputId": "4e1cedfc-a3b6-45b8-ee42-8d5f15166566",
    "scrolled": true
   },
   "outputs": [
    {
     "name": "stdout",
     "output_type": "stream",
     "text": [
      "<class 'pandas.core.frame.DataFrame'>\n",
      "RangeIndex: 57700 entries, 0 to 57699\n",
      "Data columns (total 32 columns):\n",
      " #   Column                    Non-Null Count  Dtype  \n",
      "---  ------                    --------------  -----  \n",
      " 0   Month                     57700 non-null  int64  \n",
      " 1   Age                       57700 non-null  int64  \n",
      " 2   Occupation                57700 non-null  int64  \n",
      " 3   Annual_Income             57700 non-null  float64\n",
      " 4   Monthly_Inhand_Salary     57700 non-null  float64\n",
      " 5   Num_Bank_Accounts         57700 non-null  int64  \n",
      " 6   Num_Credit_Card           57700 non-null  int64  \n",
      " 7   Interest_Rate             57700 non-null  int64  \n",
      " 8   Num_of_Loan               57700 non-null  int64  \n",
      " 9   Delay_from_due_date       57700 non-null  int64  \n",
      " 10  Num_of_Delayed_Payment    57700 non-null  float64\n",
      " 11  Changed_Credit_Limit      57700 non-null  float64\n",
      " 12  Num_Credit_Inquiries      57700 non-null  float64\n",
      " 13  Credit_Mix                57700 non-null  int64  \n",
      " 14  Outstanding_Debt          57700 non-null  float64\n",
      " 15  Credit_Utilization_Ratio  57700 non-null  float64\n",
      " 16  Credit_History_Age        57700 non-null  float64\n",
      " 17  Payment_of_Min_Amount     57700 non-null  int64  \n",
      " 18  Total_EMI_per_month       57700 non-null  float64\n",
      " 19  Amount_invested_monthly   57700 non-null  float64\n",
      " 20  Payment_Behaviour         57700 non-null  int64  \n",
      " 21  Monthly_Balance           57700 non-null  float64\n",
      " 22  Credit_Score              57700 non-null  int64  \n",
      " 23  Debt Consolidation Loan   57700 non-null  int64  \n",
      " 24  Mortgage Loan             57700 non-null  int64  \n",
      " 25  Home Equity Loan          57700 non-null  int64  \n",
      " 26  Payday Loan               57700 non-null  int64  \n",
      " 27  Not Specified             57700 non-null  int64  \n",
      " 28  Auto Loan                 57700 non-null  int64  \n",
      " 29  Personal Loan             57700 non-null  int64  \n",
      " 30  Credit-Builder Loan       57700 non-null  int64  \n",
      " 31  Student Loan              57700 non-null  int64  \n",
      "dtypes: float64(11), int64(21)\n",
      "memory usage: 14.1 MB\n"
     ]
    }
   ],
   "source": [
    "df = pd.read_csv(\"./clean_train1.csv\", sep = \",\" , encoding = \"utf-8\")\n",
    "df.info()"
   ]
  },
  {
   "cell_type": "code",
   "execution_count": 26,
   "metadata": {},
   "outputs": [],
   "source": [
    "def kfold_metrics(clf, X, y):\n",
    "    accuracy = []\n",
    "    f1 = []\n",
    "    precision = []\n",
    "    recall = []\n",
    "    kf = StratifiedKFold(n_splits=4, shuffle=True, random_state=36)\n",
    "    for train_idx, test_idx in kf.split(X, y):\n",
    "        X_train, X_test = X[train_idx], X[test_idx]\n",
    "        y_train, y_test = y[train_idx], y[test_idx]\n",
    "        clf.fit(X_train, y_train)\n",
    "        y_pred = clf.predict(X_test)\n",
    "        accuracy.append(metrics.accuracy_score(y_test, y_pred))\n",
    "        precision.append(metrics.precision_score(y_test, y_pred, average=None))\n",
    "        recall.append(metrics.recall_score(y_test, y_pred, average=None))\n",
    "        f1.append(metrics.f1_score(y_test, y_pred, average=None))\n",
    "    print(\"accuracy\", np.mean(accuracy))\n",
    "    print(\"precision\", np.mean(precision, axis=0))\n",
    "    print(\"recall\",np.mean(recall, axis=0))\n",
    "    print(\"f1\",np.mean(f1, axis=0))"
   ]
  },
  {
   "cell_type": "code",
   "execution_count": 27,
   "metadata": {},
   "outputs": [],
   "source": [
    "labels = ['Poor', 'Standard', 'Good']"
   ]
  },
  {
   "cell_type": "code",
   "execution_count": 28,
   "metadata": {},
   "outputs": [
    {
     "name": "stdout",
     "output_type": "stream",
     "text": [
      "(46160, 31) (46160,)\n"
     ]
    }
   ],
   "source": [
    "X = df.drop(['Credit_Score'], axis=1)\n",
    "y = df['Credit_Score']\n",
    "X = np.array(X)\n",
    "y = np.array(y)\n",
    "\n",
    "X_train, X_test, y_train, y_test = train_test_split(X, y, test_size=0.2, stratify=y, random_state=36)\n",
    "\n",
    "print(X_train.shape, y_train.shape)"
   ]
  },
  {
   "cell_type": "code",
   "execution_count": 29,
   "metadata": {},
   "outputs": [
    {
     "data": {
      "text/plain": [
       "array([0.31185009, 0.52705806, 0.16109185])"
      ]
     },
     "execution_count": 29,
     "metadata": {},
     "output_type": "execute_result"
    }
   ],
   "source": [
    "unique, counts = np.unique(y_train, return_counts=True)\n",
    "pfunct = np.vectorize(lambda x: x/len(y_train))\n",
    "pfunct(counts)\n"
   ]
  },
  {
   "cell_type": "code",
   "execution_count": 30,
   "metadata": {},
   "outputs": [
    {
     "data": {
      "text/plain": [
       "array([0.31187175, 0.5270364 , 0.16109185])"
      ]
     },
     "execution_count": 30,
     "metadata": {},
     "output_type": "execute_result"
    }
   ],
   "source": [
    "unique, counts = np.unique(y_test, return_counts=True)\n",
    "pfunct = np.vectorize(lambda x: x/len(y_test))\n",
    "pfunct(counts)"
   ]
  },
  {
   "cell_type": "markdown",
   "metadata": {},
   "source": [
    "# Sử dụng Decision Tree"
   ]
  },
  {
   "cell_type": "code",
   "execution_count": 31,
   "metadata": {},
   "outputs": [
    {
     "name": "stdout",
     "output_type": "stream",
     "text": [
      "               Predict Poor  Predict Standard  Predict Good\n",
      "True Poor              2395              1073           131\n",
      "True Standard          1028              4324           730\n",
      "True Good               135               640          1084\n",
      "              precision    recall  f1-score   support\n",
      "\n",
      "        Poor       0.67      0.67      0.67      3599\n",
      "    Standard       0.72      0.71      0.71      6082\n",
      "        Good       0.56      0.58      0.57      1859\n",
      "\n",
      "    accuracy                           0.68     11540\n",
      "   macro avg       0.65      0.65      0.65     11540\n",
      "weighted avg       0.68      0.68      0.68     11540\n",
      "\n"
     ]
    }
   ],
   "source": [
    "clf = DecisionTreeClassifier()\n",
    "clf = clf.fit(X_train, y_train)\n",
    "y_pred = clf.predict(X_test)\n",
    "print(pd.DataFrame(metrics.confusion_matrix(y_test, y_pred, labels=np.unique(y_test)), \n",
    "             index=['True ' + x for x in labels], \n",
    "             columns=['Predict ' + x for x in labels]))\n",
    "print(metrics.classification_report(y_test, y_pred, target_names=labels))"
   ]
  },
  {
   "cell_type": "code",
   "execution_count": 32,
   "metadata": {},
   "outputs": [
    {
     "name": "stdout",
     "output_type": "stream",
     "text": [
      "accuracy 0.6807452339688042\n",
      "precision [0.67313924 0.71854089 0.57116741]\n",
      "recall [0.67094694 0.72042989 0.56987642]\n",
      "f1 [0.67201473 0.71947045 0.57051107]\n"
     ]
    }
   ],
   "source": [
    "kfold_metrics(clf, X, y)"
   ]
  },
  {
   "cell_type": "markdown",
   "metadata": {},
   "source": [
    "Độ chính xác khi sử dụng DecisionTree là khoảng 68.7%"
   ]
  },
  {
   "cell_type": "markdown",
   "metadata": {},
   "source": [
    "# Nhận xét về prototype 1\n",
    "\n",
    "## Điểm tốt\n",
    "+ Đã thực hiện shuffle dữ liệu trước khi phân thành train và test, tránh tình trạng dữ liệu bị biased(VD Train chỉ có dữ liệu mác good, test chỉ có dữ liệu mác standard) nhưng giữ được tỷ lệ các mác trong tập train và test.\n",
    "\n",
    "## Điểm xấu\n",
    "+ Quá trình phân tích và xử lý nhiễu mất mát nhiều dữ liệu(Có nhiều hàng dữ liệu dù chỉ trống một trường nhưng vẫn bị loại bỏ).\n",
    "+ Quá trình phân tích và xử lý dữ liệu chưa tính toán đến các dị điểm trong dữ liệu."
   ]
  },
  {
   "cell_type": "code",
   "execution_count": null,
   "metadata": {},
   "outputs": [],
   "source": []
  }
 ],
 "metadata": {
  "colab": {
   "provenance": []
  },
  "kernelspec": {
   "display_name": "Python 3 (ipykernel)",
   "language": "python",
   "name": "python3"
  },
  "language_info": {
   "codemirror_mode": {
    "name": "ipython",
    "version": 3
   },
   "file_extension": ".py",
   "mimetype": "text/x-python",
   "name": "python",
   "nbconvert_exporter": "python",
   "pygments_lexer": "ipython3",
   "version": "3.10.0"
  },
  "vscode": {
   "interpreter": {
    "hash": "369f2c481f4da34e4445cda3fffd2e751bd1c4d706f27375911949ba6bb62e1c"
   }
  }
 },
 "nbformat": 4,
 "nbformat_minor": 1
}
