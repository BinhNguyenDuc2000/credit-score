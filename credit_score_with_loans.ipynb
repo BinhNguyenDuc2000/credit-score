{
  "cells": [
    {
      "cell_type": "code",
      "execution_count": 30,
      "metadata": {
        "id": "uCt3OI-V2GGZ"
      },
      "outputs": [],
      "source": [
        "import pandas as pd\n",
        "import pickle\n",
        "from pandas import DataFrame\n",
        "import matplotlib.pyplot as plt\n",
        "import numpy as np\n",
        "from sklearn.model_selection import train_test_split, GridSearchCV\n",
        "from sklearn.tree import DecisionTreeClassifier\n",
        "from sklearn.ensemble import RandomForestClassifier\n",
        "from sklearn import metrics\n",
        "from sklearn.model_selection import KFold, StratifiedKFold"
      ]
    },
    {
      "cell_type": "code",
      "execution_count": 31,
      "metadata": {
        "colab": {
          "base_uri": "https://localhost:8080/"
        },
        "id": "4pUUBEDi64Vk",
        "outputId": "4e1cedfc-a3b6-45b8-ee42-8d5f15166566"
      },
      "outputs": [
        {
          "name": "stderr",
          "output_type": "stream",
          "text": [
            "C:\\Users\\ngova\\AppData\\Local\\Temp\\ipykernel_13180\\3578781784.py:1: DtypeWarning: Columns (27) have mixed types. Specify dtype option on import or set low_memory=False.\n",
            "  df = pd.read_csv(\"./clean_credit_score_classification.csv\")\n"
          ]
        },
        {
          "name": "stdout",
          "output_type": "stream",
          "text": [
            "<class 'pandas.core.frame.DataFrame'>\n",
            "RangeIndex: 150000 entries, 0 to 149999\n",
            "Data columns (total 28 columns):\n",
            " #   Column                    Non-Null Count   Dtype  \n",
            "---  ------                    --------------   -----  \n",
            " 0   ID                        150000 non-null  int64  \n",
            " 1   Customer_ID               150000 non-null  int64  \n",
            " 2   Month                     150000 non-null  int64  \n",
            " 3   Name                      150000 non-null  object \n",
            " 4   Age                       150000 non-null  float64\n",
            " 5   SSN                       150000 non-null  float64\n",
            " 6   Occupation                150000 non-null  object \n",
            " 7   Annual_Income             150000 non-null  float64\n",
            " 8   Monthly_Inhand_Salary     150000 non-null  float64\n",
            " 9   Num_Bank_Accounts         150000 non-null  float64\n",
            " 10  Num_Credit_Card           150000 non-null  float64\n",
            " 11  Interest_Rate             150000 non-null  float64\n",
            " 12  Num_of_Loan               150000 non-null  float64\n",
            " 13  Type_of_Loan              150000 non-null  object \n",
            " 14  Delay_from_due_date       150000 non-null  float64\n",
            " 15  Num_of_Delayed_Payment    150000 non-null  float64\n",
            " 16  Changed_Credit_Limit      150000 non-null  float64\n",
            " 17  Num_Credit_Inquiries      150000 non-null  float64\n",
            " 18  Credit_Mix                150000 non-null  object \n",
            " 19  Outstanding_Debt          150000 non-null  float64\n",
            " 20  Credit_Utilization_Ratio  150000 non-null  float64\n",
            " 21  Credit_History_Age        150000 non-null  float64\n",
            " 22  Payment_of_Min_Amount     150000 non-null  object \n",
            " 23  Total_EMI_per_month       150000 non-null  float64\n",
            " 24  Amount_invested_monthly   150000 non-null  float64\n",
            " 25  Payment_Behaviour         150000 non-null  object \n",
            " 26  Monthly_Balance           150000 non-null  float64\n",
            " 27  Credit_Score              100000 non-null  object \n",
            "dtypes: float64(18), int64(3), object(7)\n",
            "memory usage: 32.0+ MB\n"
          ]
        }
      ],
      "source": [
        "df = pd.read_csv(\"./clean_credit_score_classification.csv\")\n",
        "df.info()"
      ]
    },
    {
      "cell_type": "code",
      "execution_count": 32,
      "metadata": {
        "id": "mqehKMJg8_0u"
      },
      "outputs": [],
      "source": [
        "df.drop(['ID', 'Customer_ID', 'Name', 'SSN'], axis=1, inplace=True)\n",
        "df.dropna(inplace=True)\n",
        "df.drop_duplicates(df.drop('Credit_Score', axis=1).columns,inplace=True)"
      ]
    },
    {
      "cell_type": "code",
      "execution_count": 33,
      "metadata": {
        "id": "Rjx38mg69dHT"
      },
      "outputs": [],
      "source": [
        "df['Occupation'] = df['Occupation'].astype('category').cat.codes\n",
        "df['Credit_Mix'] = df['Credit_Mix'].astype('category').cat.codes\n",
        "df['Payment_Behaviour'] = df['Payment_Behaviour'].astype('category').cat.codes\n",
        "df['Payment_of_Min_Amount'] = df['Payment_of_Min_Amount'].astype('category').cat.codes\n",
        "labels = [\"Poor\", \"Standard\", \"Good\"]\n",
        "df['Credit_Score'] = df['Credit_Score'].map(labels.index)"
      ]
    },
    {
      "cell_type": "code",
      "execution_count": 34,
      "metadata": {},
      "outputs": [],
      "source": [
        "df['Type_of_Loan'] = df['Type_of_Loan'].str.replace(', and', ',')\n",
        "loans_set = list(set([y for x in df['Type_of_Loan'] for y in x.split(', ')]))\n",
        "df['Type_of_Loan'] = df['Type_of_Loan'].map(lambda line: np.array([True if x in line.split(', ') else False for x in loans_set]))\n",
        "for item in loans_set:\n",
        "    df[item] = df['Type_of_Loan'].map(lambda x: x[loans_set.index(item)])\n",
        "df.drop(['Type_of_Loan'], axis=1, inplace=True)"
      ]
    },
    {
      "cell_type": "code",
      "execution_count": 35,
      "metadata": {},
      "outputs": [],
      "source": [
        "def kfold_accurate(df: DataFrame, dfeatures: list):\n",
        "    X = df.drop(dfeatures + ['Credit_Score'], axis=1)\n",
        "    y = df['Credit_Score']\n",
        "    X = np.array(X)\n",
        "    y = np.array(y)\n",
        "    accurate = []\n",
        "    kf = StratifiedKFold(n_splits=4, shuffle=True, random_state=36)\n",
        "    for train_idx, test_idx in kf.split(X, y):\n",
        "        X_train, X_test = X[train_idx], X[test_idx]\n",
        "        y_train, y_test = y[train_idx], y[test_idx]\n",
        "        clf = DecisionTreeClassifier(criterion='gini', class_weight=None, random_state=36)\n",
        "        clf = clf.fit(X_train, y_train)\n",
        "        y_pred = clf.predict(X_test)\n",
        "        accurate.append(metrics.accuracy_score(y_test, y_pred))\n",
        "\n",
        "    return np.mean(accurate)"
      ]
    },
    {
      "cell_type": "code",
      "execution_count": 36,
      "metadata": {},
      "outputs": [
        {
          "name": "stdout",
          "output_type": "stream",
          "text": [
            "Pruning feature: 1\n",
            "Pruning feature: 2\n",
            "Pruning feature: 3\n",
            "Pruning feature: 4\n",
            "Pruning feature: 5\n",
            "Pruning feature: 6\n",
            "Pruning feature: 7\n",
            "Pruning feature: 8\n",
            "Pruning feature: 9\n",
            "Pruning feature: 10\n",
            "Pruning feature: 11\n",
            "Pruning feature: 12\n",
            "Pruning feature: 13\n",
            "Pruning feature: 14\n",
            "Pruning feature: 15\n",
            "Pruning feature: 16\n",
            "['Credit_Utilization_Ratio', 'Amount_invested_monthly', 'Payment_Behaviour', 'Monthly_Balance', 'Changed_Credit_Limit', 'Num_of_Delayed_Payment', 'Delay_from_due_date', 'Payment_of_Min_Amount', 'Num_Credit_Inquiries', 'Month', 'Age', 'Total_EMI_per_month', 'Auto Loan', 'Not Specified', 'Credit-Builder Loan']\n"
          ]
        }
      ],
      "source": [
        "dfeatures = []\n",
        "i = 0\n",
        "while True:\n",
        "    i += 1\n",
        "    print(f'Pruning feature: {i}')\n",
        "    best = kfold_accurate(df, dfeatures)\n",
        "    best_dfeature = False\n",
        "    for c in df.drop(dfeatures + ['Credit_Score'], axis=1).columns:\n",
        "        value = kfold_accurate(df, dfeatures + [c])\n",
        "        if value >= best:\n",
        "            best = value\n",
        "            best_dfeature = c\n",
        "    if not best_dfeature:\n",
        "        break\n",
        "    dfeatures += [best_dfeature]\n",
        "print(dfeatures)"
      ]
    },
    {
      "cell_type": "code",
      "execution_count": 37,
      "metadata": {},
      "outputs": [
        {
          "data": {
            "text/plain": [
              "0.8183500000000001"
            ]
          },
          "execution_count": 37,
          "metadata": {},
          "output_type": "execute_result"
        }
      ],
      "source": [
        "kfold_accurate(df, dfeatures)"
      ]
    },
    {
      "cell_type": "code",
      "execution_count": 38,
      "metadata": {},
      "outputs": [
        {
          "name": "stdout",
          "output_type": "stream",
          "text": [
            "               Predict Poor  Predict Standard  Predict Good\n",
            "True Poor              5810              1438             1\n",
            "True Standard          1362             11037           895\n",
            "True Good                11               960          3486\n",
            "              precision    recall  f1-score   support\n",
            "\n",
            "        Poor       0.81      0.80      0.81      7249\n",
            "    Standard       0.82      0.83      0.83     13294\n",
            "        Good       0.80      0.78      0.79      4457\n",
            "\n",
            "    accuracy                           0.81     25000\n",
            "   macro avg       0.81      0.80      0.81     25000\n",
            "weighted avg       0.81      0.81      0.81     25000\n",
            "\n"
          ]
        }
      ],
      "source": [
        "X = df.drop(dfeatures + ['Credit_Score'], axis=1)\n",
        "y = df['Credit_Score']\n",
        "X = np.array(X)\n",
        "y = np.array(y)\n",
        "X_train, X_test, y_train, y_test = train_test_split(X, y, test_size=0.25, stratify=y, random_state=36)\n",
        "\n",
        "clf = DecisionTreeClassifier(criterion='gini', class_weight=None)\n",
        "clf = clf.fit(X_train, y_train)\n",
        "y_pred = clf.predict(X_test)\n",
        "print(pd.DataFrame(metrics.confusion_matrix(y_test, y_pred, labels=np.unique(y_test)), \n",
        "             index=['True ' + x for x in labels], \n",
        "             columns=['Predict ' + x for x in labels]))\n",
        "print(metrics.classification_report(y_test, y_pred, target_names=labels))"
      ]
    },
    {
      "cell_type": "code",
      "execution_count": 39,
      "metadata": {},
      "outputs": [],
      "source": [
        "unique, counts = np.unique(y, return_counts=True)\n",
        "y_dict = dict(zip(unique, counts))\n",
        "class_weight = {0: 1 - y_dict[0]/len(y), 1: 1 - y_dict[1]/len(y), 2: 1 - y_dict[2]/len(y)}"
      ]
    },
    {
      "cell_type": "code",
      "execution_count": 40,
      "metadata": {},
      "outputs": [
        {
          "data": {
            "text/plain": [
              "{'No Data': 0.0019805573985645624,\n",
              " 'Student Loan': 0.00579385170092737,\n",
              " 'Mortgage Loan': 0.006426476072611391,\n",
              " 'Personal Loan': 0.0065264284915883325,\n",
              " 'Debt Consolidation Loan': 0.006593173200183231,\n",
              " 'Home Equity Loan': 0.007361997324247034,\n",
              " 'Payday Loan': 0.007390053338990745,\n",
              " 'Num_of_Loan': 0.02054984562589525,\n",
              " 'Num_Bank_Accounts': 0.025982834262462933,\n",
              " 'Num_Credit_Card': 0.032915425951901084,\n",
              " 'Occupation': 0.03622005813524728,\n",
              " 'Annual_Income': 0.05089810636296201,\n",
              " 'Monthly_Inhand_Salary': 0.05806640117141043,\n",
              " 'Interest_Rate': 0.059557844016731906,\n",
              " 'Credit_Mix': 0.13475085591118555,\n",
              " 'Outstanding_Debt': 0.19827699624386544,\n",
              " 'Credit_History_Age': 0.3407090947912254}"
            ]
          },
          "execution_count": 40,
          "metadata": {},
          "output_type": "execute_result"
        }
      ],
      "source": [
        "important_features = {}\n",
        "for name, value in zip(df.drop(dfeatures + ['Credit_Score'], axis=1).columns, clf.feature_importances_):\n",
        "  important_features[name] = value\n",
        "important_features = dict(sorted(important_features.items(), key=lambda x: x[1]))\n",
        "important_features"
      ]
    },
    {
      "cell_type": "code",
      "execution_count": 41,
      "metadata": {},
      "outputs": [
        {
          "name": "stdout",
          "output_type": "stream",
          "text": [
            "{0: 0.71002, 1: 0.46826, 2: 0.82172}\n"
          ]
        }
      ],
      "source": [
        "print(class_weight)"
      ]
    },
    {
      "cell_type": "code",
      "execution_count": 42,
      "metadata": {},
      "outputs": [
        {
          "name": "stdout",
          "output_type": "stream",
          "text": [
            "{'class_weight': 'balanced', 'max_depth': None}\n"
          ]
        }
      ],
      "source": [
        "decision_tree = DecisionTreeClassifier(random_state=36)\n",
        "params = {\n",
        "    'max_depth': [None] + list(range(25, 60, 5)),\n",
        "    'class_weight': [None, 'balanced', class_weight]\n",
        "}\n",
        "grid = GridSearchCV(decision_tree, params, cv=4, n_jobs=-1)\n",
        "grid.fit(X_train, y_train)\n",
        "print(grid.best_params_)"
      ]
    },
    {
      "cell_type": "code",
      "execution_count": 43,
      "metadata": {},
      "outputs": [
        {
          "name": "stdout",
          "output_type": "stream",
          "text": [
            "               Predict Poor  Predict Standard  Predict Good\n",
            "True Poor              5842              1400             7\n",
            "True Standard          1354             11041           899\n",
            "True Good                 9               970          3478\n",
            "              precision    recall  f1-score   support\n",
            "\n",
            "        Poor       0.81      0.81      0.81      7249\n",
            "    Standard       0.82      0.83      0.83     13294\n",
            "        Good       0.79      0.78      0.79      4457\n",
            "\n",
            "    accuracy                           0.81     25000\n",
            "   macro avg       0.81      0.81      0.81     25000\n",
            "weighted avg       0.81      0.81      0.81     25000\n",
            "\n",
            "0.81444\n"
          ]
        }
      ],
      "source": [
        "X = df.drop(dfeatures + ['Credit_Score'], axis=1)\n",
        "y = df['Credit_Score']\n",
        "X = np.array(X)\n",
        "y = np.array(y)\n",
        "\n",
        "X_train, X_test, y_train, y_test = train_test_split(X, y, test_size=0.25, stratify=y, random_state=36)\n",
        "\n",
        "clf = DecisionTreeClassifier(**grid.best_params_, random_state=36)\n",
        "clf = clf.fit(X_train, y_train)\n",
        "y_pred = clf.predict(X_test)\n",
        "print(pd.DataFrame(metrics.confusion_matrix(y_test, y_pred, labels=np.unique(y_test)), \n",
        "             index=['True ' + x for x in labels], \n",
        "             columns=['Predict ' + x for x in labels]))\n",
        "print(metrics.classification_report(y_test, y_pred, target_names=labels))\n",
        "print(metrics.accuracy_score(y_test, y_pred))"
      ]
    },
    {
      "cell_type": "code",
      "execution_count": 45,
      "metadata": {},
      "outputs": [],
      "source": [
        "X = df.drop(dfeatures + ['Credit_Score'], axis=1)\n",
        "y = df['Credit_Score']\n",
        "X = np.array(X)\n",
        "y = np.array(y)\n",
        "\n",
        "clf = DecisionTreeClassifier(**grid.best_params_)\n",
        "clf = clf.fit(X, y)\n",
        "\n",
        "clf.features = df.drop(dfeatures + ['Credit_Score'], axis=1).columns\n",
        "clf.labels = labels\n",
        "with open('model_l.pkl', 'wb') as file:\n",
        "    pickle.dump(clf, file)"
      ]
    }
  ],
  "metadata": {
    "colab": {
      "provenance": []
    },
    "kernelspec": {
      "display_name": "Python 3.10.6 64-bit",
      "language": "python",
      "name": "python3"
    },
    "language_info": {
      "codemirror_mode": {
        "name": "ipython",
        "version": 3
      },
      "file_extension": ".py",
      "mimetype": "text/x-python",
      "name": "python",
      "nbconvert_exporter": "python",
      "pygments_lexer": "ipython3",
      "version": "3.10.6"
    },
    "vscode": {
      "interpreter": {
        "hash": "369f2c481f4da34e4445cda3fffd2e751bd1c4d706f27375911949ba6bb62e1c"
      }
    }
  },
  "nbformat": 4,
  "nbformat_minor": 0
}
