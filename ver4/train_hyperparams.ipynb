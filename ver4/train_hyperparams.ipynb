{
  "cells": [
    {
      "cell_type": "code",
      "execution_count": 15,
      "metadata": {
        "id": "uCt3OI-V2GGZ"
      },
      "outputs": [],
      "source": [
        "import pandas as pd\n",
        "import pickle\n",
        "from pandas import DataFrame\n",
        "import matplotlib.pyplot as plt\n",
        "import numpy as np\n",
        "from sklearn.model_selection import train_test_split, GridSearchCV\n",
        "from sklearn.tree import DecisionTreeClassifier\n",
        "from sklearn.ensemble import RandomForestClassifier\n",
        "from sklearn import metrics\n",
        "from sklearn.model_selection import KFold, StratifiedKFold, cross_val_score\n",
        "from sklearn.feature_selection import SequentialFeatureSelector, RFE, SelectFromModel\n",
        "import seaborn as sns\n",
        "import phik"
      ]
    },
    {
      "cell_type": "code",
      "execution_count": 16,
      "metadata": {
        "colab": {
          "base_uri": "https://localhost:8080/"
        },
        "id": "4pUUBEDi64Vk",
        "outputId": "4e1cedfc-a3b6-45b8-ee42-8d5f15166566"
      },
      "outputs": [
        {
          "name": "stdout",
          "output_type": "stream",
          "text": [
            "<class 'pandas.core.frame.DataFrame'>\n",
            "RangeIndex: 93312 entries, 0 to 93311\n",
            "Data columns (total 31 columns):\n",
            " #   Column                    Non-Null Count  Dtype  \n",
            "---  ------                    --------------  -----  \n",
            " 0   Age                       93312 non-null  float64\n",
            " 1   Occupation                93312 non-null  int64  \n",
            " 2   Annual_Income             93312 non-null  float64\n",
            " 3   Monthly_Inhand_Salary     93312 non-null  float64\n",
            " 4   Num_Bank_Accounts         93312 non-null  float64\n",
            " 5   Num_Credit_Card           93312 non-null  float64\n",
            " 6   Interest_Rate             93312 non-null  float64\n",
            " 7   Num_of_Loan               93312 non-null  int64  \n",
            " 8   Delay_from_due_date       93312 non-null  float64\n",
            " 9   Num_of_Delayed_Payment    93312 non-null  float64\n",
            " 10  Changed_Credit_Limit      93312 non-null  float64\n",
            " 11  Num_Credit_Inquiries      93312 non-null  float64\n",
            " 12  Credit_Mix                93312 non-null  int64  \n",
            " 13  Outstanding_Debt          93312 non-null  float64\n",
            " 14  Credit_Utilization_Ratio  93312 non-null  float64\n",
            " 15  Credit_History_Age        93312 non-null  float64\n",
            " 16  Payment_of_Min_Amount     93312 non-null  int64  \n",
            " 17  Total_EMI_per_month       93312 non-null  float64\n",
            " 18  Amount_invested_monthly   93312 non-null  float64\n",
            " 19  Payment_Behaviour         93312 non-null  int64  \n",
            " 20  Monthly_Balance           93312 non-null  float64\n",
            " 21  Credit_Score              93312 non-null  int64  \n",
            " 22  Personal Loan             93312 non-null  int64  \n",
            " 23  Home Equity Loan          93312 non-null  int64  \n",
            " 24  Auto Loan                 93312 non-null  int64  \n",
            " 25  Mortgage Loan             93312 non-null  int64  \n",
            " 26  Payday Loan               93312 non-null  int64  \n",
            " 27  Credit-Builder Loan       93312 non-null  int64  \n",
            " 28  Student Loan              93312 non-null  int64  \n",
            " 29  Debt Consolidation Loan   93312 non-null  int64  \n",
            " 30  Not Specified             93312 non-null  int64  \n",
            "dtypes: float64(16), int64(15)\n",
            "memory usage: 22.1 MB\n"
          ]
        }
      ],
      "source": [
        "df = pd.read_csv(\"./dataset.csv\")\n",
        "df.info()"
      ]
    },
    {
      "cell_type": "code",
      "execution_count": 17,
      "metadata": {},
      "outputs": [],
      "source": [
        "def cross_val_metrics(clf, X, y, cv=5):\n",
        "    accuracy = []\n",
        "    f1 = []\n",
        "    precision = []\n",
        "    recall = []\n",
        "    kf = StratifiedKFold(n_splits=cv, shuffle=True, random_state=36)\n",
        "    for train_idx, test_idx in kf.split(X, y):\n",
        "        X_train, X_test = X[train_idx], X[test_idx]\n",
        "        y_train, y_test = y[train_idx], y[test_idx]\n",
        "        clf.fit(X_train, y_train)\n",
        "        y_pred = clf.predict(X_test)\n",
        "        accuracy.append(metrics.accuracy_score(y_test, y_pred))\n",
        "        precision.append(metrics.precision_score(y_test, y_pred, average=None))\n",
        "        recall.append(metrics.recall_score(y_test, y_pred, average=None))\n",
        "        f1.append(metrics.f1_score(y_test, y_pred, average=None))\n",
        "    print(\"accuracy\", np.mean(accuracy))\n",
        "    print(\"precision\", np.mean(precision, axis=0))\n",
        "    print(\"recall\",np.mean(recall, axis=0))\n",
        "    print(\"f1\",np.mean(f1, axis=0))"
      ]
    },
    {
      "cell_type": "code",
      "execution_count": 18,
      "metadata": {},
      "outputs": [],
      "source": [
        "labels = ['Poor', 'Standard', 'Good']"
      ]
    },
    {
      "cell_type": "code",
      "execution_count": 19,
      "metadata": {},
      "outputs": [],
      "source": [
        "relevant_features = ['Debt Consolidation Loan', 'Changed_Credit_Limit', 'Annual_Income',\n",
        "       'Num_of_Loan', 'Credit_History_Age', 'Num_of_Delayed_Payment',\n",
        "       'Num_Bank_Accounts', 'Delay_from_due_date', 'Num_Credit_Inquiries',\n",
        "       'Num_Credit_Card', 'Outstanding_Debt', 'Interest_Rate', 'Credit_Mix']"
      ]
    },
    {
      "cell_type": "code",
      "execution_count": 20,
      "metadata": {},
      "outputs": [
        {
          "name": "stdout",
          "output_type": "stream",
          "text": [
            "(74649, 13) (74649,)\n"
          ]
        }
      ],
      "source": [
        "X = df[relevant_features]\n",
        "y = df['Credit_Score']\n",
        "X = np.array(X)\n",
        "y = np.array(y)\n",
        "\n",
        "X_train, X_test, y_train, y_test = train_test_split(X, y, test_size=0.2, stratify=y, random_state=36)\n",
        "\n",
        "print(X_train.shape, y_train.shape)"
      ]
    },
    {
      "cell_type": "code",
      "execution_count": 21,
      "metadata": {},
      "outputs": [
        {
          "data": {
            "text/plain": [
              "{'ccp_alpha': 0.0,\n",
              " 'class_weight': None,\n",
              " 'criterion': 'gini',\n",
              " 'max_depth': None,\n",
              " 'max_features': None,\n",
              " 'max_leaf_nodes': None,\n",
              " 'min_impurity_decrease': 0.0,\n",
              " 'min_samples_leaf': 1,\n",
              " 'min_samples_split': 2,\n",
              " 'min_weight_fraction_leaf': 0.0,\n",
              " 'random_state': None,\n",
              " 'splitter': 'best'}"
            ]
          },
          "execution_count": 21,
          "metadata": {},
          "output_type": "execute_result"
        }
      ],
      "source": [
        "clf = DecisionTreeClassifier()\n",
        "clf.get_params()"
      ]
    },
    {
      "cell_type": "code",
      "execution_count": 22,
      "metadata": {},
      "outputs": [
        {
          "name": "stdout",
          "output_type": "stream",
          "text": [
            "Fitting 5 folds for each of 2800 candidates, totalling 14000 fits\n",
            "{'criterion': 'entropy', 'max_depth': 30, 'min_samples_leaf': 1, 'min_samples_split': 2}\n"
          ]
        }
      ],
      "source": [
        "clf = DecisionTreeClassifier(random_state=36)\n",
        "params = {\n",
        "    'criterion': ['gini', 'entropy'],\n",
        "    'max_depth': [None] + list(range(10, 51, 5)),\n",
        "    'min_samples_leaf': [1,2,3,4] + list(range(5, 51, 5)),\n",
        "    'min_samples_split': list(range(2, 50, 5))\n",
        "}\n",
        "grid = GridSearchCV(clf, params, cv=5, n_jobs=-1, verbose=1)\n",
        "grid.fit(X_train, y_train)\n",
        "print(grid.best_params_)"
      ]
    },
    {
      "cell_type": "code",
      "execution_count": 23,
      "metadata": {},
      "outputs": [
        {
          "name": "stdout",
          "output_type": "stream",
          "text": [
            "               Predict Poor  Predict Standard  Predict Good\n",
            "True Poor              4105              1099            51\n",
            "True Standard          1332              7827           921\n",
            "True Good                73               886          2369\n",
            "              precision    recall  f1-score   support\n",
            "\n",
            "        Poor       0.75      0.78      0.76      5255\n",
            "    Standard       0.80      0.78      0.79     10080\n",
            "        Good       0.71      0.71      0.71      3328\n",
            "\n",
            "    accuracy                           0.77     18663\n",
            "   macro avg       0.75      0.76      0.75     18663\n",
            "weighted avg       0.77      0.77      0.77     18663\n",
            "\n"
          ]
        }
      ],
      "source": [
        "clf = DecisionTreeClassifier(**grid.best_params_)\n",
        "clf = clf.fit(X_train, y_train)\n",
        "y_pred = clf.predict(X_test)\n",
        "print(pd.DataFrame(metrics.confusion_matrix(y_test, y_pred, labels=np.unique(y_test)), \n",
        "             index=['True ' + x for x in labels], \n",
        "             columns=['Predict ' + x for x in labels]))\n",
        "print(metrics.classification_report(y_test, y_pred, target_names=labels))"
      ]
    },
    {
      "cell_type": "code",
      "execution_count": 24,
      "metadata": {},
      "outputs": [
        {
          "data": {
            "text/plain": [
              "30"
            ]
          },
          "execution_count": 24,
          "metadata": {},
          "output_type": "execute_result"
        }
      ],
      "source": [
        "clf.get_depth()"
      ]
    },
    {
      "cell_type": "code",
      "execution_count": 25,
      "metadata": {},
      "outputs": [
        {
          "name": "stdout",
          "output_type": "stream",
          "text": [
            "accuracy 0.7742948964329056\n",
            "precision [0.75835588 0.79923651 0.72459171]\n",
            "recall [0.77595526 0.79312684 0.71462871]\n",
            "f1 [0.76702791 0.79615616 0.71952268]\n"
          ]
        }
      ],
      "source": [
        "cross_val_metrics(clf, X, y)"
      ]
    },
    {
      "cell_type": "code",
      "execution_count": 28,
      "metadata": {},
      "outputs": [],
      "source": [
        "clf = DecisionTreeClassifier(**grid.best_params_)\n",
        "clf = clf.fit(X, y)\n",
        "\n",
        "clf.features = relevant_features\n",
        "clf.labels = labels\n",
        "\n",
        "with open('model.pkl', 'wb') as file:\n",
        "    pickle.dump(clf, file)"
      ]
    }
  ],
  "metadata": {
    "colab": {
      "provenance": []
    },
    "kernelspec": {
      "display_name": "Python 3.10.6 64-bit",
      "language": "python",
      "name": "python3"
    },
    "language_info": {
      "codemirror_mode": {
        "name": "ipython",
        "version": 3
      },
      "file_extension": ".py",
      "mimetype": "text/x-python",
      "name": "python",
      "nbconvert_exporter": "python",
      "pygments_lexer": "ipython3",
      "version": "3.10.6"
    },
    "vscode": {
      "interpreter": {
        "hash": "369f2c481f4da34e4445cda3fffd2e751bd1c4d706f27375911949ba6bb62e1c"
      }
    }
  },
  "nbformat": 4,
  "nbformat_minor": 0
}
