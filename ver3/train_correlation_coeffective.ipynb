{
  "cells": [
    {
      "cell_type": "code",
      "execution_count": 68,
      "metadata": {
        "id": "uCt3OI-V2GGZ"
      },
      "outputs": [],
      "source": [
        "import pandas as pd\n",
        "import pickle\n",
        "from pandas import DataFrame\n",
        "import matplotlib.pyplot as plt\n",
        "import numpy as np\n",
        "from sklearn.model_selection import train_test_split, GridSearchCV\n",
        "from sklearn.tree import DecisionTreeClassifier\n",
        "from sklearn.ensemble import RandomForestClassifier\n",
        "from sklearn import metrics\n",
        "from sklearn.model_selection import KFold, StratifiedKFold, cross_val_score\n",
        "from sklearn.feature_selection import SequentialFeatureSelector, RFE, SelectFromModel\n",
        "import seaborn as sns"
      ]
    },
    {
      "cell_type": "code",
      "execution_count": 55,
      "metadata": {
        "colab": {
          "base_uri": "https://localhost:8080/"
        },
        "id": "4pUUBEDi64Vk",
        "outputId": "4e1cedfc-a3b6-45b8-ee42-8d5f15166566"
      },
      "outputs": [
        {
          "name": "stdout",
          "output_type": "stream",
          "text": [
            "<class 'pandas.core.frame.DataFrame'>\n",
            "RangeIndex: 93312 entries, 0 to 93311\n",
            "Data columns (total 31 columns):\n",
            " #   Column                    Non-Null Count  Dtype  \n",
            "---  ------                    --------------  -----  \n",
            " 0   Age                       93312 non-null  float64\n",
            " 1   Occupation                93312 non-null  int64  \n",
            " 2   Annual_Income             93312 non-null  float64\n",
            " 3   Monthly_Inhand_Salary     93312 non-null  float64\n",
            " 4   Num_Bank_Accounts         93312 non-null  float64\n",
            " 5   Num_Credit_Card           93312 non-null  float64\n",
            " 6   Interest_Rate             93312 non-null  float64\n",
            " 7   Num_of_Loan               93312 non-null  int64  \n",
            " 8   Delay_from_due_date       93312 non-null  float64\n",
            " 9   Num_of_Delayed_Payment    93312 non-null  float64\n",
            " 10  Changed_Credit_Limit      93312 non-null  float64\n",
            " 11  Num_Credit_Inquiries      93312 non-null  float64\n",
            " 12  Credit_Mix                93312 non-null  int64  \n",
            " 13  Outstanding_Debt          93312 non-null  float64\n",
            " 14  Credit_Utilization_Ratio  93312 non-null  float64\n",
            " 15  Credit_History_Age        93312 non-null  float64\n",
            " 16  Payment_of_Min_Amount     93312 non-null  int64  \n",
            " 17  Total_EMI_per_month       93312 non-null  float64\n",
            " 18  Amount_invested_monthly   93312 non-null  float64\n",
            " 19  Payment_Behaviour         93312 non-null  int64  \n",
            " 20  Monthly_Balance           93312 non-null  float64\n",
            " 21  Credit_Score              93312 non-null  int64  \n",
            " 22  Auto Loan                 93312 non-null  int64  \n",
            " 23  Student Loan              93312 non-null  int64  \n",
            " 24  Payday Loan               93312 non-null  int64  \n",
            " 25  Credit-Builder Loan       93312 non-null  int64  \n",
            " 26  Personal Loan             93312 non-null  int64  \n",
            " 27  Mortgage Loan             93312 non-null  int64  \n",
            " 28  Debt Consolidation Loan   93312 non-null  int64  \n",
            " 29  Not Specified             93312 non-null  int64  \n",
            " 30  Home Equity Loan          93312 non-null  int64  \n",
            "dtypes: float64(16), int64(15)\n",
            "memory usage: 22.1 MB\n"
          ]
        }
      ],
      "source": [
        "df = pd.read_csv(\"./dataset.csv\")\n",
        "df.info()"
      ]
    },
    {
      "cell_type": "code",
      "execution_count": 71,
      "metadata": {},
      "outputs": [],
      "source": [
        "def cross_val_metrics(clf, X, y, cv=5):\n",
        "    accuracy = []\n",
        "    f1 = []\n",
        "    precision = []\n",
        "    recall = []\n",
        "    kf = StratifiedKFold(n_splits=cv, shuffle=True, random_state=36)\n",
        "    for train_idx, test_idx in kf.split(X, y):\n",
        "        X_train, X_test = X[train_idx], X[test_idx]\n",
        "        y_train, y_test = y[train_idx], y[test_idx]\n",
        "        clf.fit(X_train, y_train)\n",
        "        y_pred = clf.predict(X_test)\n",
        "        accuracy.append(metrics.accuracy_score(y_test, y_pred))\n",
        "        precision.append(metrics.precision_score(y_test, y_pred, average=None))\n",
        "        recall.append(metrics.recall_score(y_test, y_pred, average=None))\n",
        "        f1.append(metrics.f1_score(y_test, y_pred, average=None))\n",
        "    print(\"accuracy\", np.mean(accuracy))\n",
        "    print(\"precision\", np.mean(precision, axis=0))\n",
        "    print(\"recall\",np.mean(recall, axis=0))\n",
        "    print(\"f1\",np.mean(f1, axis=0))"
      ]
    },
    {
      "cell_type": "code",
      "execution_count": 56,
      "metadata": {},
      "outputs": [
        {
          "data": {
            "text/plain": [
              "count    31.000000\n",
              "mean      0.244838\n",
              "std       0.192501\n",
              "min       0.007299\n",
              "25%       0.144132\n",
              "50%       0.164118\n",
              "75%       0.369661\n",
              "max       1.000000\n",
              "Name: Credit_Score, dtype: float64"
            ]
          },
          "execution_count": 56,
          "metadata": {},
          "output_type": "execute_result"
        }
      ],
      "source": [
        "corr = df.corr()\n",
        "corr_target = abs(corr[\"Credit_Score\"])\n",
        "corr_target.describe()"
      ]
    },
    {
      "cell_type": "code",
      "execution_count": 57,
      "metadata": {},
      "outputs": [
        {
          "data": {
            "text/plain": [
              "Monthly_Balance           0.164118\n",
              "Changed_Credit_Limit      0.171321\n",
              "Monthly_Inhand_Salary     0.194045\n",
              "Annual_Income             0.196990\n",
              "Credit_Mix                0.281879\n",
              "Payment_of_Min_Amount     0.287411\n",
              "Num_of_Loan               0.352082\n",
              "Num_of_Delayed_Payment    0.362101\n",
              "Num_Bank_Accounts         0.377222\n",
              "Outstanding_Debt          0.380709\n",
              "Credit_History_Age        0.384106\n",
              "Num_Credit_Card           0.396542\n",
              "Delay_from_due_date       0.419952\n",
              "Num_Credit_Inquiries      0.430619\n",
              "Interest_Rate             0.479631\n",
              "Credit_Score              1.000000\n",
              "Name: Credit_Score, dtype: float64"
            ]
          },
          "execution_count": 57,
          "metadata": {},
          "output_type": "execute_result"
        }
      ],
      "source": [
        "#relevant_features = corr_target[corr_target > corr_target.quantile(1/3)]\n",
        "relevant_features = corr_target\n",
        "relevant_features.sort_values(inplace=True)\n",
        "relevant_features = relevant_features.tail(16)\n",
        "relevant_features"
      ]
    },
    {
      "cell_type": "code",
      "execution_count": 58,
      "metadata": {},
      "outputs": [],
      "source": [
        "corr_features = df[relevant_features.index].corr()\n",
        "corr_features.values[np.tril_indices_from(corr_features.values)] = np.nan\n",
        "corr_features = corr_features.applymap(lambda x: abs(x))"
      ]
    },
    {
      "cell_type": "code",
      "execution_count": 59,
      "metadata": {},
      "outputs": [
        {
          "data": {
            "text/plain": [
              "count    120.000000\n",
              "mean       0.370407\n",
              "std        0.142214\n",
              "min        0.153324\n",
              "25%        0.265093\n",
              "50%        0.372575\n",
              "75%        0.465076\n",
              "max        0.997799\n",
              "dtype: float64"
            ]
          },
          "execution_count": 59,
          "metadata": {},
          "output_type": "execute_result"
        }
      ],
      "source": [
        "corr_features.unstack().describe()"
      ]
    },
    {
      "cell_type": "code",
      "execution_count": 60,
      "metadata": {},
      "outputs": [],
      "source": [
        "corr_arr = []\n",
        "\n",
        "for col in relevant_features.index:\n",
        "    for col2 in relevant_features.index:\n",
        "        if col == col2 or col in corr_arr or col2 in corr_arr:\n",
        "            continue\n",
        "        if abs(df[[col, col2]].corr()[col][col2]) > .75:\n",
        "            corr_arr.append(col)"
      ]
    },
    {
      "cell_type": "code",
      "execution_count": 61,
      "metadata": {},
      "outputs": [],
      "source": [
        "relevant_features.drop(corr_arr, axis=0, inplace=True)"
      ]
    },
    {
      "cell_type": "code",
      "execution_count": 62,
      "metadata": {},
      "outputs": [
        {
          "data": {
            "text/plain": [
              "Monthly_Balance           0.164118\n",
              "Changed_Credit_Limit      0.171321\n",
              "Annual_Income             0.196990\n",
              "Credit_Mix                0.281879\n",
              "Payment_of_Min_Amount     0.287411\n",
              "Num_of_Loan               0.352082\n",
              "Num_of_Delayed_Payment    0.362101\n",
              "Num_Bank_Accounts         0.377222\n",
              "Outstanding_Debt          0.380709\n",
              "Credit_History_Age        0.384106\n",
              "Num_Credit_Card           0.396542\n",
              "Delay_from_due_date       0.419952\n",
              "Num_Credit_Inquiries      0.430619\n",
              "Interest_Rate             0.479631\n",
              "Credit_Score              1.000000\n",
              "Name: Credit_Score, dtype: float64"
            ]
          },
          "execution_count": 62,
          "metadata": {},
          "output_type": "execute_result"
        }
      ],
      "source": [
        "relevant_features"
      ]
    },
    {
      "cell_type": "code",
      "execution_count": 63,
      "metadata": {},
      "outputs": [
        {
          "data": {
            "text/plain": [
              "['Monthly_Inhand_Salary']"
            ]
          },
          "execution_count": 63,
          "metadata": {},
          "output_type": "execute_result"
        }
      ],
      "source": [
        "corr_arr"
      ]
    },
    {
      "cell_type": "code",
      "execution_count": 64,
      "metadata": {},
      "outputs": [],
      "source": [
        "labels = ['Poor', 'Standard', 'Good']"
      ]
    },
    {
      "cell_type": "code",
      "execution_count": 65,
      "metadata": {},
      "outputs": [
        {
          "name": "stdout",
          "output_type": "stream",
          "text": [
            "(74649, 14) (74649,)\n"
          ]
        }
      ],
      "source": [
        "X = df[relevant_features.index].drop(['Credit_Score'], axis=1)\n",
        "y = df['Credit_Score']\n",
        "X = np.array(X)\n",
        "y = np.array(y)\n",
        "\n",
        "X_train, X_test, y_train, y_test = train_test_split(X, y, test_size=0.2, stratify=y, random_state=36)\n",
        "\n",
        "print(X_train.shape, y_train.shape)"
      ]
    },
    {
      "cell_type": "code",
      "execution_count": 66,
      "metadata": {},
      "outputs": [
        {
          "name": "stdout",
          "output_type": "stream",
          "text": [
            "               Predict Poor  Predict Standard  Predict Good\n",
            "True Poor              4272               935            48\n",
            "True Standard          1226              8101           753\n",
            "True Good                14               871          2443\n",
            "              precision    recall  f1-score   support\n",
            "\n",
            "        Poor       0.78      0.81      0.79      5255\n",
            "    Standard       0.82      0.80      0.81     10080\n",
            "        Good       0.75      0.73      0.74      3328\n",
            "\n",
            "    accuracy                           0.79     18663\n",
            "   macro avg       0.78      0.78      0.78     18663\n",
            "weighted avg       0.79      0.79      0.79     18663\n",
            "\n"
          ]
        }
      ],
      "source": [
        "clf = RandomForestClassifier()\n",
        "clf = clf.fit(X_train, y_train)\n",
        "y_pred = clf.predict(X_test)\n",
        "print(pd.DataFrame(metrics.confusion_matrix(y_test, y_pred, labels=np.unique(y_test)), \n",
        "             index=['True ' + x for x in labels], \n",
        "             columns=['Predict ' + x for x in labels]))\n",
        "print(metrics.classification_report(y_test, y_pred, target_names=labels))"
      ]
    },
    {
      "cell_type": "code",
      "execution_count": 72,
      "metadata": {},
      "outputs": [
        {
          "name": "stdout",
          "output_type": "stream",
          "text": [
            "accuracy 0.8025442556014115\n",
            "precision [0.79009059 0.82139378 0.76470499]\n",
            "recall [0.81492632 0.81812768 0.73578573]\n",
            "f1 [0.80231571 0.81974804 0.74989136]\n"
          ]
        }
      ],
      "source": [
        "cross_val_metrics(clf, X, y, cv=5)"
      ]
    }
  ],
  "metadata": {
    "colab": {
      "provenance": []
    },
    "kernelspec": {
      "display_name": "Python 3.10.6 64-bit",
      "language": "python",
      "name": "python3"
    },
    "language_info": {
      "codemirror_mode": {
        "name": "ipython",
        "version": 3
      },
      "file_extension": ".py",
      "mimetype": "text/x-python",
      "name": "python",
      "nbconvert_exporter": "python",
      "pygments_lexer": "ipython3",
      "version": "3.10.6"
    },
    "vscode": {
      "interpreter": {
        "hash": "369f2c481f4da34e4445cda3fffd2e751bd1c4d706f27375911949ba6bb62e1c"
      }
    }
  },
  "nbformat": 4,
  "nbformat_minor": 0
}
