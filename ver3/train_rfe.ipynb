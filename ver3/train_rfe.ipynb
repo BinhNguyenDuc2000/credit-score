{
  "cells": [
    {
      "cell_type": "code",
      "execution_count": 1,
      "metadata": {
        "id": "uCt3OI-V2GGZ"
      },
      "outputs": [],
      "source": [
        "import pandas as pd\n",
        "import pickle\n",
        "from pandas import DataFrame\n",
        "import matplotlib.pyplot as plt\n",
        "import numpy as np\n",
        "from sklearn.model_selection import train_test_split, GridSearchCV\n",
        "from sklearn.tree import DecisionTreeClassifier\n",
        "from sklearn.ensemble import RandomForestClassifier\n",
        "from sklearn import metrics\n",
        "from sklearn.model_selection import KFold, StratifiedKFold\n",
        "from sklearn.feature_selection import SequentialFeatureSelector, RFE, SelectFromModel\n",
        "import seaborn as sns"
      ]
    },
    {
      "cell_type": "code",
      "execution_count": 2,
      "metadata": {
        "colab": {
          "base_uri": "https://localhost:8080/"
        },
        "id": "4pUUBEDi64Vk",
        "outputId": "4e1cedfc-a3b6-45b8-ee42-8d5f15166566"
      },
      "outputs": [
        {
          "name": "stdout",
          "output_type": "stream",
          "text": [
            "<class 'pandas.core.frame.DataFrame'>\n",
            "RangeIndex: 93312 entries, 0 to 93311\n",
            "Data columns (total 31 columns):\n",
            " #   Column                    Non-Null Count  Dtype  \n",
            "---  ------                    --------------  -----  \n",
            " 0   Age                       93312 non-null  float64\n",
            " 1   Occupation                93312 non-null  int64  \n",
            " 2   Annual_Income             93312 non-null  float64\n",
            " 3   Monthly_Inhand_Salary     93312 non-null  float64\n",
            " 4   Num_Bank_Accounts         93312 non-null  float64\n",
            " 5   Num_Credit_Card           93312 non-null  float64\n",
            " 6   Interest_Rate             93312 non-null  float64\n",
            " 7   Num_of_Loan               93312 non-null  int64  \n",
            " 8   Delay_from_due_date       93312 non-null  float64\n",
            " 9   Num_of_Delayed_Payment    93312 non-null  float64\n",
            " 10  Changed_Credit_Limit      93312 non-null  float64\n",
            " 11  Num_Credit_Inquiries      93312 non-null  float64\n",
            " 12  Credit_Mix                93312 non-null  int64  \n",
            " 13  Outstanding_Debt          93312 non-null  float64\n",
            " 14  Credit_Utilization_Ratio  93312 non-null  float64\n",
            " 15  Credit_History_Age        93312 non-null  float64\n",
            " 16  Payment_of_Min_Amount     93312 non-null  int64  \n",
            " 17  Total_EMI_per_month       93312 non-null  float64\n",
            " 18  Amount_invested_monthly   93312 non-null  float64\n",
            " 19  Payment_Behaviour         93312 non-null  int64  \n",
            " 20  Monthly_Balance           93312 non-null  float64\n",
            " 21  Credit_Score              93312 non-null  int64  \n",
            " 22  Auto Loan                 93312 non-null  int64  \n",
            " 23  Student Loan              93312 non-null  int64  \n",
            " 24  Payday Loan               93312 non-null  int64  \n",
            " 25  Credit-Builder Loan       93312 non-null  int64  \n",
            " 26  Personal Loan             93312 non-null  int64  \n",
            " 27  Mortgage Loan             93312 non-null  int64  \n",
            " 28  Debt Consolidation Loan   93312 non-null  int64  \n",
            " 29  Not Specified             93312 non-null  int64  \n",
            " 30  Home Equity Loan          93312 non-null  int64  \n",
            "dtypes: float64(16), int64(15)\n",
            "memory usage: 22.1 MB\n"
          ]
        }
      ],
      "source": [
        "df = pd.read_csv(\"./dataset.csv\")\n",
        "df.info()"
      ]
    },
    {
      "cell_type": "code",
      "execution_count": 3,
      "metadata": {},
      "outputs": [],
      "source": [
        "labels = ['Poor', 'Standard', 'Good']"
      ]
    },
    {
      "cell_type": "code",
      "execution_count": 10,
      "metadata": {},
      "outputs": [
        {
          "name": "stdout",
          "output_type": "stream",
          "text": [
            "(74649, 30) (74649,)\n"
          ]
        }
      ],
      "source": [
        "X = df.drop(['Credit_Score'], axis=1)\n",
        "y = df['Credit_Score']\n",
        "X = np.array(X)\n",
        "y = np.array(y)\n",
        "\n",
        "X_train, X_test, y_train, y_test = train_test_split(X, y, test_size=0.2, stratify=y, random_state=36)\n",
        "\n",
        "print(X_train.shape, y_train.shape)"
      ]
    },
    {
      "cell_type": "code",
      "execution_count": 5,
      "metadata": {},
      "outputs": [
        {
          "data": {
            "text/html": [
              "<style>#sk-container-id-1 {color: black;background-color: white;}#sk-container-id-1 pre{padding: 0;}#sk-container-id-1 div.sk-toggleable {background-color: white;}#sk-container-id-1 label.sk-toggleable__label {cursor: pointer;display: block;width: 100%;margin-bottom: 0;padding: 0.3em;box-sizing: border-box;text-align: center;}#sk-container-id-1 label.sk-toggleable__label-arrow:before {content: \"▸\";float: left;margin-right: 0.25em;color: #696969;}#sk-container-id-1 label.sk-toggleable__label-arrow:hover:before {color: black;}#sk-container-id-1 div.sk-estimator:hover label.sk-toggleable__label-arrow:before {color: black;}#sk-container-id-1 div.sk-toggleable__content {max-height: 0;max-width: 0;overflow: hidden;text-align: left;background-color: #f0f8ff;}#sk-container-id-1 div.sk-toggleable__content pre {margin: 0.2em;color: black;border-radius: 0.25em;background-color: #f0f8ff;}#sk-container-id-1 input.sk-toggleable__control:checked~div.sk-toggleable__content {max-height: 200px;max-width: 100%;overflow: auto;}#sk-container-id-1 input.sk-toggleable__control:checked~label.sk-toggleable__label-arrow:before {content: \"▾\";}#sk-container-id-1 div.sk-estimator input.sk-toggleable__control:checked~label.sk-toggleable__label {background-color: #d4ebff;}#sk-container-id-1 div.sk-label input.sk-toggleable__control:checked~label.sk-toggleable__label {background-color: #d4ebff;}#sk-container-id-1 input.sk-hidden--visually {border: 0;clip: rect(1px 1px 1px 1px);clip: rect(1px, 1px, 1px, 1px);height: 1px;margin: -1px;overflow: hidden;padding: 0;position: absolute;width: 1px;}#sk-container-id-1 div.sk-estimator {font-family: monospace;background-color: #f0f8ff;border: 1px dotted black;border-radius: 0.25em;box-sizing: border-box;margin-bottom: 0.5em;}#sk-container-id-1 div.sk-estimator:hover {background-color: #d4ebff;}#sk-container-id-1 div.sk-parallel-item::after {content: \"\";width: 100%;border-bottom: 1px solid gray;flex-grow: 1;}#sk-container-id-1 div.sk-label:hover label.sk-toggleable__label {background-color: #d4ebff;}#sk-container-id-1 div.sk-serial::before {content: \"\";position: absolute;border-left: 1px solid gray;box-sizing: border-box;top: 0;bottom: 0;left: 50%;z-index: 0;}#sk-container-id-1 div.sk-serial {display: flex;flex-direction: column;align-items: center;background-color: white;padding-right: 0.2em;padding-left: 0.2em;position: relative;}#sk-container-id-1 div.sk-item {position: relative;z-index: 1;}#sk-container-id-1 div.sk-parallel {display: flex;align-items: stretch;justify-content: center;background-color: white;position: relative;}#sk-container-id-1 div.sk-item::before, #sk-container-id-1 div.sk-parallel-item::before {content: \"\";position: absolute;border-left: 1px solid gray;box-sizing: border-box;top: 0;bottom: 0;left: 50%;z-index: -1;}#sk-container-id-1 div.sk-parallel-item {display: flex;flex-direction: column;z-index: 1;position: relative;background-color: white;}#sk-container-id-1 div.sk-parallel-item:first-child::after {align-self: flex-end;width: 50%;}#sk-container-id-1 div.sk-parallel-item:last-child::after {align-self: flex-start;width: 50%;}#sk-container-id-1 div.sk-parallel-item:only-child::after {width: 0;}#sk-container-id-1 div.sk-dashed-wrapped {border: 1px dashed gray;margin: 0 0.4em 0.5em 0.4em;box-sizing: border-box;padding-bottom: 0.4em;background-color: white;}#sk-container-id-1 div.sk-label label {font-family: monospace;font-weight: bold;display: inline-block;line-height: 1.2em;}#sk-container-id-1 div.sk-label-container {text-align: center;}#sk-container-id-1 div.sk-container {/* jupyter's `normalize.less` sets `[hidden] { display: none; }` but bootstrap.min.css set `[hidden] { display: none !important; }` so we also need the `!important` here to be able to override the default hidden behavior on the sphinx rendered scikit-learn.org. See: https://github.com/scikit-learn/scikit-learn/issues/21755 */display: inline-block !important;position: relative;}#sk-container-id-1 div.sk-text-repr-fallback {display: none;}</style><div id=\"sk-container-id-1\" class=\"sk-top-container\"><div class=\"sk-text-repr-fallback\"><pre>RFE(estimator=RandomForestClassifier())</pre><b>In a Jupyter environment, please rerun this cell to show the HTML representation or trust the notebook. <br />On GitHub, the HTML representation is unable to render, please try loading this page with nbviewer.org.</b></div><div class=\"sk-container\" hidden><div class=\"sk-item sk-dashed-wrapped\"><div class=\"sk-label-container\"><div class=\"sk-label sk-toggleable\"><input class=\"sk-toggleable__control sk-hidden--visually\" id=\"sk-estimator-id-1\" type=\"checkbox\" ><label for=\"sk-estimator-id-1\" class=\"sk-toggleable__label sk-toggleable__label-arrow\">RFE</label><div class=\"sk-toggleable__content\"><pre>RFE(estimator=RandomForestClassifier())</pre></div></div></div><div class=\"sk-parallel\"><div class=\"sk-parallel-item\"><div class=\"sk-item\"><div class=\"sk-label-container\"><div class=\"sk-label sk-toggleable\"><input class=\"sk-toggleable__control sk-hidden--visually\" id=\"sk-estimator-id-2\" type=\"checkbox\" ><label for=\"sk-estimator-id-2\" class=\"sk-toggleable__label sk-toggleable__label-arrow\">estimator: RandomForestClassifier</label><div class=\"sk-toggleable__content\"><pre>RandomForestClassifier()</pre></div></div></div><div class=\"sk-serial\"><div class=\"sk-item\"><div class=\"sk-estimator sk-toggleable\"><input class=\"sk-toggleable__control sk-hidden--visually\" id=\"sk-estimator-id-3\" type=\"checkbox\" ><label for=\"sk-estimator-id-3\" class=\"sk-toggleable__label sk-toggleable__label-arrow\">RandomForestClassifier</label><div class=\"sk-toggleable__content\"><pre>RandomForestClassifier()</pre></div></div></div></div></div></div></div></div></div></div>"
            ],
            "text/plain": [
              "RFE(estimator=RandomForestClassifier())"
            ]
          },
          "execution_count": 5,
          "metadata": {},
          "output_type": "execute_result"
        }
      ],
      "source": [
        "clf = RandomForestClassifier()\n",
        "selector = RFE(clf)\n",
        "selector.fit(X_train, y_train)"
      ]
    },
    {
      "cell_type": "code",
      "execution_count": 7,
      "metadata": {},
      "outputs": [
        {
          "data": {
            "text/plain": [
              "array([False, False,  True,  True, False,  True,  True, False,  True,\n",
              "        True,  True,  True,  True,  True,  True,  True, False,  True,\n",
              "        True, False,  True, False, False, False, False, False, False,\n",
              "       False, False, False])"
            ]
          },
          "execution_count": 7,
          "metadata": {},
          "output_type": "execute_result"
        }
      ],
      "source": [
        "selector.support_"
      ]
    },
    {
      "cell_type": "code",
      "execution_count": 11,
      "metadata": {},
      "outputs": [
        {
          "data": {
            "text/plain": [
              "['Annual_Income',\n",
              " 'Monthly_Inhand_Salary',\n",
              " 'Num_Credit_Card',\n",
              " 'Interest_Rate',\n",
              " 'Delay_from_due_date',\n",
              " 'Num_of_Delayed_Payment',\n",
              " 'Changed_Credit_Limit',\n",
              " 'Num_Credit_Inquiries',\n",
              " 'Credit_Mix',\n",
              " 'Outstanding_Debt',\n",
              " 'Credit_Utilization_Ratio',\n",
              " 'Credit_History_Age',\n",
              " 'Total_EMI_per_month',\n",
              " 'Amount_invested_monthly',\n",
              " 'Monthly_Balance']"
            ]
          },
          "execution_count": 11,
          "metadata": {},
          "output_type": "execute_result"
        }
      ],
      "source": [
        "X_train = selector.transform(X_train)\n",
        "X_test = selector.transform(X_test)\n",
        "X = selector.transform(X)\n",
        "selected = [col for i, col in enumerate(df.drop('Credit_Score', axis=1).columns) if selector.support_[i]]\n",
        "selected"
      ]
    },
    {
      "cell_type": "code",
      "execution_count": 12,
      "metadata": {},
      "outputs": [
        {
          "name": "stdout",
          "output_type": "stream",
          "text": [
            "               Predict Poor  Predict Standard  Predict Good\n",
            "True Poor              4191              1012            52\n",
            "True Standard          1198              8167           715\n",
            "True Good                22               922          2384\n",
            "              precision    recall  f1-score   support\n",
            "\n",
            "        Poor       0.77      0.80      0.79      5255\n",
            "    Standard       0.81      0.81      0.81     10080\n",
            "        Good       0.76      0.72      0.74      3328\n",
            "\n",
            "    accuracy                           0.79     18663\n",
            "   macro avg       0.78      0.77      0.78     18663\n",
            "weighted avg       0.79      0.79      0.79     18663\n",
            "\n"
          ]
        }
      ],
      "source": [
        "clf = clf.fit(X_train, y_train)\n",
        "y_pred = clf.predict(X_test)\n",
        "print(pd.DataFrame(metrics.confusion_matrix(y_test, y_pred, labels=np.unique(y_test)), \n",
        "             index=['True ' + x for x in labels], \n",
        "             columns=['Predict ' + x for x in labels]))\n",
        "print(metrics.classification_report(y_test, y_pred, target_names=labels))"
      ]
    },
    {
      "cell_type": "code",
      "execution_count": 13,
      "metadata": {},
      "outputs": [],
      "source": [
        "def cross_val_metrics(clf, X, y, cv=5):\n",
        "    accuracy = []\n",
        "    f1 = []\n",
        "    precision = []\n",
        "    recall = []\n",
        "    kf = StratifiedKFold(n_splits=cv, shuffle=True, random_state=36)\n",
        "    for train_idx, test_idx in kf.split(X, y):\n",
        "        X_train, X_test = X[train_idx], X[test_idx]\n",
        "        y_train, y_test = y[train_idx], y[test_idx]\n",
        "        clf.fit(X_train, y_train)\n",
        "        y_pred = clf.predict(X_test)\n",
        "        accuracy.append(metrics.accuracy_score(y_test, y_pred))\n",
        "        precision.append(metrics.precision_score(y_test, y_pred, average=None))\n",
        "        recall.append(metrics.recall_score(y_test, y_pred, average=None))\n",
        "        f1.append(metrics.f1_score(y_test, y_pred, average=None))\n",
        "    print(\"accuracy\", np.mean(accuracy))\n",
        "    print(\"precision\", np.mean(precision, axis=0))\n",
        "    print(\"recall\",np.mean(recall, axis=0))\n",
        "    print(\"f1\",np.mean(f1, axis=0))"
      ]
    },
    {
      "cell_type": "code",
      "execution_count": 14,
      "metadata": {},
      "outputs": [
        {
          "name": "stdout",
          "output_type": "stream",
          "text": [
            "accuracy 0.8003258593599878\n",
            "precision [0.78823336 0.81788258 0.76490404]\n",
            "recall [0.81150091 0.82017147 0.72256295]\n",
            "f1 [0.79969583 0.8190135  0.74305921]\n"
          ]
        }
      ],
      "source": [
        "cross_val_metrics(clf, X, y)"
      ]
    }
  ],
  "metadata": {
    "colab": {
      "provenance": []
    },
    "kernelspec": {
      "display_name": "Python 3.10.6 64-bit",
      "language": "python",
      "name": "python3"
    },
    "language_info": {
      "codemirror_mode": {
        "name": "ipython",
        "version": 3
      },
      "file_extension": ".py",
      "mimetype": "text/x-python",
      "name": "python",
      "nbconvert_exporter": "python",
      "pygments_lexer": "ipython3",
      "version": "3.10.6"
    },
    "vscode": {
      "interpreter": {
        "hash": "369f2c481f4da34e4445cda3fffd2e751bd1c4d706f27375911949ba6bb62e1c"
      }
    }
  },
  "nbformat": 4,
  "nbformat_minor": 0
}
