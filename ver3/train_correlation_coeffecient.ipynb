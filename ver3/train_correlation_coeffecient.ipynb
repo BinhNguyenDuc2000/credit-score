{
  "cells": [
    {
      "cell_type": "code",
      "execution_count": 224,
      "metadata": {
        "id": "uCt3OI-V2GGZ"
      },
      "outputs": [],
      "source": [
        "import pandas as pd\n",
        "import pickle\n",
        "from pandas import DataFrame\n",
        "import matplotlib.pyplot as plt\n",
        "import numpy as np\n",
        "from sklearn.model_selection import train_test_split, GridSearchCV\n",
        "from sklearn.tree import DecisionTreeClassifier\n",
        "from sklearn.ensemble import RandomForestClassifier\n",
        "from sklearn import metrics\n",
        "from sklearn.model_selection import KFold, StratifiedKFold, cross_val_score\n",
        "from sklearn.feature_selection import SequentialFeatureSelector, RFE, SelectFromModel\n",
        "import seaborn as sns\n",
        "import phik"
      ]
    },
    {
      "cell_type": "code",
      "execution_count": 225,
      "metadata": {
        "colab": {
          "base_uri": "https://localhost:8080/"
        },
        "id": "4pUUBEDi64Vk",
        "outputId": "4e1cedfc-a3b6-45b8-ee42-8d5f15166566"
      },
      "outputs": [
        {
          "name": "stdout",
          "output_type": "stream",
          "text": [
            "<class 'pandas.core.frame.DataFrame'>\n",
            "RangeIndex: 93312 entries, 0 to 93311\n",
            "Data columns (total 31 columns):\n",
            " #   Column                    Non-Null Count  Dtype  \n",
            "---  ------                    --------------  -----  \n",
            " 0   Age                       93312 non-null  float64\n",
            " 1   Occupation                93312 non-null  int64  \n",
            " 2   Annual_Income             93312 non-null  float64\n",
            " 3   Monthly_Inhand_Salary     93312 non-null  float64\n",
            " 4   Num_Bank_Accounts         93312 non-null  float64\n",
            " 5   Num_Credit_Card           93312 non-null  float64\n",
            " 6   Interest_Rate             93312 non-null  float64\n",
            " 7   Num_of_Loan               93312 non-null  int64  \n",
            " 8   Delay_from_due_date       93312 non-null  float64\n",
            " 9   Num_of_Delayed_Payment    93312 non-null  float64\n",
            " 10  Changed_Credit_Limit      93312 non-null  float64\n",
            " 11  Num_Credit_Inquiries      93312 non-null  float64\n",
            " 12  Credit_Mix                93312 non-null  int64  \n",
            " 13  Outstanding_Debt          93312 non-null  float64\n",
            " 14  Credit_Utilization_Ratio  93312 non-null  float64\n",
            " 15  Credit_History_Age        93312 non-null  float64\n",
            " 16  Payment_of_Min_Amount     93312 non-null  int64  \n",
            " 17  Total_EMI_per_month       93312 non-null  float64\n",
            " 18  Amount_invested_monthly   93312 non-null  float64\n",
            " 19  Payment_Behaviour         93312 non-null  int64  \n",
            " 20  Monthly_Balance           93312 non-null  float64\n",
            " 21  Credit_Score              93312 non-null  int64  \n",
            " 22  Auto Loan                 93312 non-null  int64  \n",
            " 23  Student Loan              93312 non-null  int64  \n",
            " 24  Payday Loan               93312 non-null  int64  \n",
            " 25  Credit-Builder Loan       93312 non-null  int64  \n",
            " 26  Personal Loan             93312 non-null  int64  \n",
            " 27  Mortgage Loan             93312 non-null  int64  \n",
            " 28  Debt Consolidation Loan   93312 non-null  int64  \n",
            " 29  Not Specified             93312 non-null  int64  \n",
            " 30  Home Equity Loan          93312 non-null  int64  \n",
            "dtypes: float64(16), int64(15)\n",
            "memory usage: 22.1 MB\n"
          ]
        }
      ],
      "source": [
        "df = pd.read_csv(\"./dataset.csv\")\n",
        "df.info()"
      ]
    },
    {
      "cell_type": "code",
      "execution_count": 226,
      "metadata": {},
      "outputs": [],
      "source": [
        "def cross_val_metrics(clf, X, y, cv=5):\n",
        "    accuracy = []\n",
        "    f1 = []\n",
        "    precision = []\n",
        "    recall = []\n",
        "    kf = StratifiedKFold(n_splits=cv, shuffle=True, random_state=36)\n",
        "    for train_idx, test_idx in kf.split(X, y):\n",
        "        X_train, X_test = X[train_idx], X[test_idx]\n",
        "        y_train, y_test = y[train_idx], y[test_idx]\n",
        "        clf.fit(X_train, y_train)\n",
        "        y_pred = clf.predict(X_test)\n",
        "        accuracy.append(metrics.accuracy_score(y_test, y_pred))\n",
        "        precision.append(metrics.precision_score(y_test, y_pred, average=None))\n",
        "        recall.append(metrics.recall_score(y_test, y_pred, average=None))\n",
        "        f1.append(metrics.f1_score(y_test, y_pred, average=None))\n",
        "    print(\"accuracy\", np.mean(accuracy))\n",
        "    print(\"precision\", np.mean(precision, axis=0))\n",
        "    print(\"recall\",np.mean(recall, axis=0))\n",
        "    print(\"f1\",np.mean(f1, axis=0))"
      ]
    },
    {
      "cell_type": "code",
      "execution_count": 227,
      "metadata": {},
      "outputs": [
        {
          "data": {
            "text/plain": [
              "count    30.000000\n",
              "mean      0.298092\n",
              "std       0.163013\n",
              "min       0.029144\n",
              "25%       0.146144\n",
              "50%       0.253588\n",
              "75%       0.435142\n",
              "max       0.646078\n",
              "Name: Credit_Score, dtype: float64"
            ]
          },
          "execution_count": 227,
          "metadata": {},
          "output_type": "execute_result"
        }
      ],
      "source": [
        "corr = df.phik_matrix(df.columns)\n",
        "corr_target = corr[\"Credit_Score\"].drop(\"Credit_Score\", axis=0)\n",
        "corr_target.describe()"
      ]
    },
    {
      "cell_type": "code",
      "execution_count": 228,
      "metadata": {},
      "outputs": [
        {
          "data": {
            "text/plain": [
              "Debt Consolidation Loan    0.257145\n",
              "Changed_Credit_Limit       0.272360\n",
              "Monthly_Inhand_Salary      0.273856\n",
              "Annual_Income              0.299714\n",
              "Credit_Mix                 0.408959\n",
              "Num_of_Loan                0.418945\n",
              "Credit_History_Age         0.431740\n",
              "Num_of_Delayed_Payment     0.436276\n",
              "Num_Bank_Accounts          0.465395\n",
              "Delay_from_due_date        0.479387\n",
              "Num_Credit_Inquiries       0.480212\n",
              "Num_Credit_Card            0.496723\n",
              "Outstanding_Debt           0.527545\n",
              "Interest_Rate              0.556082\n",
              "Payment_of_Min_Amount      0.646078\n",
              "Name: Credit_Score, dtype: float64"
            ]
          },
          "execution_count": 228,
          "metadata": {},
          "output_type": "execute_result"
        }
      ],
      "source": [
        "#relevant_features = corr_target[corr_target > corr_target.quantile(1/3)]\n",
        "relevant_features = corr_target\n",
        "relevant_features.sort_values(inplace=True)\n",
        "relevant_features = relevant_features.tail(15)\n",
        "relevant_features"
      ]
    },
    {
      "cell_type": "code",
      "execution_count": 229,
      "metadata": {},
      "outputs": [],
      "source": [
        "corr_features = df[relevant_features.index].phik_matrix(interval_cols=relevant_features.index)\n",
        "corr_features.values[np.tril_indices_from(corr_features.values)] = np.nan"
      ]
    },
    {
      "cell_type": "code",
      "execution_count": 230,
      "metadata": {},
      "outputs": [
        {
          "data": {
            "text/html": [
              "<div>\n",
              "<style scoped>\n",
              "    .dataframe tbody tr th:only-of-type {\n",
              "        vertical-align: middle;\n",
              "    }\n",
              "\n",
              "    .dataframe tbody tr th {\n",
              "        vertical-align: top;\n",
              "    }\n",
              "\n",
              "    .dataframe thead th {\n",
              "        text-align: right;\n",
              "    }\n",
              "</style>\n",
              "<table border=\"1\" class=\"dataframe\">\n",
              "  <thead>\n",
              "    <tr style=\"text-align: right;\">\n",
              "      <th></th>\n",
              "      <th>Debt Consolidation Loan</th>\n",
              "      <th>Changed_Credit_Limit</th>\n",
              "      <th>Monthly_Inhand_Salary</th>\n",
              "      <th>Annual_Income</th>\n",
              "      <th>Credit_Mix</th>\n",
              "      <th>Num_of_Loan</th>\n",
              "      <th>Credit_History_Age</th>\n",
              "      <th>Num_of_Delayed_Payment</th>\n",
              "      <th>Num_Bank_Accounts</th>\n",
              "      <th>Delay_from_due_date</th>\n",
              "      <th>Num_Credit_Inquiries</th>\n",
              "      <th>Num_Credit_Card</th>\n",
              "      <th>Outstanding_Debt</th>\n",
              "      <th>Interest_Rate</th>\n",
              "      <th>Payment_of_Min_Amount</th>\n",
              "    </tr>\n",
              "  </thead>\n",
              "  <tbody>\n",
              "    <tr>\n",
              "      <th>Debt Consolidation Loan</th>\n",
              "      <td>NaN</td>\n",
              "      <td>0.149449</td>\n",
              "      <td>0.128885</td>\n",
              "      <td>0.131310</td>\n",
              "      <td>0.219646</td>\n",
              "      <td>0.353837</td>\n",
              "      <td>0.226245</td>\n",
              "      <td>0.170988</td>\n",
              "      <td>0.182530</td>\n",
              "      <td>0.191633</td>\n",
              "      <td>0.206178</td>\n",
              "      <td>0.161093</td>\n",
              "      <td>0.240005</td>\n",
              "      <td>0.207047</td>\n",
              "      <td>0.316733</td>\n",
              "    </tr>\n",
              "    <tr>\n",
              "      <th>Changed_Credit_Limit</th>\n",
              "      <td>NaN</td>\n",
              "      <td>NaN</td>\n",
              "      <td>0.226495</td>\n",
              "      <td>0.238280</td>\n",
              "      <td>0.502053</td>\n",
              "      <td>0.479954</td>\n",
              "      <td>0.495226</td>\n",
              "      <td>0.395257</td>\n",
              "      <td>0.403482</td>\n",
              "      <td>0.381203</td>\n",
              "      <td>0.437550</td>\n",
              "      <td>0.343529</td>\n",
              "      <td>0.581483</td>\n",
              "      <td>0.427966</td>\n",
              "      <td>0.504855</td>\n",
              "    </tr>\n",
              "    <tr>\n",
              "      <th>Monthly_Inhand_Salary</th>\n",
              "      <td>NaN</td>\n",
              "      <td>NaN</td>\n",
              "      <td>NaN</td>\n",
              "      <td>0.992917</td>\n",
              "      <td>0.321616</td>\n",
              "      <td>0.362126</td>\n",
              "      <td>0.346829</td>\n",
              "      <td>0.315354</td>\n",
              "      <td>0.342872</td>\n",
              "      <td>0.301515</td>\n",
              "      <td>0.353742</td>\n",
              "      <td>0.283365</td>\n",
              "      <td>0.383858</td>\n",
              "      <td>0.367314</td>\n",
              "      <td>0.340837</td>\n",
              "    </tr>\n",
              "    <tr>\n",
              "      <th>Annual_Income</th>\n",
              "      <td>NaN</td>\n",
              "      <td>NaN</td>\n",
              "      <td>NaN</td>\n",
              "      <td>NaN</td>\n",
              "      <td>0.337774</td>\n",
              "      <td>0.380004</td>\n",
              "      <td>0.368637</td>\n",
              "      <td>0.320544</td>\n",
              "      <td>0.354859</td>\n",
              "      <td>0.316950</td>\n",
              "      <td>0.378219</td>\n",
              "      <td>0.301835</td>\n",
              "      <td>0.412627</td>\n",
              "      <td>0.389531</td>\n",
              "      <td>0.349651</td>\n",
              "    </tr>\n",
              "    <tr>\n",
              "      <th>Credit_Mix</th>\n",
              "      <td>NaN</td>\n",
              "      <td>NaN</td>\n",
              "      <td>NaN</td>\n",
              "      <td>NaN</td>\n",
              "      <td>NaN</td>\n",
              "      <td>0.582270</td>\n",
              "      <td>0.551585</td>\n",
              "      <td>0.655158</td>\n",
              "      <td>0.647745</td>\n",
              "      <td>0.609559</td>\n",
              "      <td>0.560352</td>\n",
              "      <td>0.526649</td>\n",
              "      <td>0.625751</td>\n",
              "      <td>0.657552</td>\n",
              "      <td>0.482326</td>\n",
              "    </tr>\n",
              "    <tr>\n",
              "      <th>Num_of_Loan</th>\n",
              "      <td>NaN</td>\n",
              "      <td>NaN</td>\n",
              "      <td>NaN</td>\n",
              "      <td>NaN</td>\n",
              "      <td>NaN</td>\n",
              "      <td>NaN</td>\n",
              "      <td>0.620356</td>\n",
              "      <td>0.501870</td>\n",
              "      <td>0.522753</td>\n",
              "      <td>0.522449</td>\n",
              "      <td>0.585636</td>\n",
              "      <td>0.481810</td>\n",
              "      <td>0.666117</td>\n",
              "      <td>0.583524</td>\n",
              "      <td>0.522342</td>\n",
              "    </tr>\n",
              "    <tr>\n",
              "      <th>Credit_History_Age</th>\n",
              "      <td>NaN</td>\n",
              "      <td>NaN</td>\n",
              "      <td>NaN</td>\n",
              "      <td>NaN</td>\n",
              "      <td>NaN</td>\n",
              "      <td>NaN</td>\n",
              "      <td>NaN</td>\n",
              "      <td>0.486877</td>\n",
              "      <td>0.515012</td>\n",
              "      <td>0.497098</td>\n",
              "      <td>0.603831</td>\n",
              "      <td>0.467439</td>\n",
              "      <td>0.675280</td>\n",
              "      <td>0.578242</td>\n",
              "      <td>0.565184</td>\n",
              "    </tr>\n",
              "    <tr>\n",
              "      <th>Num_of_Delayed_Payment</th>\n",
              "      <td>NaN</td>\n",
              "      <td>NaN</td>\n",
              "      <td>NaN</td>\n",
              "      <td>NaN</td>\n",
              "      <td>NaN</td>\n",
              "      <td>NaN</td>\n",
              "      <td>NaN</td>\n",
              "      <td>NaN</td>\n",
              "      <td>0.600611</td>\n",
              "      <td>0.551427</td>\n",
              "      <td>0.496093</td>\n",
              "      <td>0.468827</td>\n",
              "      <td>0.527883</td>\n",
              "      <td>0.570070</td>\n",
              "      <td>0.545333</td>\n",
              "    </tr>\n",
              "    <tr>\n",
              "      <th>Num_Bank_Accounts</th>\n",
              "      <td>NaN</td>\n",
              "      <td>NaN</td>\n",
              "      <td>NaN</td>\n",
              "      <td>NaN</td>\n",
              "      <td>NaN</td>\n",
              "      <td>NaN</td>\n",
              "      <td>NaN</td>\n",
              "      <td>NaN</td>\n",
              "      <td>NaN</td>\n",
              "      <td>0.588855</td>\n",
              "      <td>0.542030</td>\n",
              "      <td>0.508661</td>\n",
              "      <td>0.564061</td>\n",
              "      <td>0.601128</td>\n",
              "      <td>0.554648</td>\n",
              "    </tr>\n",
              "    <tr>\n",
              "      <th>Delay_from_due_date</th>\n",
              "      <td>NaN</td>\n",
              "      <td>NaN</td>\n",
              "      <td>NaN</td>\n",
              "      <td>NaN</td>\n",
              "      <td>NaN</td>\n",
              "      <td>NaN</td>\n",
              "      <td>NaN</td>\n",
              "      <td>NaN</td>\n",
              "      <td>NaN</td>\n",
              "      <td>NaN</td>\n",
              "      <td>0.529880</td>\n",
              "      <td>0.517202</td>\n",
              "      <td>0.571906</td>\n",
              "      <td>0.579961</td>\n",
              "      <td>0.498264</td>\n",
              "    </tr>\n",
              "    <tr>\n",
              "      <th>Num_Credit_Inquiries</th>\n",
              "      <td>NaN</td>\n",
              "      <td>NaN</td>\n",
              "      <td>NaN</td>\n",
              "      <td>NaN</td>\n",
              "      <td>NaN</td>\n",
              "      <td>NaN</td>\n",
              "      <td>NaN</td>\n",
              "      <td>NaN</td>\n",
              "      <td>NaN</td>\n",
              "      <td>NaN</td>\n",
              "      <td>NaN</td>\n",
              "      <td>0.507643</td>\n",
              "      <td>0.621723</td>\n",
              "      <td>0.620331</td>\n",
              "      <td>0.595455</td>\n",
              "    </tr>\n",
              "    <tr>\n",
              "      <th>Num_Credit_Card</th>\n",
              "      <td>NaN</td>\n",
              "      <td>NaN</td>\n",
              "      <td>NaN</td>\n",
              "      <td>NaN</td>\n",
              "      <td>NaN</td>\n",
              "      <td>NaN</td>\n",
              "      <td>NaN</td>\n",
              "      <td>NaN</td>\n",
              "      <td>NaN</td>\n",
              "      <td>NaN</td>\n",
              "      <td>NaN</td>\n",
              "      <td>NaN</td>\n",
              "      <td>0.551242</td>\n",
              "      <td>0.551552</td>\n",
              "      <td>0.430823</td>\n",
              "    </tr>\n",
              "    <tr>\n",
              "      <th>Outstanding_Debt</th>\n",
              "      <td>NaN</td>\n",
              "      <td>NaN</td>\n",
              "      <td>NaN</td>\n",
              "      <td>NaN</td>\n",
              "      <td>NaN</td>\n",
              "      <td>NaN</td>\n",
              "      <td>NaN</td>\n",
              "      <td>NaN</td>\n",
              "      <td>NaN</td>\n",
              "      <td>NaN</td>\n",
              "      <td>NaN</td>\n",
              "      <td>NaN</td>\n",
              "      <td>NaN</td>\n",
              "      <td>0.657441</td>\n",
              "      <td>0.525220</td>\n",
              "    </tr>\n",
              "    <tr>\n",
              "      <th>Interest_Rate</th>\n",
              "      <td>NaN</td>\n",
              "      <td>NaN</td>\n",
              "      <td>NaN</td>\n",
              "      <td>NaN</td>\n",
              "      <td>NaN</td>\n",
              "      <td>NaN</td>\n",
              "      <td>NaN</td>\n",
              "      <td>NaN</td>\n",
              "      <td>NaN</td>\n",
              "      <td>NaN</td>\n",
              "      <td>NaN</td>\n",
              "      <td>NaN</td>\n",
              "      <td>NaN</td>\n",
              "      <td>NaN</td>\n",
              "      <td>0.598145</td>\n",
              "    </tr>\n",
              "    <tr>\n",
              "      <th>Payment_of_Min_Amount</th>\n",
              "      <td>NaN</td>\n",
              "      <td>NaN</td>\n",
              "      <td>NaN</td>\n",
              "      <td>NaN</td>\n",
              "      <td>NaN</td>\n",
              "      <td>NaN</td>\n",
              "      <td>NaN</td>\n",
              "      <td>NaN</td>\n",
              "      <td>NaN</td>\n",
              "      <td>NaN</td>\n",
              "      <td>NaN</td>\n",
              "      <td>NaN</td>\n",
              "      <td>NaN</td>\n",
              "      <td>NaN</td>\n",
              "      <td>NaN</td>\n",
              "    </tr>\n",
              "  </tbody>\n",
              "</table>\n",
              "</div>"
            ],
            "text/plain": [
              "                         Debt Consolidation Loan  Changed_Credit_Limit  \\\n",
              "Debt Consolidation Loan                      NaN              0.149449   \n",
              "Changed_Credit_Limit                         NaN                   NaN   \n",
              "Monthly_Inhand_Salary                        NaN                   NaN   \n",
              "Annual_Income                                NaN                   NaN   \n",
              "Credit_Mix                                   NaN                   NaN   \n",
              "Num_of_Loan                                  NaN                   NaN   \n",
              "Credit_History_Age                           NaN                   NaN   \n",
              "Num_of_Delayed_Payment                       NaN                   NaN   \n",
              "Num_Bank_Accounts                            NaN                   NaN   \n",
              "Delay_from_due_date                          NaN                   NaN   \n",
              "Num_Credit_Inquiries                         NaN                   NaN   \n",
              "Num_Credit_Card                              NaN                   NaN   \n",
              "Outstanding_Debt                             NaN                   NaN   \n",
              "Interest_Rate                                NaN                   NaN   \n",
              "Payment_of_Min_Amount                        NaN                   NaN   \n",
              "\n",
              "                         Monthly_Inhand_Salary  Annual_Income  Credit_Mix  \\\n",
              "Debt Consolidation Loan               0.128885       0.131310    0.219646   \n",
              "Changed_Credit_Limit                  0.226495       0.238280    0.502053   \n",
              "Monthly_Inhand_Salary                      NaN       0.992917    0.321616   \n",
              "Annual_Income                              NaN            NaN    0.337774   \n",
              "Credit_Mix                                 NaN            NaN         NaN   \n",
              "Num_of_Loan                                NaN            NaN         NaN   \n",
              "Credit_History_Age                         NaN            NaN         NaN   \n",
              "Num_of_Delayed_Payment                     NaN            NaN         NaN   \n",
              "Num_Bank_Accounts                          NaN            NaN         NaN   \n",
              "Delay_from_due_date                        NaN            NaN         NaN   \n",
              "Num_Credit_Inquiries                       NaN            NaN         NaN   \n",
              "Num_Credit_Card                            NaN            NaN         NaN   \n",
              "Outstanding_Debt                           NaN            NaN         NaN   \n",
              "Interest_Rate                              NaN            NaN         NaN   \n",
              "Payment_of_Min_Amount                      NaN            NaN         NaN   \n",
              "\n",
              "                         Num_of_Loan  Credit_History_Age  \\\n",
              "Debt Consolidation Loan     0.353837            0.226245   \n",
              "Changed_Credit_Limit        0.479954            0.495226   \n",
              "Monthly_Inhand_Salary       0.362126            0.346829   \n",
              "Annual_Income               0.380004            0.368637   \n",
              "Credit_Mix                  0.582270            0.551585   \n",
              "Num_of_Loan                      NaN            0.620356   \n",
              "Credit_History_Age               NaN                 NaN   \n",
              "Num_of_Delayed_Payment           NaN                 NaN   \n",
              "Num_Bank_Accounts                NaN                 NaN   \n",
              "Delay_from_due_date              NaN                 NaN   \n",
              "Num_Credit_Inquiries             NaN                 NaN   \n",
              "Num_Credit_Card                  NaN                 NaN   \n",
              "Outstanding_Debt                 NaN                 NaN   \n",
              "Interest_Rate                    NaN                 NaN   \n",
              "Payment_of_Min_Amount            NaN                 NaN   \n",
              "\n",
              "                         Num_of_Delayed_Payment  Num_Bank_Accounts  \\\n",
              "Debt Consolidation Loan                0.170988           0.182530   \n",
              "Changed_Credit_Limit                   0.395257           0.403482   \n",
              "Monthly_Inhand_Salary                  0.315354           0.342872   \n",
              "Annual_Income                          0.320544           0.354859   \n",
              "Credit_Mix                             0.655158           0.647745   \n",
              "Num_of_Loan                            0.501870           0.522753   \n",
              "Credit_History_Age                     0.486877           0.515012   \n",
              "Num_of_Delayed_Payment                      NaN           0.600611   \n",
              "Num_Bank_Accounts                           NaN                NaN   \n",
              "Delay_from_due_date                         NaN                NaN   \n",
              "Num_Credit_Inquiries                        NaN                NaN   \n",
              "Num_Credit_Card                             NaN                NaN   \n",
              "Outstanding_Debt                            NaN                NaN   \n",
              "Interest_Rate                               NaN                NaN   \n",
              "Payment_of_Min_Amount                       NaN                NaN   \n",
              "\n",
              "                         Delay_from_due_date  Num_Credit_Inquiries  \\\n",
              "Debt Consolidation Loan             0.191633              0.206178   \n",
              "Changed_Credit_Limit                0.381203              0.437550   \n",
              "Monthly_Inhand_Salary               0.301515              0.353742   \n",
              "Annual_Income                       0.316950              0.378219   \n",
              "Credit_Mix                          0.609559              0.560352   \n",
              "Num_of_Loan                         0.522449              0.585636   \n",
              "Credit_History_Age                  0.497098              0.603831   \n",
              "Num_of_Delayed_Payment              0.551427              0.496093   \n",
              "Num_Bank_Accounts                   0.588855              0.542030   \n",
              "Delay_from_due_date                      NaN              0.529880   \n",
              "Num_Credit_Inquiries                     NaN                   NaN   \n",
              "Num_Credit_Card                          NaN                   NaN   \n",
              "Outstanding_Debt                         NaN                   NaN   \n",
              "Interest_Rate                            NaN                   NaN   \n",
              "Payment_of_Min_Amount                    NaN                   NaN   \n",
              "\n",
              "                         Num_Credit_Card  Outstanding_Debt  Interest_Rate  \\\n",
              "Debt Consolidation Loan         0.161093          0.240005       0.207047   \n",
              "Changed_Credit_Limit            0.343529          0.581483       0.427966   \n",
              "Monthly_Inhand_Salary           0.283365          0.383858       0.367314   \n",
              "Annual_Income                   0.301835          0.412627       0.389531   \n",
              "Credit_Mix                      0.526649          0.625751       0.657552   \n",
              "Num_of_Loan                     0.481810          0.666117       0.583524   \n",
              "Credit_History_Age              0.467439          0.675280       0.578242   \n",
              "Num_of_Delayed_Payment          0.468827          0.527883       0.570070   \n",
              "Num_Bank_Accounts               0.508661          0.564061       0.601128   \n",
              "Delay_from_due_date             0.517202          0.571906       0.579961   \n",
              "Num_Credit_Inquiries            0.507643          0.621723       0.620331   \n",
              "Num_Credit_Card                      NaN          0.551242       0.551552   \n",
              "Outstanding_Debt                     NaN               NaN       0.657441   \n",
              "Interest_Rate                        NaN               NaN            NaN   \n",
              "Payment_of_Min_Amount                NaN               NaN            NaN   \n",
              "\n",
              "                         Payment_of_Min_Amount  \n",
              "Debt Consolidation Loan               0.316733  \n",
              "Changed_Credit_Limit                  0.504855  \n",
              "Monthly_Inhand_Salary                 0.340837  \n",
              "Annual_Income                         0.349651  \n",
              "Credit_Mix                            0.482326  \n",
              "Num_of_Loan                           0.522342  \n",
              "Credit_History_Age                    0.565184  \n",
              "Num_of_Delayed_Payment                0.545333  \n",
              "Num_Bank_Accounts                     0.554648  \n",
              "Delay_from_due_date                   0.498264  \n",
              "Num_Credit_Inquiries                  0.595455  \n",
              "Num_Credit_Card                       0.430823  \n",
              "Outstanding_Debt                      0.525220  \n",
              "Interest_Rate                         0.598145  \n",
              "Payment_of_Min_Amount                      NaN  "
            ]
          },
          "execution_count": 230,
          "metadata": {},
          "output_type": "execute_result"
        }
      ],
      "source": [
        "corr_features"
      ]
    },
    {
      "cell_type": "code",
      "execution_count": 231,
      "metadata": {},
      "outputs": [
        {
          "data": {
            "text/plain": [
              "count    105.000000\n",
              "mean       0.454258\n",
              "std        0.152323\n",
              "min        0.128885\n",
              "25%        0.346829\n",
              "50%        0.496093\n",
              "75%        0.565184\n",
              "max        0.992917\n",
              "dtype: float64"
            ]
          },
          "execution_count": 231,
          "metadata": {},
          "output_type": "execute_result"
        }
      ],
      "source": [
        "corr_features.unstack().describe()"
      ]
    },
    {
      "cell_type": "code",
      "execution_count": 232,
      "metadata": {},
      "outputs": [
        {
          "data": {
            "text/plain": [
              "<AxesSubplot:>"
            ]
          },
          "execution_count": 232,
          "metadata": {},
          "output_type": "execute_result"
        },
        {
          "data": {
            "image/png": "[encoded data removed]",
            "text/plain": [
              "<Figure size 640x480 with 1 Axes>"
            ]
          },
          "metadata": {},
          "output_type": "display_data"
        }
      ],
      "source": [
        "sns.boxplot(corr_features.unstack().dropna())"
      ]
    },
    {
      "cell_type": "code",
      "execution_count": 233,
      "metadata": {},
      "outputs": [],
      "source": [
        "corr_features = corr_features.unstack().sort_values(ascending=False).dropna()"
      ]
    },
    {
      "cell_type": "code",
      "execution_count": 234,
      "metadata": {},
      "outputs": [
        {
          "name": "stdout",
          "output_type": "stream",
          "text": [
            "Annual_Income Monthly_Inhand_Salary 0.9929171527060506\n"
          ]
        }
      ],
      "source": [
        "corr_arr = []\n",
        "thresold = 0.75\n",
        "\n",
        "for cols, value in zip(corr_features.index, corr_features):\n",
        "    col1, col2 = cols\n",
        "    if value < thresold:\n",
        "        break\n",
        "    print(col1, col2, value)\n",
        "    if col1 == col2 or col1 in corr_arr or col2 in corr_arr:\n",
        "        continue\n",
        "    if relevant_features[col1] < relevant_features[col2]:\n",
        "        corr_arr.append(col1)\n",
        "    else:\n",
        "        corr_arr.append(col2)"
      ]
    },
    {
      "cell_type": "code",
      "execution_count": 235,
      "metadata": {},
      "outputs": [],
      "source": [
        "relevant_features.drop(corr_arr, axis=0, inplace=True)"
      ]
    },
    {
      "cell_type": "code",
      "execution_count": 236,
      "metadata": {},
      "outputs": [
        {
          "data": {
            "text/plain": [
              "Debt Consolidation Loan    0.257145\n",
              "Changed_Credit_Limit       0.272360\n",
              "Annual_Income              0.299714\n",
              "Credit_Mix                 0.408959\n",
              "Num_of_Loan                0.418945\n",
              "Credit_History_Age         0.431740\n",
              "Num_of_Delayed_Payment     0.436276\n",
              "Num_Bank_Accounts          0.465395\n",
              "Delay_from_due_date        0.479387\n",
              "Num_Credit_Inquiries       0.480212\n",
              "Num_Credit_Card            0.496723\n",
              "Outstanding_Debt           0.527545\n",
              "Interest_Rate              0.556082\n",
              "Payment_of_Min_Amount      0.646078\n",
              "Name: Credit_Score, dtype: float64"
            ]
          },
          "execution_count": 236,
          "metadata": {},
          "output_type": "execute_result"
        }
      ],
      "source": [
        "relevant_features"
      ]
    },
    {
      "cell_type": "code",
      "execution_count": 237,
      "metadata": {},
      "outputs": [
        {
          "data": {
            "text/plain": [
              "['Monthly_Inhand_Salary']"
            ]
          },
          "execution_count": 237,
          "metadata": {},
          "output_type": "execute_result"
        }
      ],
      "source": [
        "corr_arr"
      ]
    },
    {
      "cell_type": "code",
      "execution_count": 238,
      "metadata": {},
      "outputs": [],
      "source": [
        "labels = ['Poor', 'Standard', 'Good']"
      ]
    },
    {
      "cell_type": "code",
      "execution_count": 239,
      "metadata": {},
      "outputs": [
        {
          "name": "stdout",
          "output_type": "stream",
          "text": [
            "(74649, 14) (74649,)\n"
          ]
        }
      ],
      "source": [
        "X = df[relevant_features.index]\n",
        "y = df['Credit_Score']\n",
        "X = np.array(X)\n",
        "y = np.array(y)\n",
        "\n",
        "X_train, X_test, y_train, y_test = train_test_split(X, y, test_size=0.2, stratify=y, random_state=36)\n",
        "\n",
        "print(X_train.shape, y_train.shape)"
      ]
    },
    {
      "cell_type": "code",
      "execution_count": 240,
      "metadata": {},
      "outputs": [
        {
          "name": "stdout",
          "output_type": "stream",
          "text": [
            "               Predict Poor  Predict Standard  Predict Good\n",
            "True Poor              4216              1003            36\n",
            "True Standard          1182              8133           765\n",
            "True Good                19               861          2448\n",
            "              precision    recall  f1-score   support\n",
            "\n",
            "        Poor       0.78      0.80      0.79      5255\n",
            "    Standard       0.81      0.81      0.81     10080\n",
            "        Good       0.75      0.74      0.74      3328\n",
            "\n",
            "    accuracy                           0.79     18663\n",
            "   macro avg       0.78      0.78      0.78     18663\n",
            "weighted avg       0.79      0.79      0.79     18663\n",
            "\n"
          ]
        }
      ],
      "source": [
        "clf = RandomForestClassifier()\n",
        "clf = clf.fit(X_train, y_train)\n",
        "y_pred = clf.predict(X_test)\n",
        "print(pd.DataFrame(metrics.confusion_matrix(y_test, y_pred, labels=np.unique(y_test)), \n",
        "             index=['True ' + x for x in labels], \n",
        "             columns=['Predict ' + x for x in labels]))\n",
        "print(metrics.classification_report(y_test, y_pred, target_names=labels))"
      ]
    },
    {
      "cell_type": "code",
      "execution_count": 241,
      "metadata": {},
      "outputs": [
        {
          "name": "stdout",
          "output_type": "stream",
          "text": [
            "accuracy 0.8030157377450318\n",
            "precision [0.79028448 0.81997605 0.77133569]\n",
            "recall [0.81047349 0.81909997 0.74251699]\n",
            "f1 [0.80023793 0.81952156 0.75660004]\n"
          ]
        }
      ],
      "source": [
        "cross_val_metrics(clf, X, y, cv=5)"
      ]
    }
  ],
  "metadata": {
    "colab": {
      "provenance": []
    },
    "kernelspec": {
      "display_name": "Python 3.10.6 64-bit",
      "language": "python",
      "name": "python3"
    },
    "language_info": {
      "codemirror_mode": {
        "name": "ipython",
        "version": 3
      },
      "file_extension": ".py",
      "mimetype": "text/x-python",
      "name": "python",
      "nbconvert_exporter": "python",
      "pygments_lexer": "ipython3",
      "version": "3.10.6"
    },
    "vscode": {
      "interpreter": {
        "hash": "369f2c481f4da34e4445cda3fffd2e751bd1c4d706f27375911949ba6bb62e1c"
      }
    }
  },
  "nbformat": 4,
  "nbformat_minor": 0
}
