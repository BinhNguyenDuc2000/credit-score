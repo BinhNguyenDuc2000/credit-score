{
 "cells": [
  {
   "cell_type": "code",
   "execution_count": 10,
   "metadata": {},
   "outputs": [],
   "source": [
    "import pandas as pd\n",
    "import numpy as np\n",
    "import json"
   ]
  },
  {
   "cell_type": "code",
   "execution_count": 11,
   "metadata": {},
   "outputs": [],
   "source": [
    "df = pd.read_csv('test.csv')\n",
    "with open('categories.json', 'r', encoding='utf-8') as file:\n",
    "    categories = json.load(file)"
   ]
  },
  {
   "cell_type": "code",
   "execution_count": 12,
   "metadata": {},
   "outputs": [],
   "source": [
    "df.drop(['ID', 'Customer_ID', 'Name', 'SSN'], axis=1, inplace=True)"
   ]
  },
  {
   "cell_type": "code",
   "execution_count": 13,
   "metadata": {},
   "outputs": [
    {
     "name": "stdout",
     "output_type": "stream",
     "text": [
      "<class 'pandas.core.frame.DataFrame'>\n",
      "RangeIndex: 50000 entries, 0 to 49999\n",
      "Data columns (total 23 columns):\n",
      " #   Column                    Non-Null Count  Dtype  \n",
      "---  ------                    --------------  -----  \n",
      " 0   Month                     50000 non-null  object \n",
      " 1   Age                       50000 non-null  object \n",
      " 2   Occupation                50000 non-null  object \n",
      " 3   Annual_Income             50000 non-null  object \n",
      " 4   Monthly_Inhand_Salary     42502 non-null  float64\n",
      " 5   Num_Bank_Accounts         50000 non-null  int64  \n",
      " 6   Num_Credit_Card           50000 non-null  int64  \n",
      " 7   Interest_Rate             50000 non-null  int64  \n",
      " 8   Num_of_Loan               50000 non-null  object \n",
      " 9   Type_of_Loan              44296 non-null  object \n",
      " 10  Delay_from_due_date       50000 non-null  int64  \n",
      " 11  Num_of_Delayed_Payment    46502 non-null  object \n",
      " 12  Changed_Credit_Limit      50000 non-null  object \n",
      " 13  Num_Credit_Inquiries      48965 non-null  float64\n",
      " 14  Credit_Mix                50000 non-null  object \n",
      " 15  Outstanding_Debt          50000 non-null  object \n",
      " 16  Credit_Utilization_Ratio  50000 non-null  float64\n",
      " 17  Credit_History_Age        45530 non-null  object \n",
      " 18  Payment_of_Min_Amount     50000 non-null  object \n",
      " 19  Total_EMI_per_month       50000 non-null  float64\n",
      " 20  Amount_invested_monthly   47729 non-null  object \n",
      " 21  Payment_Behaviour         50000 non-null  object \n",
      " 22  Monthly_Balance           49438 non-null  object \n",
      "dtypes: float64(4), int64(4), object(15)\n",
      "memory usage: 8.8+ MB\n"
     ]
    }
   ],
   "source": [
    "df.info()"
   ]
  },
  {
   "cell_type": "code",
   "execution_count": 14,
   "metadata": {},
   "outputs": [
    {
     "name": "stdout",
     "output_type": "stream",
     "text": [
      "<class 'pandas.core.frame.DataFrame'>\n",
      "RangeIndex: 50000 entries, 0 to 49999\n",
      "Data columns (total 15 columns):\n",
      " #   Column                   Non-Null Count  Dtype \n",
      "---  ------                   --------------  ----- \n",
      " 0   Month                    50000 non-null  object\n",
      " 1   Age                      50000 non-null  object\n",
      " 2   Occupation               50000 non-null  object\n",
      " 3   Annual_Income            50000 non-null  object\n",
      " 4   Num_of_Loan              50000 non-null  object\n",
      " 5   Type_of_Loan             44296 non-null  object\n",
      " 6   Num_of_Delayed_Payment   46502 non-null  object\n",
      " 7   Changed_Credit_Limit     50000 non-null  object\n",
      " 8   Credit_Mix               50000 non-null  object\n",
      " 9   Outstanding_Debt         50000 non-null  object\n",
      " 10  Credit_History_Age       45530 non-null  object\n",
      " 11  Payment_of_Min_Amount    50000 non-null  object\n",
      " 12  Amount_invested_monthly  47729 non-null  object\n",
      " 13  Payment_Behaviour        50000 non-null  object\n",
      " 14  Monthly_Balance          49438 non-null  object\n",
      "dtypes: object(15)\n",
      "memory usage: 5.7+ MB\n"
     ]
    },
    {
     "data": {
      "text/html": [
       "<div>\n",
       "<style scoped>\n",
       "    .dataframe tbody tr th:only-of-type {\n",
       "        vertical-align: middle;\n",
       "    }\n",
       "\n",
       "    .dataframe tbody tr th {\n",
       "        vertical-align: top;\n",
       "    }\n",
       "\n",
       "    .dataframe thead th {\n",
       "        text-align: right;\n",
       "    }\n",
       "</style>\n",
       "<table border=\"1\" class=\"dataframe\">\n",
       "  <thead>\n",
       "    <tr style=\"text-align: right;\">\n",
       "      <th></th>\n",
       "      <th>Month</th>\n",
       "      <th>Age</th>\n",
       "      <th>Occupation</th>\n",
       "      <th>Annual_Income</th>\n",
       "      <th>Num_of_Loan</th>\n",
       "      <th>Type_of_Loan</th>\n",
       "      <th>Num_of_Delayed_Payment</th>\n",
       "      <th>Changed_Credit_Limit</th>\n",
       "      <th>Credit_Mix</th>\n",
       "      <th>Outstanding_Debt</th>\n",
       "      <th>Credit_History_Age</th>\n",
       "      <th>Payment_of_Min_Amount</th>\n",
       "      <th>Amount_invested_monthly</th>\n",
       "      <th>Payment_Behaviour</th>\n",
       "      <th>Monthly_Balance</th>\n",
       "    </tr>\n",
       "  </thead>\n",
       "  <tbody>\n",
       "    <tr>\n",
       "      <th>0</th>\n",
       "      <td>September</td>\n",
       "      <td>23</td>\n",
       "      <td>Scientist</td>\n",
       "      <td>19114.12</td>\n",
       "      <td>4</td>\n",
       "      <td>Auto Loan, Credit-Builder Loan, Personal Loan,...</td>\n",
       "      <td>7</td>\n",
       "      <td>11.27</td>\n",
       "      <td>Good</td>\n",
       "      <td>809.98</td>\n",
       "      <td>22 Years and 9 Months</td>\n",
       "      <td>No</td>\n",
       "      <td>236.64268203272135</td>\n",
       "      <td>Low_spent_Small_value_payments</td>\n",
       "      <td>186.26670208571772</td>\n",
       "    </tr>\n",
       "    <tr>\n",
       "      <th>1</th>\n",
       "      <td>October</td>\n",
       "      <td>24</td>\n",
       "      <td>Scientist</td>\n",
       "      <td>19114.12</td>\n",
       "      <td>4</td>\n",
       "      <td>Auto Loan, Credit-Builder Loan, Personal Loan,...</td>\n",
       "      <td>9</td>\n",
       "      <td>13.27</td>\n",
       "      <td>Good</td>\n",
       "      <td>809.98</td>\n",
       "      <td>22 Years and 10 Months</td>\n",
       "      <td>No</td>\n",
       "      <td>21.465380264657146</td>\n",
       "      <td>High_spent_Medium_value_payments</td>\n",
       "      <td>361.44400385378196</td>\n",
       "    </tr>\n",
       "    <tr>\n",
       "      <th>2</th>\n",
       "      <td>November</td>\n",
       "      <td>24</td>\n",
       "      <td>Scientist</td>\n",
       "      <td>19114.12</td>\n",
       "      <td>4</td>\n",
       "      <td>Auto Loan, Credit-Builder Loan, Personal Loan,...</td>\n",
       "      <td>4</td>\n",
       "      <td>12.27</td>\n",
       "      <td>Good</td>\n",
       "      <td>809.98</td>\n",
       "      <td>NaN</td>\n",
       "      <td>No</td>\n",
       "      <td>148.23393788500925</td>\n",
       "      <td>Low_spent_Medium_value_payments</td>\n",
       "      <td>264.67544623342997</td>\n",
       "    </tr>\n",
       "    <tr>\n",
       "      <th>3</th>\n",
       "      <td>December</td>\n",
       "      <td>24_</td>\n",
       "      <td>Scientist</td>\n",
       "      <td>19114.12</td>\n",
       "      <td>4</td>\n",
       "      <td>Auto Loan, Credit-Builder Loan, Personal Loan,...</td>\n",
       "      <td>5</td>\n",
       "      <td>11.27</td>\n",
       "      <td>Good</td>\n",
       "      <td>809.98</td>\n",
       "      <td>23 Years and 0 Months</td>\n",
       "      <td>No</td>\n",
       "      <td>39.08251089460281</td>\n",
       "      <td>High_spent_Medium_value_payments</td>\n",
       "      <td>343.82687322383634</td>\n",
       "    </tr>\n",
       "    <tr>\n",
       "      <th>4</th>\n",
       "      <td>September</td>\n",
       "      <td>28</td>\n",
       "      <td>_______</td>\n",
       "      <td>34847.84</td>\n",
       "      <td>1</td>\n",
       "      <td>Credit-Builder Loan</td>\n",
       "      <td>1</td>\n",
       "      <td>5.42</td>\n",
       "      <td>Good</td>\n",
       "      <td>605.03</td>\n",
       "      <td>27 Years and 3 Months</td>\n",
       "      <td>No</td>\n",
       "      <td>39.684018417945296</td>\n",
       "      <td>High_spent_Large_value_payments</td>\n",
       "      <td>485.2984336755923</td>\n",
       "    </tr>\n",
       "  </tbody>\n",
       "</table>\n",
       "</div>"
      ],
      "text/plain": [
       "       Month  Age Occupation Annual_Income Num_of_Loan  \\\n",
       "0  September   23  Scientist      19114.12           4   \n",
       "1    October   24  Scientist      19114.12           4   \n",
       "2   November   24  Scientist      19114.12           4   \n",
       "3   December  24_  Scientist      19114.12           4   \n",
       "4  September   28    _______      34847.84           1   \n",
       "\n",
       "                                        Type_of_Loan Num_of_Delayed_Payment  \\\n",
       "0  Auto Loan, Credit-Builder Loan, Personal Loan,...                      7   \n",
       "1  Auto Loan, Credit-Builder Loan, Personal Loan,...                      9   \n",
       "2  Auto Loan, Credit-Builder Loan, Personal Loan,...                      4   \n",
       "3  Auto Loan, Credit-Builder Loan, Personal Loan,...                      5   \n",
       "4                                Credit-Builder Loan                      1   \n",
       "\n",
       "  Changed_Credit_Limit Credit_Mix Outstanding_Debt      Credit_History_Age  \\\n",
       "0                11.27       Good           809.98   22 Years and 9 Months   \n",
       "1                13.27       Good           809.98  22 Years and 10 Months   \n",
       "2                12.27       Good           809.98                     NaN   \n",
       "3                11.27       Good           809.98   23 Years and 0 Months   \n",
       "4                 5.42       Good           605.03   27 Years and 3 Months   \n",
       "\n",
       "  Payment_of_Min_Amount Amount_invested_monthly  \\\n",
       "0                    No      236.64268203272135   \n",
       "1                    No      21.465380264657146   \n",
       "2                    No      148.23393788500925   \n",
       "3                    No       39.08251089460281   \n",
       "4                    No      39.684018417945296   \n",
       "\n",
       "                  Payment_Behaviour     Monthly_Balance  \n",
       "0    Low_spent_Small_value_payments  186.26670208571772  \n",
       "1  High_spent_Medium_value_payments  361.44400385378196  \n",
       "2   Low_spent_Medium_value_payments  264.67544623342997  \n",
       "3  High_spent_Medium_value_payments  343.82687322383634  \n",
       "4   High_spent_Large_value_payments   485.2984336755923  "
      ]
     },
     "execution_count": 14,
     "metadata": {},
     "output_type": "execute_result"
    }
   ],
   "source": [
    "df.select_dtypes('O').info()\n",
    "df.select_dtypes('O').head()"
   ]
  },
  {
   "cell_type": "code",
   "execution_count": 15,
   "metadata": {},
   "outputs": [],
   "source": [
    "df = df.applymap(lambda x: x if x is np.NaN or not isinstance(x, str) else str(x).strip('_ ,\"')).replace([''], np.NaN)\n",
    "df['Month'] = pd.to_datetime(df.Month, format='%B').dt.month\n",
    "df['Age'] = df.Age.astype(int)\n",
    "df['Annual_Income'] = df.Annual_Income.astype(float)\n",
    "df['Num_of_Loan'] = df.Num_of_Loan.astype(int)\n",
    "df['Num_of_Delayed_Payment'] = df.Num_of_Delayed_Payment.astype(float)\n",
    "df['Changed_Credit_Limit'] = df.Changed_Credit_Limit.astype(float)\n",
    "df['Outstanding_Debt'] = df.Outstanding_Debt.astype(float)\n",
    "df['Amount_invested_monthly'] = df.Amount_invested_monthly.astype(float)\n",
    "df['Monthly_Balance'] = df.Monthly_Balance.astype(float)"
   ]
  },
  {
   "cell_type": "code",
   "execution_count": 16,
   "metadata": {},
   "outputs": [],
   "source": [
    "def month_text_to_number(x):\n",
    "    if pd.notnull(x):\n",
    "        num1 = int(x.split(' ')[0])\n",
    "        num2 = int(x.split(' ')[3])\n",
    "        return (num1*12)+num2\n",
    "    else:\n",
    "        return x\n",
    "df['Credit_History_Age'] = df.Credit_History_Age.apply(lambda x: month_text_to_number(x)).astype(float)"
   ]
  },
  {
   "cell_type": "code",
   "execution_count": 17,
   "metadata": {},
   "outputs": [],
   "source": [
    "df['Type_of_Loan'] = df['Type_of_Loan'].str.replace(', and', ',')\n",
    "loans_set = categories['loans']\n",
    "df['Type_of_Loan'] = df['Type_of_Loan'].map(lambda line: np.array([1 if not pd.isnull(line) and x in line.split(', ') else 0 for x in loans_set]))\n",
    "for item in loans_set:\n",
    "    df[item] = df['Type_of_Loan'].map(lambda x: x[loans_set.index(item)])\n",
    "df.drop(['Type_of_Loan'], axis=1, inplace=True)"
   ]
  },
  {
   "cell_type": "code",
   "execution_count": 18,
   "metadata": {},
   "outputs": [
    {
     "name": "stdout",
     "output_type": "stream",
     "text": [
      "<class 'pandas.core.frame.DataFrame'>\n",
      "RangeIndex: 50000 entries, 0 to 49999\n",
      "Data columns (total 31 columns):\n",
      " #   Column                    Non-Null Count  Dtype  \n",
      "---  ------                    --------------  -----  \n",
      " 0   Month                     50000 non-null  int64  \n",
      " 1   Age                       50000 non-null  int32  \n",
      " 2   Occupation                46562 non-null  object \n",
      " 3   Annual_Income             50000 non-null  float64\n",
      " 4   Monthly_Inhand_Salary     42502 non-null  float64\n",
      " 5   Num_Bank_Accounts         50000 non-null  int64  \n",
      " 6   Num_Credit_Card           50000 non-null  int64  \n",
      " 7   Interest_Rate             50000 non-null  int64  \n",
      " 8   Num_of_Loan               50000 non-null  int32  \n",
      " 9   Delay_from_due_date       50000 non-null  int64  \n",
      " 10  Num_of_Delayed_Payment    46502 non-null  float64\n",
      " 11  Changed_Credit_Limit      48941 non-null  float64\n",
      " 12  Num_Credit_Inquiries      48965 non-null  float64\n",
      " 13  Credit_Mix                40195 non-null  object \n",
      " 14  Outstanding_Debt          50000 non-null  float64\n",
      " 15  Credit_Utilization_Ratio  50000 non-null  float64\n",
      " 16  Credit_History_Age        45530 non-null  float64\n",
      " 17  Payment_of_Min_Amount     50000 non-null  object \n",
      " 18  Total_EMI_per_month       50000 non-null  float64\n",
      " 19  Amount_invested_monthly   47729 non-null  float64\n",
      " 20  Payment_Behaviour         50000 non-null  object \n",
      " 21  Monthly_Balance           49438 non-null  float64\n",
      " 22  Payday Loan               50000 non-null  int32  \n",
      " 23  Mortgage Loan             50000 non-null  int32  \n",
      " 24  Home Equity Loan          50000 non-null  int32  \n",
      " 25  Debt Consolidation Loan   50000 non-null  int32  \n",
      " 26  Personal Loan             50000 non-null  int32  \n",
      " 27  Student Loan              50000 non-null  int32  \n",
      " 28  Auto Loan                 50000 non-null  int32  \n",
      " 29  Credit-Builder Loan       50000 non-null  int32  \n",
      " 30  Not Specified             50000 non-null  int32  \n",
      "dtypes: float64(11), int32(11), int64(5), object(4)\n",
      "memory usage: 9.7+ MB\n"
     ]
    }
   ],
   "source": [
    "df.info()"
   ]
  },
  {
   "cell_type": "code",
   "execution_count": 19,
   "metadata": {},
   "outputs": [
    {
     "name": "stdout",
     "output_type": "stream",
     "text": [
      "<class 'pandas.core.frame.DataFrame'>\n",
      "RangeIndex: 50000 entries, 0 to 49999\n",
      "Data columns (total 4 columns):\n",
      " #   Column                 Non-Null Count  Dtype \n",
      "---  ------                 --------------  ----- \n",
      " 0   Occupation             46562 non-null  object\n",
      " 1   Credit_Mix             40195 non-null  object\n",
      " 2   Payment_of_Min_Amount  50000 non-null  object\n",
      " 3   Payment_Behaviour      50000 non-null  object\n",
      "dtypes: object(4)\n",
      "memory usage: 1.5+ MB\n"
     ]
    }
   ],
   "source": [
    "df.select_dtypes('O').info()"
   ]
  },
  {
   "cell_type": "code",
   "execution_count": 20,
   "metadata": {},
   "outputs": [
    {
     "data": {
      "text/plain": [
       "NaN              3438\n",
       "Lawyer           3324\n",
       "Engineer         3212\n",
       "Architect        3195\n",
       "Mechanic         3168\n",
       "Developer        3146\n",
       "Accountant       3133\n",
       "Media_Manager    3130\n",
       "Scientist        3104\n",
       "Teacher          3103\n",
       "Entrepreneur     3103\n",
       "Journalist       3037\n",
       "Doctor           3027\n",
       "Manager          3000\n",
       "Musician         2947\n",
       "Writer           2933\n",
       "Name: Occupation, dtype: int64"
      ]
     },
     "execution_count": 20,
     "metadata": {},
     "output_type": "execute_result"
    }
   ],
   "source": [
    "df['Occupation'].value_counts(dropna=False)"
   ]
  },
  {
   "cell_type": "code",
   "execution_count": 21,
   "metadata": {},
   "outputs": [
    {
     "data": {
      "text/plain": [
       "Standard    18379\n",
       "Good        12260\n",
       "NaN          9805\n",
       "Bad          9556\n",
       "Name: Credit_Mix, dtype: int64"
      ]
     },
     "execution_count": 21,
     "metadata": {},
     "output_type": "execute_result"
    }
   ],
   "source": [
    "df['Credit_Mix'].value_counts(dropna=False)"
   ]
  },
  {
   "cell_type": "code",
   "execution_count": 22,
   "metadata": {},
   "outputs": [
    {
     "data": {
      "text/plain": [
       "Yes    26158\n",
       "No     17849\n",
       "NM      5993\n",
       "Name: Payment_of_Min_Amount, dtype: int64"
      ]
     },
     "execution_count": 22,
     "metadata": {},
     "output_type": "execute_result"
    }
   ],
   "source": [
    "df['Payment_of_Min_Amount'].value_counts(dropna=False)"
   ]
  },
  {
   "cell_type": "code",
   "execution_count": 23,
   "metadata": {},
   "outputs": [
    {
     "data": {
      "text/plain": [
       "Low_spent_Small_value_payments      12694\n",
       "High_spent_Medium_value_payments     8922\n",
       "High_spent_Large_value_payments      6844\n",
       "Low_spent_Medium_value_payments      6837\n",
       "High_spent_Small_value_payments      5651\n",
       "Low_spent_Large_value_payments       5252\n",
       "!@9#%8                               3800\n",
       "Name: Payment_Behaviour, dtype: int64"
      ]
     },
     "execution_count": 23,
     "metadata": {},
     "output_type": "execute_result"
    }
   ],
   "source": [
    "df['Payment_Behaviour'].value_counts(dropna=False)"
   ]
  },
  {
   "cell_type": "code",
   "execution_count": 24,
   "metadata": {},
   "outputs": [],
   "source": [
    "df['Occupation'] = df.Occupation.apply(lambda x: 'Unknown' if pd.isnull(x) else x)\n",
    "df['Credit_Mix'] = df.Credit_Mix.apply(lambda x: 'Unknown' if pd.isnull(x) else x)\n",
    "df['Payment_of_Min_Amount'] = df.Payment_of_Min_Amount.apply(lambda x: 'Unknown' if x == 'NM' else x)\n",
    "df['Payment_Behaviour'] = df.Payment_Behaviour.apply(lambda x: 'Unknown' if x == '!@9#%8' else x)"
   ]
  },
  {
   "cell_type": "code",
   "execution_count": 27,
   "metadata": {},
   "outputs": [],
   "source": [
    "df.dropna(inplace=True)"
   ]
  },
  {
   "cell_type": "code",
   "execution_count": 28,
   "metadata": {},
   "outputs": [
    {
     "data": {
      "text/plain": [
       "Index(['Occupation', 'Credit_Mix', 'Payment_of_Min_Amount',\n",
       "       'Payment_Behaviour'],\n",
       "      dtype='object')"
      ]
     },
     "execution_count": 28,
     "metadata": {},
     "output_type": "execute_result"
    }
   ],
   "source": [
    "df.select_dtypes('O').columns"
   ]
  },
  {
   "cell_type": "code",
   "execution_count": 29,
   "metadata": {},
   "outputs": [],
   "source": [
    "occupations = categories['occupations']\n",
    "df['Occupation'] = df.Occupation.apply(lambda x: occupations.index(x) if x in occupations else occupations.index('Unknown'))\n",
    "\n",
    "payment_min_amounts = categories['payment_min_amounts']\n",
    "df['Payment_of_Min_Amount'] = df.Payment_of_Min_Amount.apply(lambda x: payment_min_amounts.index(x) if x in payment_min_amounts else payment_min_amounts.index('Unknown'))\n",
    "\n",
    "payment_behaviours = categories['payment_behaviours']\n",
    "df['Payment_Behaviour'] = df.Payment_Behaviour.apply(lambda x: payment_behaviours.index(x) if x in payment_behaviours else payment_behaviours.index('Unknown'))\n",
    "\n",
    "credit_mixs = categories['credit_mixs']\n",
    "df['Credit_Mix'] = df.Credit_Mix.apply(lambda x: credit_mixs.index(x) if x in credit_mixs else credit_mixs.index('Unknown'))"
   ]
  },
  {
   "cell_type": "code",
   "execution_count": 30,
   "metadata": {},
   "outputs": [
    {
     "name": "stdout",
     "output_type": "stream",
     "text": [
      "<class 'pandas.core.frame.DataFrame'>\n",
      "Int64Index: 32565 entries, 0 to 49999\n",
      "Data columns (total 31 columns):\n",
      " #   Column                    Non-Null Count  Dtype  \n",
      "---  ------                    --------------  -----  \n",
      " 0   Month                     32565 non-null  int64  \n",
      " 1   Age                       32565 non-null  int32  \n",
      " 2   Occupation                32565 non-null  int64  \n",
      " 3   Annual_Income             32565 non-null  float64\n",
      " 4   Monthly_Inhand_Salary     32565 non-null  float64\n",
      " 5   Num_Bank_Accounts         32565 non-null  int64  \n",
      " 6   Num_Credit_Card           32565 non-null  int64  \n",
      " 7   Interest_Rate             32565 non-null  int64  \n",
      " 8   Num_of_Loan               32565 non-null  int32  \n",
      " 9   Delay_from_due_date       32565 non-null  int64  \n",
      " 10  Num_of_Delayed_Payment    32565 non-null  float64\n",
      " 11  Changed_Credit_Limit      32565 non-null  float64\n",
      " 12  Num_Credit_Inquiries      32565 non-null  float64\n",
      " 13  Credit_Mix                32565 non-null  int64  \n",
      " 14  Outstanding_Debt          32565 non-null  float64\n",
      " 15  Credit_Utilization_Ratio  32565 non-null  float64\n",
      " 16  Credit_History_Age        32565 non-null  float64\n",
      " 17  Payment_of_Min_Amount     32565 non-null  int64  \n",
      " 18  Total_EMI_per_month       32565 non-null  float64\n",
      " 19  Amount_invested_monthly   32565 non-null  float64\n",
      " 20  Payment_Behaviour         32565 non-null  int64  \n",
      " 21  Monthly_Balance           32565 non-null  float64\n",
      " 22  Payday Loan               32565 non-null  int32  \n",
      " 23  Mortgage Loan             32565 non-null  int32  \n",
      " 24  Home Equity Loan          32565 non-null  int32  \n",
      " 25  Debt Consolidation Loan   32565 non-null  int32  \n",
      " 26  Personal Loan             32565 non-null  int32  \n",
      " 27  Student Loan              32565 non-null  int32  \n",
      " 28  Auto Loan                 32565 non-null  int32  \n",
      " 29  Credit-Builder Loan       32565 non-null  int32  \n",
      " 30  Not Specified             32565 non-null  int32  \n",
      "dtypes: float64(11), int32(11), int64(9)\n",
      "memory usage: 6.6 MB\n"
     ]
    }
   ],
   "source": [
    "df.info()"
   ]
  },
  {
   "cell_type": "code",
   "execution_count": 31,
   "metadata": {},
   "outputs": [],
   "source": [
    "df.to_csv('clean_test.csv', index=False)"
   ]
  }
 ],
 "metadata": {
  "kernelspec": {
   "display_name": "Python 3",
   "language": "python",
   "name": "python3"
  },
  "language_info": {
   "codemirror_mode": {
    "name": "ipython",
    "version": 3
   },
   "file_extension": ".py",
   "mimetype": "text/x-python",
   "name": "python",
   "nbconvert_exporter": "python",
   "pygments_lexer": "ipython3",
   "version": "3.10.6 (tags/v3.10.6:9c7b4bd, Aug  1 2022, 21:53:49) [MSC v.1932 64 bit (AMD64)]"
  },
  "orig_nbformat": 4,
  "vscode": {
   "interpreter": {
    "hash": "369f2c481f4da34e4445cda3fffd2e751bd1c4d706f27375911949ba6bb62e1c"
   }
  }
 },
 "nbformat": 4,
 "nbformat_minor": 2
}
