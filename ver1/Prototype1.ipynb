{
 "cells": [
  {
   "cell_type": "markdown",
   "metadata": {},
   "source": [
    "# Ý tưởng của prototype 1\n",
    "Tập chung vào chạy được thuật toán thuật toán decision tree để gán mác \n",
    "\n",
    "Xử lý dữ liệu đơn giản để chạy được thuật toán(Xóa các hàng có giá trị null)"
   ]
  },
  {
   "cell_type": "markdown",
   "metadata": {},
   "source": [
    "# Import thư viện"
   ]
  },
  {
   "cell_type": "code",
   "execution_count": 1,
   "metadata": {
    "id": "uCt3OI-V2GGZ"
   },
   "outputs": [],
   "source": [
    "import pandas as pd\n",
    "import pickle\n",
    "import pandas as pd\n",
    "from pandas import DataFrame\n",
    "import matplotlib.pyplot as plt\n",
    "import numpy as np\n",
    "from sklearn.model_selection import train_test_split\n",
    "from sklearn.tree import DecisionTreeClassifier\n",
    "from sklearn import metrics\n",
    "from sklearn.model_selection import KFold, StratifiedKFold\n",
    "import json"
   ]
  },
  {
   "cell_type": "markdown",
   "metadata": {},
   "source": [
    "# Xử lý dữ liệu"
   ]
  },
  {
   "cell_type": "code",
   "execution_count": 2,
   "metadata": {},
   "outputs": [
    {
     "name": "stderr",
     "output_type": "stream",
     "text": [
      "C:\\Users\\ngova\\AppData\\Local\\Temp\\ipykernel_8268\\1635338934.py:1: DtypeWarning: Columns (26) have mixed types. Specify dtype option on import or set low_memory=False.\n",
      "  df = pd.read_csv('raw_dataset.csv')\n"
     ]
    }
   ],
   "source": [
    "df = pd.read_csv('raw_dataset.csv')"
   ]
  },
  {
   "cell_type": "code",
   "execution_count": 3,
   "metadata": {},
   "outputs": [],
   "source": [
    "df.drop(['ID', 'Name', 'SSN', 'Month'], axis=1, inplace=True)"
   ]
  },
  {
   "cell_type": "code",
   "execution_count": 4,
   "metadata": {},
   "outputs": [
    {
     "name": "stdout",
     "output_type": "stream",
     "text": [
      "<class 'pandas.core.frame.DataFrame'>\n",
      "RangeIndex: 100000 entries, 0 to 99999\n",
      "Data columns (total 24 columns):\n",
      " #   Column                    Non-Null Count   Dtype  \n",
      "---  ------                    --------------   -----  \n",
      " 0   Customer_ID               100000 non-null  object \n",
      " 1   Age                       100000 non-null  object \n",
      " 2   Occupation                100000 non-null  object \n",
      " 3   Annual_Income             100000 non-null  object \n",
      " 4   Monthly_Inhand_Salary     84998 non-null   float64\n",
      " 5   Num_Bank_Accounts         100000 non-null  int64  \n",
      " 6   Num_Credit_Card           100000 non-null  int64  \n",
      " 7   Interest_Rate             100000 non-null  int64  \n",
      " 8   Num_of_Loan               100000 non-null  object \n",
      " 9   Type_of_Loan              88592 non-null   object \n",
      " 10  Delay_from_due_date       100000 non-null  int64  \n",
      " 11  Num_of_Delayed_Payment    92998 non-null   object \n",
      " 12  Changed_Credit_Limit      100000 non-null  object \n",
      " 13  Num_Credit_Inquiries      98035 non-null   float64\n",
      " 14  Credit_Mix                100000 non-null  object \n",
      " 15  Outstanding_Debt          100000 non-null  object \n",
      " 16  Credit_Utilization_Ratio  100000 non-null  float64\n",
      " 17  Credit_History_Age        90970 non-null   object \n",
      " 18  Payment_of_Min_Amount     100000 non-null  object \n",
      " 19  Total_EMI_per_month       100000 non-null  float64\n",
      " 20  Amount_invested_monthly   95521 non-null   object \n",
      " 21  Payment_Behaviour         100000 non-null  object \n",
      " 22  Monthly_Balance           98800 non-null   object \n",
      " 23  Credit_Score              100000 non-null  object \n",
      "dtypes: float64(4), int64(4), object(16)\n",
      "memory usage: 18.3+ MB\n"
     ]
    }
   ],
   "source": [
    "df.info()"
   ]
  },
  {
   "cell_type": "code",
   "execution_count": 5,
   "metadata": {
    "scrolled": true
   },
   "outputs": [
    {
     "name": "stdout",
     "output_type": "stream",
     "text": [
      "<class 'pandas.core.frame.DataFrame'>\n",
      "RangeIndex: 100000 entries, 0 to 99999\n",
      "Data columns (total 16 columns):\n",
      " #   Column                   Non-Null Count   Dtype \n",
      "---  ------                   --------------   ----- \n",
      " 0   Customer_ID              100000 non-null  object\n",
      " 1   Age                      100000 non-null  object\n",
      " 2   Occupation               100000 non-null  object\n",
      " 3   Annual_Income            100000 non-null  object\n",
      " 4   Num_of_Loan              100000 non-null  object\n",
      " 5   Type_of_Loan             88592 non-null   object\n",
      " 6   Num_of_Delayed_Payment   92998 non-null   object\n",
      " 7   Changed_Credit_Limit     100000 non-null  object\n",
      " 8   Credit_Mix               100000 non-null  object\n",
      " 9   Outstanding_Debt         100000 non-null  object\n",
      " 10  Credit_History_Age       90970 non-null   object\n",
      " 11  Payment_of_Min_Amount    100000 non-null  object\n",
      " 12  Amount_invested_monthly  95521 non-null   object\n",
      " 13  Payment_Behaviour        100000 non-null  object\n",
      " 14  Monthly_Balance          98800 non-null   object\n",
      " 15  Credit_Score             100000 non-null  object\n",
      "dtypes: object(16)\n",
      "memory usage: 12.2+ MB\n"
     ]
    },
    {
     "data": {
      "text/html": [
       "<div>\n",
       "<style scoped>\n",
       "    .dataframe tbody tr th:only-of-type {\n",
       "        vertical-align: middle;\n",
       "    }\n",
       "\n",
       "    .dataframe tbody tr th {\n",
       "        vertical-align: top;\n",
       "    }\n",
       "\n",
       "    .dataframe thead th {\n",
       "        text-align: right;\n",
       "    }\n",
       "</style>\n",
       "<table border=\"1\" class=\"dataframe\">\n",
       "  <thead>\n",
       "    <tr style=\"text-align: right;\">\n",
       "      <th></th>\n",
       "      <th>Customer_ID</th>\n",
       "      <th>Age</th>\n",
       "      <th>Occupation</th>\n",
       "      <th>Annual_Income</th>\n",
       "      <th>Num_of_Loan</th>\n",
       "      <th>Type_of_Loan</th>\n",
       "      <th>Num_of_Delayed_Payment</th>\n",
       "      <th>Changed_Credit_Limit</th>\n",
       "      <th>Credit_Mix</th>\n",
       "      <th>Outstanding_Debt</th>\n",
       "      <th>Credit_History_Age</th>\n",
       "      <th>Payment_of_Min_Amount</th>\n",
       "      <th>Amount_invested_monthly</th>\n",
       "      <th>Payment_Behaviour</th>\n",
       "      <th>Monthly_Balance</th>\n",
       "      <th>Credit_Score</th>\n",
       "    </tr>\n",
       "  </thead>\n",
       "  <tbody>\n",
       "    <tr>\n",
       "      <th>0</th>\n",
       "      <td>CUS_0xd40</td>\n",
       "      <td>23</td>\n",
       "      <td>Scientist</td>\n",
       "      <td>19114.12</td>\n",
       "      <td>4</td>\n",
       "      <td>Auto Loan, Credit-Builder Loan, Personal Loan,...</td>\n",
       "      <td>7</td>\n",
       "      <td>11.27</td>\n",
       "      <td>_</td>\n",
       "      <td>809.98</td>\n",
       "      <td>22 Years and 1 Months</td>\n",
       "      <td>No</td>\n",
       "      <td>80.41529543900253</td>\n",
       "      <td>High_spent_Small_value_payments</td>\n",
       "      <td>312.49408867943663</td>\n",
       "      <td>Good</td>\n",
       "    </tr>\n",
       "    <tr>\n",
       "      <th>1</th>\n",
       "      <td>CUS_0xd40</td>\n",
       "      <td>23</td>\n",
       "      <td>Scientist</td>\n",
       "      <td>19114.12</td>\n",
       "      <td>4</td>\n",
       "      <td>Auto Loan, Credit-Builder Loan, Personal Loan,...</td>\n",
       "      <td>NaN</td>\n",
       "      <td>11.27</td>\n",
       "      <td>Good</td>\n",
       "      <td>809.98</td>\n",
       "      <td>NaN</td>\n",
       "      <td>No</td>\n",
       "      <td>118.28022162236736</td>\n",
       "      <td>Low_spent_Large_value_payments</td>\n",
       "      <td>284.62916249607184</td>\n",
       "      <td>Good</td>\n",
       "    </tr>\n",
       "    <tr>\n",
       "      <th>2</th>\n",
       "      <td>CUS_0xd40</td>\n",
       "      <td>-500</td>\n",
       "      <td>Scientist</td>\n",
       "      <td>19114.12</td>\n",
       "      <td>4</td>\n",
       "      <td>Auto Loan, Credit-Builder Loan, Personal Loan,...</td>\n",
       "      <td>7</td>\n",
       "      <td>_</td>\n",
       "      <td>Good</td>\n",
       "      <td>809.98</td>\n",
       "      <td>22 Years and 3 Months</td>\n",
       "      <td>No</td>\n",
       "      <td>81.699521264648</td>\n",
       "      <td>Low_spent_Medium_value_payments</td>\n",
       "      <td>331.2098628537912</td>\n",
       "      <td>Good</td>\n",
       "    </tr>\n",
       "    <tr>\n",
       "      <th>3</th>\n",
       "      <td>CUS_0xd40</td>\n",
       "      <td>23</td>\n",
       "      <td>Scientist</td>\n",
       "      <td>19114.12</td>\n",
       "      <td>4</td>\n",
       "      <td>Auto Loan, Credit-Builder Loan, Personal Loan,...</td>\n",
       "      <td>4</td>\n",
       "      <td>6.27</td>\n",
       "      <td>Good</td>\n",
       "      <td>809.98</td>\n",
       "      <td>22 Years and 4 Months</td>\n",
       "      <td>No</td>\n",
       "      <td>199.4580743910713</td>\n",
       "      <td>Low_spent_Small_value_payments</td>\n",
       "      <td>223.45130972736786</td>\n",
       "      <td>Good</td>\n",
       "    </tr>\n",
       "    <tr>\n",
       "      <th>4</th>\n",
       "      <td>CUS_0xd40</td>\n",
       "      <td>23</td>\n",
       "      <td>Scientist</td>\n",
       "      <td>19114.12</td>\n",
       "      <td>4</td>\n",
       "      <td>Auto Loan, Credit-Builder Loan, Personal Loan,...</td>\n",
       "      <td>NaN</td>\n",
       "      <td>11.27</td>\n",
       "      <td>Good</td>\n",
       "      <td>809.98</td>\n",
       "      <td>22 Years and 5 Months</td>\n",
       "      <td>No</td>\n",
       "      <td>41.420153086217326</td>\n",
       "      <td>High_spent_Medium_value_payments</td>\n",
       "      <td>341.48923103222177</td>\n",
       "      <td>Good</td>\n",
       "    </tr>\n",
       "  </tbody>\n",
       "</table>\n",
       "</div>"
      ],
      "text/plain": [
       "  Customer_ID   Age Occupation Annual_Income Num_of_Loan  \\\n",
       "0   CUS_0xd40    23  Scientist      19114.12           4   \n",
       "1   CUS_0xd40    23  Scientist      19114.12           4   \n",
       "2   CUS_0xd40  -500  Scientist      19114.12           4   \n",
       "3   CUS_0xd40    23  Scientist      19114.12           4   \n",
       "4   CUS_0xd40    23  Scientist      19114.12           4   \n",
       "\n",
       "                                        Type_of_Loan Num_of_Delayed_Payment  \\\n",
       "0  Auto Loan, Credit-Builder Loan, Personal Loan,...                      7   \n",
       "1  Auto Loan, Credit-Builder Loan, Personal Loan,...                    NaN   \n",
       "2  Auto Loan, Credit-Builder Loan, Personal Loan,...                      7   \n",
       "3  Auto Loan, Credit-Builder Loan, Personal Loan,...                      4   \n",
       "4  Auto Loan, Credit-Builder Loan, Personal Loan,...                    NaN   \n",
       "\n",
       "  Changed_Credit_Limit Credit_Mix Outstanding_Debt     Credit_History_Age  \\\n",
       "0                11.27          _           809.98  22 Years and 1 Months   \n",
       "1                11.27       Good           809.98                    NaN   \n",
       "2                    _       Good           809.98  22 Years and 3 Months   \n",
       "3                 6.27       Good           809.98  22 Years and 4 Months   \n",
       "4                11.27       Good           809.98  22 Years and 5 Months   \n",
       "\n",
       "  Payment_of_Min_Amount Amount_invested_monthly  \\\n",
       "0                    No       80.41529543900253   \n",
       "1                    No      118.28022162236736   \n",
       "2                    No         81.699521264648   \n",
       "3                    No       199.4580743910713   \n",
       "4                    No      41.420153086217326   \n",
       "\n",
       "                  Payment_Behaviour     Monthly_Balance Credit_Score  \n",
       "0   High_spent_Small_value_payments  312.49408867943663         Good  \n",
       "1    Low_spent_Large_value_payments  284.62916249607184         Good  \n",
       "2   Low_spent_Medium_value_payments   331.2098628537912         Good  \n",
       "3    Low_spent_Small_value_payments  223.45130972736786         Good  \n",
       "4  High_spent_Medium_value_payments  341.48923103222177         Good  "
      ]
     },
     "execution_count": 5,
     "metadata": {},
     "output_type": "execute_result"
    }
   ],
   "source": [
    "df.select_dtypes('O').info()\n",
    "df.select_dtypes('O').head()"
   ]
  },
  {
   "cell_type": "code",
   "execution_count": 6,
   "metadata": {},
   "outputs": [],
   "source": [
    "df = df.applymap(lambda x: x if x is np.NaN or not isinstance(x, str) else str(x).strip('_ ,\"')).replace([''], np.NaN)\n",
    "df['Age'] = df.Age.astype(int)\n",
    "df['Annual_Income'] = df.Annual_Income.astype(float)\n",
    "df['Num_of_Loan'] = df.Num_of_Loan.astype(int)\n",
    "df['Num_of_Delayed_Payment'] = df.Num_of_Delayed_Payment.astype(float)\n",
    "df['Changed_Credit_Limit'] = df.Changed_Credit_Limit.astype(float)\n",
    "df['Outstanding_Debt'] = df.Outstanding_Debt.astype(float)\n",
    "df['Amount_invested_monthly'] = df.Amount_invested_monthly.astype(float)\n",
    "df['Monthly_Balance'] = df.Monthly_Balance.astype(float)"
   ]
  },
  {
   "cell_type": "code",
   "execution_count": 7,
   "metadata": {},
   "outputs": [],
   "source": [
    "def month_text_to_number(x):\n",
    "    if pd.notnull(x):\n",
    "        num1 = int(x.split(' ')[0])\n",
    "        num2 = int(x.split(' ')[3])\n",
    "        return (num1*12)+num2\n",
    "    else:\n",
    "        return x\n",
    "df['Credit_History_Age'] = df.Credit_History_Age.apply(lambda x: month_text_to_number(x)).astype(float)"
   ]
  },
  {
   "cell_type": "code",
   "execution_count": 8,
   "metadata": {},
   "outputs": [
    {
     "name": "stdout",
     "output_type": "stream",
     "text": [
      "<class 'pandas.core.frame.DataFrame'>\n",
      "RangeIndex: 100000 entries, 0 to 99999\n",
      "Data columns (total 7 columns):\n",
      " #   Column                 Non-Null Count   Dtype \n",
      "---  ------                 --------------   ----- \n",
      " 0   Customer_ID            100000 non-null  object\n",
      " 1   Occupation             92938 non-null   object\n",
      " 2   Type_of_Loan           88592 non-null   object\n",
      " 3   Credit_Mix             79805 non-null   object\n",
      " 4   Payment_of_Min_Amount  100000 non-null  object\n",
      " 5   Payment_Behaviour      100000 non-null  object\n",
      " 6   Credit_Score           100000 non-null  object\n",
      "dtypes: object(7)\n",
      "memory usage: 5.3+ MB\n"
     ]
    }
   ],
   "source": [
    "df.select_dtypes('O').info()"
   ]
  },
  {
   "cell_type": "code",
   "execution_count": 9,
   "metadata": {
    "scrolled": true
   },
   "outputs": [
    {
     "data": {
      "text/plain": [
       "NaN              7062\n",
       "Lawyer           6575\n",
       "Architect        6355\n",
       "Engineer         6350\n",
       "Scientist        6299\n",
       "Mechanic         6291\n",
       "Accountant       6271\n",
       "Developer        6235\n",
       "Media_Manager    6232\n",
       "Teacher          6215\n",
       "Entrepreneur     6174\n",
       "Doctor           6087\n",
       "Journalist       6085\n",
       "Manager          5973\n",
       "Musician         5911\n",
       "Writer           5885\n",
       "Name: Occupation, dtype: int64"
      ]
     },
     "execution_count": 9,
     "metadata": {},
     "output_type": "execute_result"
    }
   ],
   "source": [
    "df['Occupation'].value_counts(dropna=False)"
   ]
  },
  {
   "cell_type": "code",
   "execution_count": 10,
   "metadata": {},
   "outputs": [
    {
     "data": {
      "text/plain": [
       "Standard    36479\n",
       "Good        24337\n",
       "NaN         20195\n",
       "Bad         18989\n",
       "Name: Credit_Mix, dtype: int64"
      ]
     },
     "execution_count": 10,
     "metadata": {},
     "output_type": "execute_result"
    }
   ],
   "source": [
    "df['Credit_Mix'].value_counts(dropna=False)"
   ]
  },
  {
   "cell_type": "code",
   "execution_count": 11,
   "metadata": {
    "scrolled": true
   },
   "outputs": [
    {
     "data": {
      "text/plain": [
       "Yes    52326\n",
       "No     35667\n",
       "NM     12007\n",
       "Name: Payment_of_Min_Amount, dtype: int64"
      ]
     },
     "execution_count": 11,
     "metadata": {},
     "output_type": "execute_result"
    }
   ],
   "source": [
    "df['Payment_of_Min_Amount'].value_counts(dropna=False)"
   ]
  },
  {
   "cell_type": "code",
   "execution_count": 12,
   "metadata": {},
   "outputs": [
    {
     "data": {
      "text/plain": [
       "Low_spent_Small_value_payments      25513\n",
       "High_spent_Medium_value_payments    17540\n",
       "Low_spent_Medium_value_payments     13861\n",
       "High_spent_Large_value_payments     13721\n",
       "High_spent_Small_value_payments     11340\n",
       "Low_spent_Large_value_payments      10425\n",
       "!@9#%8                               7600\n",
       "Name: Payment_Behaviour, dtype: int64"
      ]
     },
     "execution_count": 12,
     "metadata": {},
     "output_type": "execute_result"
    }
   ],
   "source": [
    "df['Payment_Behaviour'].value_counts(dropna=False)"
   ]
  },
  {
   "cell_type": "code",
   "execution_count": 13,
   "metadata": {},
   "outputs": [
    {
     "data": {
      "text/plain": [
       "Standard    53174\n",
       "Poor        28998\n",
       "Good        17828\n",
       "Name: Credit_Score, dtype: int64"
      ]
     },
     "execution_count": 13,
     "metadata": {},
     "output_type": "execute_result"
    }
   ],
   "source": [
    "df['Credit_Score'].value_counts(dropna=False)"
   ]
  },
  {
   "cell_type": "code",
   "execution_count": 14,
   "metadata": {},
   "outputs": [],
   "source": [
    "df['Occupation'] = df.Occupation.apply(lambda x: 'Unknown' if pd.isnull(x) else x)\n",
    "df['Credit_Mix'] = df.Credit_Mix.apply(lambda x: 'Unknown' if pd.isnull(x) else x)\n",
    "df['Payment_of_Min_Amount'] = df.Payment_of_Min_Amount.apply(lambda x: 'Unknown' if x == 'NM' else x)\n",
    "df['Payment_Behaviour'] = df.Payment_Behaviour.apply(lambda x: 'Unknown' if x == '!@9#%8' else x)"
   ]
  },
  {
   "cell_type": "code",
   "execution_count": 15,
   "metadata": {},
   "outputs": [],
   "source": [
    "occupations = list(df.Occupation.astype('category').cat.categories)\n",
    "occupations.remove('Unknown')\n",
    "occupations.append('Unknown')\n",
    "df['Occupation'] = df.Occupation.apply(lambda x: occupations.index(x))\n",
    "\n",
    "payment_min_amounts = list(df.Payment_of_Min_Amount.astype('category').cat.categories)\n",
    "payment_min_amounts.remove('Unknown')\n",
    "payment_min_amounts.append('Unknown')\n",
    "df['Payment_of_Min_Amount'] = df.Payment_of_Min_Amount.apply(lambda x: payment_min_amounts.index(x))\n",
    "\n",
    "payment_behaviours = list(df.Payment_Behaviour.astype('category').cat.categories)\n",
    "payment_behaviours.remove('Unknown')\n",
    "payment_behaviours.append('Unknown')\n",
    "df['Payment_Behaviour'] = df.Payment_Behaviour.apply(lambda x: payment_behaviours.index(x))"
   ]
  },
  {
   "cell_type": "code",
   "execution_count": 16,
   "metadata": {},
   "outputs": [],
   "source": [
    "credit_mixs = ['Bad', 'Standard', 'Good', 'Unknown']\n",
    "df['Credit_Mix'] = df.Credit_Mix.apply(lambda x: credit_mixs.index(x))\n",
    "\n",
    "credit_scores = ['Poor', 'Standard', 'Good']\n",
    "df['Credit_Score'] = df.Credit_Score.apply(lambda x: credit_scores.index(x))"
   ]
  },
  {
   "cell_type": "code",
   "execution_count": 17,
   "metadata": {},
   "outputs": [],
   "source": [
    "df['Type_of_Loan'] = df['Type_of_Loan'].str.replace(', and', ',')\n",
    "df['Num_of_Loan'] = df['Type_of_Loan'].map(lambda x: len(x.split(', ')) if not pd.isnull(x) else 0)\n",
    "loans_set = list(set([y for x in df['Type_of_Loan'].dropna() for y in x.split(', ')]))\n",
    "for item in loans_set:\n",
    "    df[item] = df['Type_of_Loan'].map(lambda x: x.count(item) if not pd.isnull(x) else 0)\n",
    "df.drop(\"Type_of_Loan\", axis=1, inplace=True)"
   ]
  },
  {
   "cell_type": "code",
   "execution_count": 18,
   "metadata": {},
   "outputs": [],
   "source": [
    "df.dropna(inplace=True)"
   ]
  },
  {
   "cell_type": "code",
   "execution_count": 19,
   "metadata": {},
   "outputs": [
    {
     "name": "stdout",
     "output_type": "stream",
     "text": [
      "<class 'pandas.core.frame.DataFrame'>\n",
      "Int64Index: 65143 entries, 0 to 99999\n",
      "Data columns (total 32 columns):\n",
      " #   Column                    Non-Null Count  Dtype  \n",
      "---  ------                    --------------  -----  \n",
      " 0   Customer_ID               65143 non-null  object \n",
      " 1   Age                       65143 non-null  int32  \n",
      " 2   Occupation                65143 non-null  int64  \n",
      " 3   Annual_Income             65143 non-null  float64\n",
      " 4   Monthly_Inhand_Salary     65143 non-null  float64\n",
      " 5   Num_Bank_Accounts         65143 non-null  int64  \n",
      " 6   Num_Credit_Card           65143 non-null  int64  \n",
      " 7   Interest_Rate             65143 non-null  int64  \n",
      " 8   Num_of_Loan               65143 non-null  int64  \n",
      " 9   Delay_from_due_date       65143 non-null  int64  \n",
      " 10  Num_of_Delayed_Payment    65143 non-null  float64\n",
      " 11  Changed_Credit_Limit      65143 non-null  float64\n",
      " 12  Num_Credit_Inquiries      65143 non-null  float64\n",
      " 13  Credit_Mix                65143 non-null  int64  \n",
      " 14  Outstanding_Debt          65143 non-null  float64\n",
      " 15  Credit_Utilization_Ratio  65143 non-null  float64\n",
      " 16  Credit_History_Age        65143 non-null  float64\n",
      " 17  Payment_of_Min_Amount     65143 non-null  int64  \n",
      " 18  Total_EMI_per_month       65143 non-null  float64\n",
      " 19  Amount_invested_monthly   65143 non-null  float64\n",
      " 20  Payment_Behaviour         65143 non-null  int64  \n",
      " 21  Monthly_Balance           65143 non-null  float64\n",
      " 22  Credit_Score              65143 non-null  int64  \n",
      " 23  Home Equity Loan          65143 non-null  int64  \n",
      " 24  Credit-Builder Loan       65143 non-null  int64  \n",
      " 25  Not Specified             65143 non-null  int64  \n",
      " 26  Payday Loan               65143 non-null  int64  \n",
      " 27  Debt Consolidation Loan   65143 non-null  int64  \n",
      " 28  Mortgage Loan             65143 non-null  int64  \n",
      " 29  Auto Loan                 65143 non-null  int64  \n",
      " 30  Personal Loan             65143 non-null  int64  \n",
      " 31  Student Loan              65143 non-null  int64  \n",
      "dtypes: float64(11), int32(1), int64(19), object(1)\n",
      "memory usage: 16.2+ MB\n"
     ]
    }
   ],
   "source": [
    "df.info()"
   ]
  },
  {
   "cell_type": "code",
   "execution_count": 20,
   "metadata": {},
   "outputs": [],
   "source": [
    "df.drop(\"Customer_ID\", axis=1, inplace=True)"
   ]
  },
  {
   "cell_type": "code",
   "execution_count": 21,
   "metadata": {},
   "outputs": [],
   "source": [
    "df.to_csv('dataset.csv', index=False)"
   ]
  },
  {
   "cell_type": "markdown",
   "metadata": {},
   "source": [
    "# Train from clean data"
   ]
  },
  {
   "cell_type": "code",
   "execution_count": 22,
   "metadata": {
    "colab": {
     "base_uri": "https://localhost:8080/"
    },
    "id": "4pUUBEDi64Vk",
    "outputId": "4e1cedfc-a3b6-45b8-ee42-8d5f15166566",
    "scrolled": true
   },
   "outputs": [
    {
     "name": "stdout",
     "output_type": "stream",
     "text": [
      "<class 'pandas.core.frame.DataFrame'>\n",
      "RangeIndex: 65143 entries, 0 to 65142\n",
      "Data columns (total 31 columns):\n",
      " #   Column                    Non-Null Count  Dtype  \n",
      "---  ------                    --------------  -----  \n",
      " 0   Age                       65143 non-null  int64  \n",
      " 1   Occupation                65143 non-null  int64  \n",
      " 2   Annual_Income             65143 non-null  float64\n",
      " 3   Monthly_Inhand_Salary     65143 non-null  float64\n",
      " 4   Num_Bank_Accounts         65143 non-null  int64  \n",
      " 5   Num_Credit_Card           65143 non-null  int64  \n",
      " 6   Interest_Rate             65143 non-null  int64  \n",
      " 7   Num_of_Loan               65143 non-null  int64  \n",
      " 8   Delay_from_due_date       65143 non-null  int64  \n",
      " 9   Num_of_Delayed_Payment    65143 non-null  float64\n",
      " 10  Changed_Credit_Limit      65143 non-null  float64\n",
      " 11  Num_Credit_Inquiries      65143 non-null  float64\n",
      " 12  Credit_Mix                65143 non-null  int64  \n",
      " 13  Outstanding_Debt          65143 non-null  float64\n",
      " 14  Credit_Utilization_Ratio  65143 non-null  float64\n",
      " 15  Credit_History_Age        65143 non-null  float64\n",
      " 16  Payment_of_Min_Amount     65143 non-null  int64  \n",
      " 17  Total_EMI_per_month       65143 non-null  float64\n",
      " 18  Amount_invested_monthly   65143 non-null  float64\n",
      " 19  Payment_Behaviour         65143 non-null  int64  \n",
      " 20  Monthly_Balance           65143 non-null  float64\n",
      " 21  Credit_Score              65143 non-null  int64  \n",
      " 22  Home Equity Loan          65143 non-null  int64  \n",
      " 23  Credit-Builder Loan       65143 non-null  int64  \n",
      " 24  Not Specified             65143 non-null  int64  \n",
      " 25  Payday Loan               65143 non-null  int64  \n",
      " 26  Debt Consolidation Loan   65143 non-null  int64  \n",
      " 27  Mortgage Loan             65143 non-null  int64  \n",
      " 28  Auto Loan                 65143 non-null  int64  \n",
      " 29  Personal Loan             65143 non-null  int64  \n",
      " 30  Student Loan              65143 non-null  int64  \n",
      "dtypes: float64(11), int64(20)\n",
      "memory usage: 15.4 MB\n"
     ]
    }
   ],
   "source": [
    "df = pd.read_csv(\"./dataset.csv\", sep = \",\" , encoding = \"utf-8\")\n",
    "df.info()"
   ]
  },
  {
   "cell_type": "code",
   "execution_count": 23,
   "metadata": {},
   "outputs": [],
   "source": [
    "labels = ['Poor', 'Standard', 'Good']"
   ]
  },
  {
   "cell_type": "code",
   "execution_count": 24,
   "metadata": {},
   "outputs": [
    {
     "name": "stdout",
     "output_type": "stream",
     "text": [
      "(52114, 30) (52114,)\n"
     ]
    }
   ],
   "source": [
    "X = df.drop(['Credit_Score'], axis=1)\n",
    "y = df['Credit_Score']\n",
    "X = np.array(X)\n",
    "y = np.array(y)\n",
    "\n",
    "X_train, X_test, y_train, y_test = train_test_split(X, y, test_size=0.2, stratify=y, random_state=36)\n",
    "\n",
    "print(X_train.shape, y_train.shape)"
   ]
  },
  {
   "cell_type": "code",
   "execution_count": 25,
   "metadata": {},
   "outputs": [
    {
     "data": {
      "text/plain": [
       "array([0.28949994, 0.53377211, 0.17672794])"
      ]
     },
     "execution_count": 25,
     "metadata": {},
     "output_type": "execute_result"
    }
   ],
   "source": [
    "unique, counts = np.unique(y_train, return_counts=True)\n",
    "pfunct = np.vectorize(lambda x: x/len(y_train))\n",
    "pfunct(counts)"
   ]
  },
  {
   "cell_type": "code",
   "execution_count": 26,
   "metadata": {},
   "outputs": [
    {
     "data": {
      "text/plain": [
       "array([0.28950802, 0.53373244, 0.17675954])"
      ]
     },
     "execution_count": 26,
     "metadata": {},
     "output_type": "execute_result"
    }
   ],
   "source": [
    "unique, counts = np.unique(y_test, return_counts=True)\n",
    "pfunct = np.vectorize(lambda x: x/len(y_test))\n",
    "pfunct(counts)"
   ]
  },
  {
   "cell_type": "markdown",
   "metadata": {},
   "source": [
    "# Sử dụng Decision Tree"
   ]
  },
  {
   "cell_type": "code",
   "execution_count": 27,
   "metadata": {},
   "outputs": [
    {
     "name": "stdout",
     "output_type": "stream",
     "text": [
      "               Predict Poor  Predict Standard  Predict Good\n",
      "True Poor              2537              1080           155\n",
      "True Standard          1174              4929           851\n",
      "True Good               176               807          1320\n",
      "              precision    recall  f1-score   support\n",
      "\n",
      "        Poor       0.65      0.67      0.66      3772\n",
      "    Standard       0.72      0.71      0.72      6954\n",
      "        Good       0.57      0.57      0.57      2303\n",
      "\n",
      "    accuracy                           0.67     13029\n",
      "   macro avg       0.65      0.65      0.65     13029\n",
      "weighted avg       0.68      0.67      0.67     13029\n",
      "\n"
     ]
    }
   ],
   "source": [
    "clf = DecisionTreeClassifier()\n",
    "clf = clf.fit(X_train, y_train)\n",
    "y_pred = clf.predict(X_test)\n",
    "print(pd.DataFrame(metrics.confusion_matrix(y_test, y_pred, labels=np.unique(y_test)), \n",
    "             index=['True ' + x for x in labels], \n",
    "             columns=['Predict ' + x for x in labels]))\n",
    "print(metrics.classification_report(y_test, y_pred, target_names=labels))"
   ]
  },
  {
   "attachments": {},
   "cell_type": "markdown",
   "metadata": {},
   "source": [
    "Độ chính xác khi sử dụng DecisionTree là khoảng 67%"
   ]
  },
  {
   "cell_type": "code",
   "execution_count": 28,
   "metadata": {},
   "outputs": [],
   "source": [
    "def cross_val_metrics(clf, X, y, cv=5):\n",
    "    accuracy = []\n",
    "    f1 = []\n",
    "    precision = []\n",
    "    recall = []\n",
    "    kf = StratifiedKFold(n_splits=cv, shuffle=True, random_state=36)\n",
    "    for train_idx, test_idx in kf.split(X, y):\n",
    "        X_train, X_test = X[train_idx], X[test_idx]\n",
    "        y_train, y_test = y[train_idx], y[test_idx]\n",
    "        clf.fit(X_train, y_train)\n",
    "        y_pred = clf.predict(X_test)\n",
    "        accuracy.append(metrics.accuracy_score(y_test, y_pred))\n",
    "        precision.append(metrics.precision_score(y_test, y_pred, average=None))\n",
    "        recall.append(metrics.recall_score(y_test, y_pred, average=None))\n",
    "        f1.append(metrics.f1_score(y_test, y_pred, average=None))\n",
    "    print(\"accuracy\", np.mean(accuracy))\n",
    "    print(\"precision\", np.mean(precision, axis=0))\n",
    "    print(\"recall\",np.mean(recall, axis=0))\n",
    "    print(\"f1\",np.mean(f1, axis=0))"
   ]
  },
  {
   "cell_type": "code",
   "execution_count": 29,
   "metadata": {},
   "outputs": [
    {
     "name": "stdout",
     "output_type": "stream",
     "text": [
      "accuracy 0.6766191066700761\n",
      "precision [0.66163695 0.7188689  0.57508937]\n",
      "recall [0.66159406 0.71643026 0.58099582]\n",
      "f1 [0.66159379 0.71763825 0.57799862]\n"
     ]
    }
   ],
   "source": [
    "cross_val_metrics(clf, X, y)"
   ]
  },
  {
   "attachments": {},
   "cell_type": "markdown",
   "metadata": {},
   "source": [
    "# Nhận xét về prototype 1\n",
    "\n",
    "## Điểm tốt\n",
    "+ Đã thực hiện shuffle dữ liệu trước khi phân thành train và test, tránh tình trạng dữ liệu bị biased(VD Train chỉ có dữ liệu mác good, test chỉ có dữ liệu mác standard) nhưng giữ được tỷ lệ các mác trong tập train và test.\n",
    "\n",
    "## Điểm xấu\n",
    "+ Quá trình phân tích và xử lý nhiễu mất mát nhiều dữ liệu(Có nhiều hàng dữ liệu dù chỉ trống một trường nhưng vẫn bị loại bỏ).\n",
    "+ Quá trình phân tích và xử lý dữ liệu chưa tính toán đến các dị điểm trong dữ liệu.\n",
    "+ Kết quả thu được chưa thực sự tốt ở nhãn Good (một phần do số lượng các bản ghi mang nhãn Good thấp hơn đáng kể so với các nhãn còn lại)"
   ]
  }
 ],
 "metadata": {
  "colab": {
   "provenance": []
  },
  "kernelspec": {
   "display_name": "Python 3 (ipykernel)",
   "language": "python",
   "name": "python3"
  },
  "language_info": {
   "codemirror_mode": {
    "name": "ipython",
    "version": 3
   },
   "file_extension": ".py",
   "mimetype": "text/x-python",
   "name": "python",
   "nbconvert_exporter": "python",
   "pygments_lexer": "ipython3",
   "version": "3.10.6"
  },
  "vscode": {
   "interpreter": {
    "hash": "369f2c481f4da34e4445cda3fffd2e751bd1c4d706f27375911949ba6bb62e1c"
   }
  }
 },
 "nbformat": 4,
 "nbformat_minor": 1
}
