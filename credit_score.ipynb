{
  "cells": [
    {
      "cell_type": "code",
      "execution_count": 3,
      "metadata": {
        "id": "uCt3OI-V2GGZ"
      },
      "outputs": [],
      "source": [
        "import pandas as pd\n",
        "import numpy as np"
      ]
    },
    {
      "cell_type": "code",
      "execution_count": 4,
      "metadata": {
        "colab": {
          "base_uri": "https://localhost:8080/"
        },
        "id": "4pUUBEDi64Vk",
        "outputId": "4e1cedfc-a3b6-45b8-ee42-8d5f15166566"
      },
      "outputs": [
        {
          "name": "stderr",
          "output_type": "stream",
          "text": [
            "C:\\Users\\ngova\\AppData\\Local\\Temp\\ipykernel_3164\\367072628.py:1: DtypeWarning: Columns (27) have mixed types. Specify dtype option on import or set low_memory=False.\n",
            "  train_df = pd.read_csv(\"./clean_credit_score_classification.csv\")\n"
          ]
        }
      ],
      "source": [
        "train_df = pd.read_csv(\"./clean_credit_score_classification.csv\")"
      ]
    },
    {
      "cell_type": "code",
      "execution_count": 5,
      "metadata": {
        "colab": {
          "base_uri": "https://localhost:8080/"
        },
        "id": "T0jkPTKa7T_k",
        "outputId": "712e319e-dc03-411a-afdd-a3cce7dd530a"
      },
      "outputs": [
        {
          "name": "stdout",
          "output_type": "stream",
          "text": [
            "<class 'pandas.core.frame.DataFrame'>\n",
            "RangeIndex: 150000 entries, 0 to 149999\n",
            "Data columns (total 28 columns):\n",
            " #   Column                    Non-Null Count   Dtype  \n",
            "---  ------                    --------------   -----  \n",
            " 0   ID                        150000 non-null  int64  \n",
            " 1   Customer_ID               150000 non-null  int64  \n",
            " 2   Month                     150000 non-null  int64  \n",
            " 3   Name                      150000 non-null  object \n",
            " 4   Age                       150000 non-null  float64\n",
            " 5   SSN                       150000 non-null  float64\n",
            " 6   Occupation                150000 non-null  object \n",
            " 7   Annual_Income             150000 non-null  float64\n",
            " 8   Monthly_Inhand_Salary     150000 non-null  float64\n",
            " 9   Num_Bank_Accounts         150000 non-null  float64\n",
            " 10  Num_Credit_Card           150000 non-null  float64\n",
            " 11  Interest_Rate             150000 non-null  float64\n",
            " 12  Num_of_Loan               150000 non-null  float64\n",
            " 13  Type_of_Loan              150000 non-null  object \n",
            " 14  Delay_from_due_date       150000 non-null  float64\n",
            " 15  Num_of_Delayed_Payment    150000 non-null  float64\n",
            " 16  Changed_Credit_Limit      150000 non-null  float64\n",
            " 17  Num_Credit_Inquiries      150000 non-null  float64\n",
            " 18  Credit_Mix                150000 non-null  object \n",
            " 19  Outstanding_Debt          150000 non-null  float64\n",
            " 20  Credit_Utilization_Ratio  150000 non-null  float64\n",
            " 21  Credit_History_Age        150000 non-null  float64\n",
            " 22  Payment_of_Min_Amount     150000 non-null  object \n",
            " 23  Total_EMI_per_month       150000 non-null  float64\n",
            " 24  Amount_invested_monthly   150000 non-null  float64\n",
            " 25  Payment_Behaviour         150000 non-null  object \n",
            " 26  Monthly_Balance           150000 non-null  float64\n",
            " 27  Credit_Score              100000 non-null  object \n",
            "dtypes: float64(18), int64(3), object(7)\n",
            "memory usage: 32.0+ MB\n"
          ]
        }
      ],
      "source": [
        "train_df.info()"
      ]
    },
    {
      "cell_type": "code",
      "execution_count": 6,
      "metadata": {
        "id": "mqehKMJg8_0u"
      },
      "outputs": [],
      "source": [
        "train_df.drop(['ID', 'Customer_ID', 'Name', 'SSN', 'Type_of_Loan'], axis=1, inplace=True)\n",
        "train_df.dropna(inplace=True)\n",
        "train_df.drop_duplicates(train_df.drop('Credit_Score', axis=1).columns,inplace=True)"
      ]
    },
    {
      "cell_type": "code",
      "execution_count": 7,
      "metadata": {
        "id": "Rjx38mg69dHT"
      },
      "outputs": [],
      "source": [
        "train_df['Credit_Score'] = train_df['Credit_Score'].astype('category')\n",
        "train_df['Occupation'] = train_df['Occupation'].astype('category').cat.codes\n",
        "train_df['Credit_Mix'] = train_df['Credit_Mix'].astype('category').cat.codes\n",
        "train_df['Payment_Behaviour'] = train_df['Payment_Behaviour'].astype('category').cat.codes\n",
        "train_df['Payment_of_Min_Amount'] = train_df['Payment_of_Min_Amount'].astype('category').cat.codes"
      ]
    },
    {
      "cell_type": "code",
      "execution_count": 8,
      "metadata": {
        "colab": {
          "base_uri": "https://localhost:8080/",
          "height": 293
        },
        "id": "cE2KaYxxAMCW",
        "outputId": "ccafa8ea-b783-4dbe-cf75-ff4535b082cf"
      },
      "outputs": [
        {
          "data": {
            "text/plain": [
              "<AxesSubplot:xlabel='Month'>"
            ]
          },
          "execution_count": 8,
          "metadata": {},
          "output_type": "execute_result"
        },
        {
          "data": {
            "image/png": "[encoded data removed]",
            "text/plain": [
              "<Figure size 640x480 with 1 Axes>"
            ]
          },
          "metadata": {},
          "output_type": "display_data"
        }
      ],
      "source": [
        "pd.crosstab(train_df['Month'], train_df['Credit_Score']).plot.bar()"
      ]
    },
    {
      "cell_type": "code",
      "execution_count": 9,
      "metadata": {
        "id": "HgEqJqSCBfgd"
      },
      "outputs": [],
      "source": [
        "train_df.drop('Month', axis=1, inplace=True)"
      ]
    },
    {
      "cell_type": "code",
      "execution_count": 10,
      "metadata": {
        "id": "WAfQ3AV0HHZY"
      },
      "outputs": [],
      "source": [
        "from sklearn.model_selection import train_test_split\n",
        "from sklearn.tree import DecisionTreeClassifier\n",
        "from sklearn.ensemble import RandomForestClassifier\n",
        "from sklearn import metrics"
      ]
    },
    {
      "cell_type": "code",
      "execution_count": 11,
      "metadata": {
        "id": "IIw9NDavH0AW"
      },
      "outputs": [],
      "source": [
        "X = train_df.drop('Credit_Score', axis=1)\n",
        "y = train_df['Credit_Score'].cat.codes\n",
        "X = np.array(X)\n",
        "y = np.array(y)\n",
        "X_train, X_test, y_train, y_test = train_test_split(X, y, test_size=0.2, random_state=36)"
      ]
    },
    {
      "cell_type": "code",
      "execution_count": 12,
      "metadata": {
        "id": "yvh3DDTdIKIw"
      },
      "outputs": [],
      "source": [
        "unique, counts = np.unique(y_train, return_counts=True)\n",
        "y_dict = dict(zip(unique, counts))\n",
        "class_weight = {0: 1 - y_dict[0]/len(y_train), 1: 1 - y_dict[1]/len(y_train), 2: 1 - y_dict[2]/len(y_train)}\n",
        "#clf = RandomForestClassifier(n_estimators=100, criterion='gini', n_jobs=-1, verbose=100)\n",
        "clf = DecisionTreeClassifier(criterion='gini', class_weight=None, random_state=36)\n",
        "clf = clf.fit(X_train,y_train)\n",
        "y_pred = clf.predict(X_test)"
      ]
    },
    {
      "cell_type": "code",
      "execution_count": 13,
      "metadata": {
        "colab": {
          "base_uri": "https://localhost:8080/",
          "height": 161
        },
        "id": "2p4GYwdMN9xA",
        "outputId": "f1ad2c2b-3358-49a9-d601-c2d3855b4dbf"
      },
      "outputs": [
        {
          "name": "stdout",
          "output_type": "stream",
          "text": [
            "Accuracy: 0.73\n"
          ]
        },
        {
          "data": {
            "text/html": [
              "<div>\n",
              "<style scoped>\n",
              "    .dataframe tbody tr th:only-of-type {\n",
              "        vertical-align: middle;\n",
              "    }\n",
              "\n",
              "    .dataframe tbody tr th {\n",
              "        vertical-align: top;\n",
              "    }\n",
              "\n",
              "    .dataframe thead th {\n",
              "        text-align: right;\n",
              "    }\n",
              "</style>\n",
              "<table border=\"1\" class=\"dataframe\">\n",
              "  <thead>\n",
              "    <tr style=\"text-align: right;\">\n",
              "      <th></th>\n",
              "      <th>Predict Good</th>\n",
              "      <th>Predict Poor</th>\n",
              "      <th>Predict Standard</th>\n",
              "    </tr>\n",
              "  </thead>\n",
              "  <tbody>\n",
              "    <tr>\n",
              "      <th>True Good</th>\n",
              "      <td>2393</td>\n",
              "      <td>110</td>\n",
              "      <td>1121</td>\n",
              "    </tr>\n",
              "    <tr>\n",
              "      <th>True Poor</th>\n",
              "      <td>76</td>\n",
              "      <td>4214</td>\n",
              "      <td>1539</td>\n",
              "    </tr>\n",
              "    <tr>\n",
              "      <th>True Standard</th>\n",
              "      <td>1041</td>\n",
              "      <td>1513</td>\n",
              "      <td>7993</td>\n",
              "    </tr>\n",
              "  </tbody>\n",
              "</table>\n",
              "</div>"
            ],
            "text/plain": [
              "               Predict Good  Predict Poor  Predict Standard\n",
              "True Good              2393           110              1121\n",
              "True Poor                76          4214              1539\n",
              "True Standard          1041          1513              7993"
            ]
          },
          "execution_count": 13,
          "metadata": {},
          "output_type": "execute_result"
        }
      ],
      "source": [
        "print(\"Accuracy:\",metrics.accuracy_score(y_test, y_pred))\n",
        "\n",
        "labels = np.unique(y_test)\n",
        "pd.DataFrame(metrics.confusion_matrix(y_test, y_pred, labels=np.unique(y_test)), \n",
        "             index=['True ' + train_df['Credit_Score'].cat.categories[x] for x in labels], \n",
        "             columns=['Predict ' + train_df['Credit_Score'].cat.categories[x] for x in labels])"
      ]
    },
    {
      "cell_type": "code",
      "execution_count": 14,
      "metadata": {
        "colab": {
          "base_uri": "https://localhost:8080/"
        },
        "id": "899h2gA2frYv",
        "outputId": "519dfea4-c763-41e5-b90e-1df79334ddbf"
      },
      "outputs": [
        {
          "data": {
            "text/plain": [
              "{'Payment_of_Min_Amount': 0.006299684256148301,\n",
              " 'Num_of_Loan': 0.011178295389457154,\n",
              " 'Num_Bank_Accounts': 0.01787150614692196,\n",
              " 'Payment_Behaviour': 0.01886224543243979,\n",
              " 'Occupation': 0.02563467006769843,\n",
              " 'Num_Credit_Inquiries': 0.02580557107297826,\n",
              " 'Num_Credit_Card': 0.026156789976362043,\n",
              " 'Monthly_Inhand_Salary': 0.030889965489304033,\n",
              " 'Annual_Income': 0.031259898865039215,\n",
              " 'Num_of_Delayed_Payment': 0.034508895210116595,\n",
              " 'Age': 0.036062459659860435,\n",
              " 'Total_EMI_per_month': 0.04002040682674777,\n",
              " 'Monthly_Balance': 0.051143294461524685,\n",
              " 'Amount_invested_monthly': 0.052209196083615406,\n",
              " 'Interest_Rate': 0.05606913645734791,\n",
              " 'Changed_Credit_Limit': 0.05683245910414228,\n",
              " 'Credit_Utilization_Ratio': 0.05689873031850774,\n",
              " 'Delay_from_due_date': 0.0571464333262739,\n",
              " 'Credit_History_Age': 0.0758957497163488,\n",
              " 'Credit_Mix': 0.1163112075687238,\n",
              " 'Outstanding_Debt': 0.17294340457044155}"
            ]
          },
          "execution_count": 14,
          "metadata": {},
          "output_type": "execute_result"
        }
      ],
      "source": [
        "important_features = {}\n",
        "for name, value in zip(train_df.drop('Credit_Score', axis=1).columns, clf.feature_importances_):\n",
        "  important_features[name] = value\n",
        "important_features = dict(sorted(important_features.items(), key=lambda x: x[1]))\n",
        "important_features"
      ]
    },
    {
      "cell_type": "code",
      "execution_count": 15,
      "metadata": {},
      "outputs": [
        {
          "name": "stdout",
          "output_type": "stream",
          "text": [
            "0.73151\n"
          ]
        }
      ],
      "source": [
        "accurate = []\n",
        "\n",
        "from sklearn.model_selection import KFold\n",
        "kf = KFold(n_splits=5, random_state=36, shuffle=True)\n",
        "for train_idx, test_idx in kf.split(X):\n",
        "    X_train, X_test = X[train_idx], X[test_idx]\n",
        "    y_train, y_test = y[train_idx], y[test_idx]\n",
        "    clf = DecisionTreeClassifier(criterion='gini', class_weight=None, random_state=36)\n",
        "    clf = clf.fit(X_train, y_train)\n",
        "    y_pred = clf.predict(X_test)\n",
        "    accurate.append(metrics.accuracy_score(y_test, y_pred))\n",
        "\n",
        "print(np.mean(accurate))"
      ]
    },
    {
      "cell_type": "code",
      "execution_count": 16,
      "metadata": {},
      "outputs": [],
      "source": [
        "# for c in train_df.drop('Credit_Score', axis=1):\n",
        "#     X = train_df.drop(['Credit_Score', c], axis=1)\n",
        "#     y = train_df['Credit_Score'].cat.codes\n",
        "\n",
        "#     X = np.array(X)\n",
        "#     y = np.array(y)\n",
        "#     accurate = []\n",
        "\n",
        "#     from sklearn.model_selection import KFold\n",
        "#     kf = KFold(n_splits=5, random_state=36, shuffle=True)\n",
        "#     for train_idx, test_idx in kf.split(X):\n",
        "#         X_train, X_test = X[train_idx], X[test_idx]\n",
        "#         y_train, y_test = y[train_idx], y[test_idx]\n",
        "#         clf = DecisionTreeClassifier(criterion='gini', class_weight=None, random_state=36)\n",
        "#         clf = clf.fit(X_train, y_train)\n",
        "#         y_pred = clf.predict(X_test)\n",
        "#         accurate.append(metrics.accuracy_score(y_test, y_pred))\n",
        "        \n",
        "#     print(f\"{c}: {np.mean(accurate)}\")"
      ]
    },
    {
      "cell_type": "code",
      "execution_count": 18,
      "metadata": {},
      "outputs": [
        {
          "name": "stdout",
          "output_type": "stream",
          "text": [
            "0.8195\n"
          ]
        }
      ],
      "source": [
        "X = train_df.drop(['Credit_Score', 'Delay_from_due_date', 'Num_of_Delayed_Payment', \n",
        "'Credit_Utilization_Ratio', 'Amount_invested_monthly', 'Monthly_Balance', 'Num_of_Loan',\n",
        "'Changed_Credit_Limit', 'Num_Credit_Inquiries', 'Payment_of_Min_Amount', 'Payment_Behaviour'\n",
        "], axis=1)\n",
        "y = train_df['Credit_Score'].cat.codes\n",
        "\n",
        "X = np.array(X)\n",
        "y = np.array(y)\n",
        "accurate = []\n",
        "\n",
        "from sklearn.model_selection import KFold\n",
        "kf = KFold(n_splits=5, random_state=36, shuffle=True)\n",
        "for train_idx, test_idx in kf.split(X):\n",
        "    X_train, X_test = X[train_idx], X[test_idx]\n",
        "    y_train, y_test = y[train_idx], y[test_idx]\n",
        "    clf = DecisionTreeClassifier(criterion='gini', class_weight=None, random_state=36)\n",
        "    clf = clf.fit(X_train, y_train)\n",
        "    y_pred = clf.predict(X_test)\n",
        "    accurate.append(metrics.accuracy_score(y_test, y_pred))\n",
        "\n",
        "print(np.mean(accurate))"
      ]
    }
  ],
  "metadata": {
    "colab": {
      "provenance": []
    },
    "kernelspec": {
      "display_name": "Python 3.10.6 64-bit",
      "language": "python",
      "name": "python3"
    },
    "language_info": {
      "codemirror_mode": {
        "name": "ipython",
        "version": 3
      },
      "file_extension": ".py",
      "mimetype": "text/x-python",
      "name": "python",
      "nbconvert_exporter": "python",
      "pygments_lexer": "ipython3",
      "version": "3.10.6"
    },
    "vscode": {
      "interpreter": {
        "hash": "369f2c481f4da34e4445cda3fffd2e751bd1c4d706f27375911949ba6bb62e1c"
      }
    }
  },
  "nbformat": 4,
  "nbformat_minor": 0
}
