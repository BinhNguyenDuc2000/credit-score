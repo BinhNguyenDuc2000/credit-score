{
 "cells": [
  {
   "cell_type": "code",
   "execution_count": 5,
   "metadata": {},
   "outputs": [],
   "source": [
    "import pickle\n",
    "from sklearn.tree import export_text\n",
    "import pandas as pd\n",
    "import numpy as np"
   ]
  },
  {
   "cell_type": "code",
   "execution_count": 6,
   "metadata": {},
   "outputs": [],
   "source": [
    "filename = 'model_n.pkl'\n",
    "with open(filename, 'rb') as file:\n",
    "    clf = pickle.load(file)"
   ]
  },
  {
   "cell_type": "code",
   "execution_count": 51,
   "metadata": {},
   "outputs": [
    {
     "name": "stdout",
     "output_type": "stream",
     "text": [
      "Month: 0.03196615007303027\n",
      "Age: 0.031236847087825433\n",
      "Occupation: 0.024377562539120764\n",
      "Annual_Income: 0.0354540924535233\n",
      "Monthly_Inhand_Salary: 0.03507783978295925\n",
      "Num_Bank_Accounts: 0.029126864144203225\n",
      "Num_Credit_Card: 0.039292534119632586\n",
      "Interest_Rate: 0.08570579350126804\n",
      "Num_of_Loan: 0.02165301999750889\n",
      "Delay_from_due_date: 0.05129154854029239\n",
      "Num_of_Delayed_Payment: 0.038045765380553445\n",
      "Changed_Credit_Limit: 0.04880619459499162\n",
      "Num_Credit_Inquiries: 0.04208486519598116\n",
      "Credit_Mix: 0.0597433255113575\n",
      "Outstanding_Debt: 0.10844071165959701\n",
      "Credit_Utilization_Ratio: 0.03767380623689618\n",
      "Credit_History_Age: 0.055332259942104056\n",
      "Payment_of_Min_Amount: 0.02286384967887767\n",
      "Total_EMI_per_month: 0.03562940383871763\n",
      "Amount_invested_monthly: 0.03783467366430675\n",
      "Payment_Behaviour: 0.019612652117719214\n",
      "Monthly_Balance: 0.037946520081144235\n",
      "Auto Loan: 0.007825350651444334\n",
      "Payday Loan: 0.008094494060825016\n",
      "Credit-Builder Loan: 0.007992685953796923\n",
      "Not Specified: 0.007704821282389352\n",
      "Mortgage Loan: 0.007639005652251423\n",
      "Student Loan: 0.007948747447918741\n",
      "Personal Loan: 0.007988844059616175\n",
      "Home Equity Loan: 0.007824753897999207\n",
      "Debt Consolidation Loan: 0.007785016852148299\n"
     ]
    }
   ],
   "source": [
    "for name, value in zip(clf.features, clf.feature_importances_):\n",
    "  print(f'{name}: {value}')"
   ]
  },
  {
   "cell_type": "code",
   "execution_count": 8,
   "metadata": {},
   "outputs": [],
   "source": [
    "df = pd.read_csv(\"./clean_train.csv\")\n",
    "X = df[clf.features]\n",
    "X = np.array(X)"
   ]
  },
  {
   "cell_type": "code",
   "execution_count": 57,
   "metadata": {},
   "outputs": [],
   "source": [
    "def explain(clf, X_test):\n",
    "    proba = clf.predict_proba(X_test)\n",
    "    classes = clf.predict(X_test)\n",
    "    node_indicator, node_start = clf.decision_path(X_test)\n",
    "    leaf_id = clf.apply(X_test)[0]\n",
    "    \n",
    "\n",
    "    for sample_id in range(len(X_test)):\n",
    "        print(f\"Sample {sample_id}:\")\n",
    "        print(f\"Predict proba:\")\n",
    "        for i, c in enumerate(clf.labels):\n",
    "            print(f\"{c}: {proba[sample_id][i]}\")\n",
    "        output_tree_index = [i for i in range(clf.n_estimators) if classes[sample_id] == clf.estimators_[i].predict(X[sample_id:sample_id+1])[0]]\n",
    "        tree_index = output_tree_index[0]\n",
    "        n_nodes = clf.estimators_[tree_index].tree_.node_count\n",
    "        feature = clf.estimators_[tree_index].tree_.feature\n",
    "        threshold = clf.estimators_[tree_index].tree_.threshold\n",
    "\n",
    "        node_index = node_indicator.indices[\n",
    "            node_indicator.indptr[sample_id] : node_indicator.indptr[sample_id + 1]\n",
    "        ]\n",
    "        if tree_index != clf.n_estimators-1:\n",
    "            node_index = [x for x in node_index if x >= node_start[tree_index] and x < node_start[tree_index+1]]\n",
    "        else:\n",
    "            node_index = [x for x in node_index if x >= node_start[tree_index]]\n",
    "\n",
    "        print(f'Sample {sample_id} is {clf.labels[classes[sample_id]]}')\n",
    "        print(f\"Decision path of a {clf.labels[classes[sample_id]]} class tree:\")\n",
    "        for node_id in node_index:\n",
    "            node_id = node_id - node_start[tree_index]\n",
    "            # continue to the next node if it is a leaf node\n",
    "            if leaf_id[sample_id] == node_id:\n",
    "                continue\n",
    "\n",
    "            # check if value of the split feature for sample 0 is below threshold\n",
    "            if X_test[sample_id, feature[node_id]] <= threshold[node_id]:\n",
    "                threshold_sign = \"<=\"\n",
    "            else:\n",
    "                threshold_sign = \">\"\n",
    "            print(\n",
    "                \"Decision node {node} : (X_test[{sample}, {feature}] = {value}) \"\n",
    "                \"{inequality} {threshold})\".format(\n",
    "                    node=node_id,\n",
    "                    sample=sample_id,\n",
    "                    feature=clf.features[feature[node_id]],\n",
    "                    value=X_test[sample_id, feature[node_id]],\n",
    "                    inequality=threshold_sign,\n",
    "                    threshold=threshold[node_id],\n",
    "                )\n",
    "            )\n",
    "        print()\n",
    "        "
   ]
  },
  {
   "cell_type": "code",
   "execution_count": 58,
   "metadata": {},
   "outputs": [
    {
     "name": "stdout",
     "output_type": "stream",
     "text": [
      "Sample 0:\n",
      "Predict proba:\n",
      "Poor: 0.03\n",
      "Standard: 0.78\n",
      "Good: 0.19\n",
      "Sample 0 is Standard\n",
      "Decision path of a Standard class tree:\n",
      "Decision node 0 : (X_test[0, Num_of_Loan] = 1.0) <= 4.5)\n",
      "Decision node 1 : (X_test[0, Num_Credit_Card] = 4.0) > 2.5)\n",
      "Decision node 811 : (X_test[0, Credit_Mix] = 3.0) > 1.5)\n",
      "Decision node 5937 : (X_test[0, Credit_Mix] = 3.0) > 2.5)\n",
      "Decision node 11425 : (X_test[0, Outstanding_Debt] = 605.03) <= 1485.9549560546875)\n",
      "Decision node 11426 : (X_test[0, Interest_Rate] = 6.0) <= 12.5)\n",
      "Decision node 11427 : (X_test[0, Interest_Rate] = 6.0) > 4.5)\n",
      "Decision node 11965 : (X_test[0, Payment_of_Min_Amount] = 0.0) <= 0.5)\n",
      "Decision node 11966 : (X_test[0, Num_Bank_Accounts] = 2.0) <= 4.5)\n",
      "Decision node 11967 : (X_test[0, Personal Loan] = 0.0) <= 1.5)\n",
      "Decision node 11968 : (X_test[0, Credit_History_Age] = 321.0) > 264.5)\n",
      "Decision node 12196 : (X_test[0, Monthly_Balance] = 466.46647639764313) > 32.11900520324707)\n",
      "Decision node 12202 : (X_test[0, Age] = 28.0) > 21.5)\n",
      "Decision node 12242 : (X_test[0, Num_of_Delayed_Payment] = -1.0) <= 0.5)\n",
      "Decision node 12243 : (X_test[0, Num_Credit_Card] = 4.0) > 3.5)\n",
      "Decision node 12257 : (X_test[0, Total_EMI_per_month] = 18.816214573128885) > 11.493619441986084)\n",
      "Decision node 12259 : (X_test[0, Interest_Rate] = 6.0) <= 8.5)\n",
      "Decision node 12260 : (X_test[0, Outstanding_Debt] = 605.03) <= 1216.5199584960938)\n",
      "Decision node 12261 : (X_test[0, Amount_invested_monthly] = 58.51597569589465) <= 83.33263397216797)\n",
      "Decision node 12262 : (X_test[0, Month] = 3.0) <= 5.5)\n",
      "Decision node 12263 : (X_test[0, Num_of_Loan] = 1.0) <= 1.5)\n",
      "Decision node 12264 : (X_test[0, Home Equity Loan] = 0.0) > -2.0)\n",
      "\n",
      "Sample 1:\n",
      "Predict proba:\n",
      "Poor: 0.0\n",
      "Standard: 0.13\n",
      "Good: 0.87\n",
      "Sample 1 is Good\n",
      "Decision path of a Good class tree:\n",
      "Decision node 0 : (X_test[1, Interest_Rate] = 6.0) <= 20.5)\n",
      "Decision node 1 : (X_test[1, Outstanding_Debt] = 605.03) <= 1500.5549926757812)\n",
      "Decision node 2 : (X_test[1, Num_of_Delayed_Payment] = 3.0) <= 7.5)\n",
      "Decision node 3 : (X_test[1, Delay_from_due_date] = 3.0) <= 15.5)\n",
      "Decision node 4 : (X_test[1, Num_Credit_Inquiries] = 2.0) <= 5.5)\n",
      "Decision node 5 : (X_test[1, Num_Bank_Accounts] = 2.0) <= 4.5)\n",
      "Decision node 6 : (X_test[1, Outstanding_Debt] = 605.03) <= 1272.5499877929688)\n",
      "Decision node 7 : (X_test[1, Monthly_Inhand_Salary] = 3037.986666666666) <= 7045.29833984375)\n",
      "Decision node 8 : (X_test[1, Personal Loan] = 0.0) <= 0.5)\n",
      "Decision node 9 : (X_test[1, Credit_Mix] = 2.0) > 1.5)\n",
      "Decision node 11 : (X_test[1, Annual_Income] = 34847.84) > 18188.724609375)\n",
      "Decision node 159 : (X_test[1, Total_EMI_per_month] = 18.816214573128885) > 15.493813514709473)\n",
      "Decision node 221 : (X_test[1, Credit_History_Age] = 322.0) <= 378.5)\n",
      "Decision node 222 : (X_test[1, Num_Credit_Card] = 4.0) <= 5.5)\n",
      "Decision node 223 : (X_test[1, Num_Bank_Accounts] = 2.0) > 0.5)\n",
      "Decision node 361 : (X_test[1, Monthly_Inhand_Salary] = 3037.986666666666) <= 6916.0693359375)\n",
      "Decision node 362 : (X_test[1, Monthly_Inhand_Salary] = 3037.986666666666) <= 5423.530029296875)\n",
      "Decision node 363 : (X_test[1, Num_Credit_Card] = 4.0) > 2.5)\n",
      "Decision node 465 : (X_test[1, Monthly_Inhand_Salary] = 3037.986666666666) <= 5152.96923828125)\n",
      "Decision node 466 : (X_test[1, Annual_Income] = 34847.84) <= 41511.810546875)\n",
      "Decision node 467 : (X_test[1, Interest_Rate] = 6.0) <= 8.5)\n",
      "Decision node 468 : (X_test[1, Home Equity Loan] = 0.0) <= 1.5)\n",
      "Decision node 469 : (X_test[1, Payday Loan] = 0.0) <= 1.5)\n",
      "Decision node 470 : (X_test[1, Num_Credit_Inquiries] = 2.0) <= 3.5)\n",
      "Decision node 471 : (X_test[1, Num_Credit_Inquiries] = 2.0) > 1.5)\n",
      "Decision node 519 : (X_test[1, Num_of_Delayed_Payment] = 3.0) > 1.5)\n",
      "Decision node 551 : (X_test[1, Total_EMI_per_month] = 18.816214573128885) <= 36.210917472839355)\n",
      "Decision node 552 : (X_test[1, Outstanding_Debt] = 605.03) > 566.4100036621094)\n",
      "Decision node 564 : (X_test[1, Age] = 28.0) <= 43.5)\n",
      "Decision node 565 : (X_test[1, Home Equity Loan] = 0.0) > -2.0)\n",
      "\n"
     ]
    }
   ],
   "source": [
    "explain(clf, X[10:12])"
   ]
  }
 ],
 "metadata": {
  "kernelspec": {
   "display_name": "Python 3.10.6 64-bit",
   "language": "python",
   "name": "python3"
  },
  "language_info": {
   "codemirror_mode": {
    "name": "ipython",
    "version": 3
   },
   "file_extension": ".py",
   "mimetype": "text/x-python",
   "name": "python",
   "nbconvert_exporter": "python",
   "pygments_lexer": "ipython3",
   "version": "3.10.6 (tags/v3.10.6:9c7b4bd, Aug  1 2022, 21:53:49) [MSC v.1932 64 bit (AMD64)]"
  },
  "orig_nbformat": 4,
  "vscode": {
   "interpreter": {
    "hash": "369f2c481f4da34e4445cda3fffd2e751bd1c4d706f27375911949ba6bb62e1c"
   }
  }
 },
 "nbformat": 4,
 "nbformat_minor": 2
}
